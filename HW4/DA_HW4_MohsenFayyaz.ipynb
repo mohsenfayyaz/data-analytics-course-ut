{
  "cells": [
    {
      "cell_type": "markdown",
      "metadata": {
        "id": "PtKcpEMzoJbe"
      },
      "source": [
        "<div style=\"display:block\" direction=rtl align=right><br><br>\n",
        "    <div  style=\"width:100%;margin:100;display:block\"  display=block align=center>\n",
        "        <img width=130 align=right src=\"https://i.ibb.co/yXKQmtZ/logo1.png\" style=\"margin:0;\" />\n",
        "        <img width=170 align=left  src=\"https://i.ibb.co/wLjqFkw/logo2.png\" style=\"margin:0;\" />\n",
        "        <span><br><font size=5>University of Tehran , school of ECE</font></span>\n",
        "        <span><br><font size=3>Data Analytics Course</font></span>\n",
        "        <span><br><font size=3>Fall 2022</font></span>\n",
        "    </div><br><br><br>\n",
        "    <div style=\"display:block\" align=left display=block> \n",
        "        <font size=3>Homework 4</font><br>\n",
        "        <hr />\n",
        "        <font size=3>TA: <a href=\"mailto:p.zilouchian@ut.ac.ir\">Parham Zilouchian</a><br></font><br>\n",
        "    </div>\n",
        "</div>"
      ]
    },
    {
      "cell_type": "markdown",
      "metadata": {
        "id": "u1tqLWgNoJbi"
      },
      "source": [
        "# **Working with Database Systems**"
      ]
    },
    {
      "cell_type": "markdown",
      "metadata": {
        "id": "IZr8AKLdojlO"
      },
      "source": [
        "## **Part1 - EDA and Visualization**"
      ]
    },
    {
      "cell_type": "markdown",
      "metadata": {
        "id": "3LATlXmarB4K"
      },
      "source": [
        "#### **Section 1. Just some points :)**"
      ]
    },
    {
      "cell_type": "code",
      "execution_count": null,
      "metadata": {
        "id": "CvIGYwp6rCC_"
      },
      "outputs": [],
      "source": []
    },
    {
      "cell_type": "markdown",
      "metadata": {
        "id": "pzt5ux-prN9t"
      },
      "source": [
        "#### **Section 2. Write Query using Psycopg2**\n",
        "\n",
        "```\n",
        "# This is formatted as code\n",
        "```\n",
        "\n"
      ]
    },
    {
      "cell_type": "code",
      "execution_count": null,
      "metadata": {
        "id": "ah5yNbuWrrm6"
      },
      "outputs": [],
      "source": []
    },
    {
      "cell_type": "markdown",
      "metadata": {
        "id": "_P8tauZfrryg"
      },
      "source": [
        "##### **a. Total births**"
      ]
    },
    {
      "cell_type": "code",
      "execution_count": null,
      "metadata": {
        "id": "9VMZkADnr3jO"
      },
      "outputs": [],
      "source": []
    },
    {
      "cell_type": "markdown",
      "metadata": {
        "id": "Jgnz5Urxr335"
      },
      "source": [
        "##### **b. Total births divide by gender**"
      ]
    },
    {
      "cell_type": "code",
      "execution_count": null,
      "metadata": {
        "id": "yqL4Xj06sEcT"
      },
      "outputs": [],
      "source": []
    },
    {
      "cell_type": "markdown",
      "metadata": {
        "id": "fSIn86XjsEoF"
      },
      "source": [
        "##### **c. Most births in last five years**"
      ]
    },
    {
      "cell_type": "code",
      "execution_count": null,
      "metadata": {
        "id": "3GPqu0lKsnTg"
      },
      "outputs": [],
      "source": []
    },
    {
      "cell_type": "markdown",
      "metadata": {
        "id": "Vxm-ftnNsneR"
      },
      "source": [
        "##### **d. Least births in last five years**"
      ]
    },
    {
      "cell_type": "code",
      "execution_count": null,
      "metadata": {
        "id": "7Vy4t9nCs6zU"
      },
      "outputs": [],
      "source": []
    },
    {
      "cell_type": "markdown",
      "metadata": {
        "id": "CRqmmAeHs6_S"
      },
      "source": [
        "##### **e. Most Birth-rate**"
      ]
    },
    {
      "cell_type": "code",
      "execution_count": null,
      "metadata": {
        "id": "KPWNBtmBtTOz"
      },
      "outputs": [],
      "source": []
    },
    {
      "cell_type": "markdown",
      "metadata": {
        "id": "4ZdBspiPtTal"
      },
      "source": [
        "##### **f. Least Birth-rate**"
      ]
    },
    {
      "cell_type": "code",
      "execution_count": null,
      "metadata": {
        "id": "0f9bNjSNt_El"
      },
      "outputs": [],
      "source": []
    },
    {
      "cell_type": "markdown",
      "metadata": {
        "id": "1oa5m4K9vkwL"
      },
      "source": [
        "##### **g. Birth number and rate in each season!**"
      ]
    },
    {
      "cell_type": "code",
      "execution_count": null,
      "metadata": {
        "id": "JKgBVBr1v3FI"
      },
      "outputs": [],
      "source": []
    },
    {
      "cell_type": "markdown",
      "metadata": {
        "id": "muR6qA9qoq79"
      },
      "source": [
        "## **Part2 - Working with QGIS**"
      ]
    },
    {
      "cell_type": "markdown",
      "metadata": {
        "id": "sY79-KuKqjDz"
      },
      "source": [
        "#### **Section A: Load Data**"
      ]
    },
    {
      "cell_type": "code",
      "execution_count": null,
      "metadata": {
        "id": "x_ioHlx8qqBl"
      },
      "outputs": [],
      "source": []
    },
    {
      "cell_type": "markdown",
      "metadata": {
        "id": "kyvynTxaqjG-"
      },
      "source": [
        "#### **Section B: Answer Questions**"
      ]
    },
    {
      "cell_type": "code",
      "execution_count": null,
      "metadata": {
        "id": "tsmj9bqZq1xn"
      },
      "outputs": [],
      "source": []
    },
    {
      "cell_type": "code",
      "execution_count": null,
      "metadata": {
        "id": "vnvc_1cYq1z1"
      },
      "outputs": [],
      "source": []
    },
    {
      "cell_type": "code",
      "execution_count": null,
      "metadata": {
        "id": "49_YIPgcq129"
      },
      "outputs": [],
      "source": [
        "# PC"
      ]
    }
  ],
  "metadata": {
    "colab": {
      "provenance": []
    },
    "kernelspec": {
      "display_name": "Python 3.9.7 64-bit",
      "language": "python",
      "name": "python3"
    },
    "language_info": {
      "name": "python",
      "version": "3.9.7"
    },
    "orig_nbformat": 4,
    "vscode": {
      "interpreter": {
        "hash": "aee8b7b246df8f9039afb4144a1f6fd8d2ca17a180786b69acc140d282b71a49"
      }
    }
  },
  "nbformat": 4,
  "nbformat_minor": 0
}

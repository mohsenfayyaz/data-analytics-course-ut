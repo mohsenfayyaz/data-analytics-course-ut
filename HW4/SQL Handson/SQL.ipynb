{
 "cells": [
  {
   "cell_type": "markdown",
   "metadata": {},
   "source": [
    "# **Northwind Database:**\n",
    "\n",
    "The Northwind database is a sample database that was originally created by Microsoft and used as the basis for their tutorials in a variety of database products for decades. The Northwind database contains the sales data for a fictitious company called “Northwind Traders,” which imports and exports specialty foods from around the world. The Northwind database is an excellent tutorial schema for a small-business ERP, with customers, orders, inventory, purchasing, suppliers, shipping, employees, and single-entry accounting. The Northwind database has since been ported to a variety of non-Microsoft databases, including PostgreSQL.\n",
    "<br>\n",
    "The Northwind dataset includes sample data for the following.\n",
    "\n",
    "- Suppliers: Suppliers and vendors of Northwind\n",
    "- Customers: Customers who buy products from Northwind\n",
    "- Employees: Employee details of Northwind traders\n",
    "- Products: Product information\n",
    "- Shippers: The details of the shippers who ship the products from the traders to the end-customers\n",
    "- Orders and Order_Details: Sales Order transactions taking place between the customers & the company\n",
    "\n",
    "<br>\n",
    "\n",
    "The Northwind sample database includes 14 tables and the table relationships are showcased in the following entity relationship diagram.\n",
    "\n",
    "## **Northwind ER Diagram:**\n",
    "\n",
    "<br>\n",
    " <img src=\"imgs/Northwind_ERD.png\" width=\"900\" height=\"1300\">\n",
    "<br>"
   ]
  },
  {
   "cell_type": "markdown",
   "metadata": {},
   "source": [
    "### **Use SQL commands in Jupyter Notebook:**\n",
    "\n",
    "-  Install the extension by following command:\n",
    "\n",
    "```shell\n",
    "    python3 -m pip install ipython-sql\n",
    "```\n",
    "\n",
    "### **Using SQLAlchemy:**\n",
    "- It's an ORM (object-oriented-mapper)\n",
    "\n",
    "- SQLAlchemy: SQLAlchemy is the Python SQL toolkit and Object Relational Mapper giving application developers the full power and flexibility of SQL.\n",
    "<br>\n",
    "- Install the SQLAlchemy with pip:\n",
    "\n",
    "```shell\n",
    "    pip3 install SQLAlchemy\n",
    "```\n",
    "    pip install pyscopg2\n",
    "    \n",
    "- Install it using conda:\n",
    "```shell\n",
    "    conda create -n sql python\n",
    "    conda activate sql\n",
    "    conda install ipython-sql sqlalchemy psycopg2 notebook pandas -c conda-forge\n",
    "```"
   ]
  },
  {
   "cell_type": "markdown",
   "metadata": {},
   "source": [
    "## Sample HandsOn Questions:\n",
    "\n",
    "- Connecting to the Database:\n",
    "- Note: Give a limitation for your queries!"
   ]
  },
  {
   "cell_type": "code",
   "execution_count": null,
   "metadata": {},
   "outputs": [],
   "source": [
    "%load_ext sql\n",
    "\n",
    "hostname = \"localhost\"\n",
    "database = \"northwind\"\n",
    "user = \"postgres\"\n",
    "password = \"admin\"\n",
    "\n",
    "connection_string = f\"postgresql://{user}:{password}@{hostname}/{database}\"\n",
    "%sql $connection_string\n"
   ]
  },
  {
   "cell_type": "code",
   "execution_count": null,
   "metadata": {},
   "outputs": [],
   "source": [
    "%env DATABASE_URL=connection_string"
   ]
  },
  {
   "cell_type": "markdown",
   "metadata": {},
   "source": [
    "### Question-1:\n",
    "Q1: Write a query to get Product name and quantity/unit."
   ]
  },
  {
   "cell_type": "code",
   "execution_count": null,
   "metadata": {},
   "outputs": [],
   "source": [
    "%%sql\n",
    "\n",
    "select product_name, quantity_per_unit from products\n",
    "limit 10;"
   ]
  },
  {
   "cell_type": "markdown",
   "metadata": {},
   "source": [
    "### Question-2:\n",
    "Q2: Write a query to get current Product list (Product ID and name)."
   ]
  },
  {
   "cell_type": "code",
   "execution_count": null,
   "metadata": {},
   "outputs": [],
   "source": [
    "%%sql\n",
    "\n",
    "select product_id, product_name from products\n",
    "where discontinued = 0\n",
    "order by product_name\n",
    "limit 5;"
   ]
  },
  {
   "cell_type": "markdown",
   "metadata": {},
   "source": [
    "### Question-3:\n",
    "Q3: Write a query to get discontinued Product list (Product ID and name)."
   ]
  },
  {
   "cell_type": "code",
   "execution_count": null,
   "metadata": {},
   "outputs": [],
   "source": [
    "%%sql\n",
    "\n",
    "select product_id, product_name from products\n",
    "where discontinued = 1\n",
    "order by product_name\n",
    "limit 5;"
   ]
  },
  {
   "cell_type": "markdown",
   "metadata": {},
   "source": [
    "### Question-4:\n",
    "Q4: Write a query to get most expense and least expensive Product list (name and unit price)"
   ]
  },
  {
   "cell_type": "code",
   "execution_count": null,
   "metadata": {},
   "outputs": [],
   "source": [
    "%%sql\n",
    "select * from products\n",
    "limit 2;"
   ]
  },
  {
   "cell_type": "code",
   "execution_count": null,
   "metadata": {},
   "outputs": [],
   "source": [
    "%%sql\n",
    "\n",
    "select product_name, unit_price from products\n",
    "order by unit_price desc\n",
    "limit 10"
   ]
  },
  {
   "cell_type": "markdown",
   "metadata": {},
   "source": [
    "### Question-5:\n",
    "Q5: Write a query to get Product list (id, name, unit price) where current products cost less than $20."
   ]
  },
  {
   "cell_type": "code",
   "execution_count": null,
   "metadata": {},
   "outputs": [],
   "source": [
    "%%sql\n",
    "\n",
    "select product_id, product_name, unit_price from products\n",
    "where unit_price < 20\n",
    "and discontinued = 0\n",
    "order by unit_price desc\n",
    "limit 10"
   ]
  },
  {
   "cell_type": "markdown",
   "metadata": {},
   "source": [
    "### Question-6:\n",
    "Q6: Write a query to get Product list (id, name, unit price) where products cost between $15 and $25."
   ]
  },
  {
   "cell_type": "code",
   "execution_count": null,
   "metadata": {},
   "outputs": [],
   "source": [
    "%%sql\n",
    "\n",
    "select product_id, product_name, unit_price, discontinued from products\n",
    "where unit_price >= 15\n",
    "and unit_price <= 25\n",
    "and discontinued = 1\n",
    "order by unit_price\n",
    "limit 10;"
   ]
  },
  {
   "cell_type": "markdown",
   "metadata": {},
   "source": [
    "### Question-7:\n",
    "Q7: Write a query to get Product list (name, unit price) of above average price."
   ]
  },
  {
   "cell_type": "code",
   "execution_count": null,
   "metadata": {},
   "outputs": [],
   "source": [
    "%%sql\n",
    "\n",
    "select products.product_name, unit_price from products\n",
    "where unit_price >= (select avg(unit_price) from products)\n",
    "order by unit_price desc;"
   ]
  },
  {
   "cell_type": "markdown",
   "metadata": {},
   "source": [
    "### Question-8:\n",
    "Q8: Write a query to find how much the best selling products have sold (name, unit price)."
   ]
  },
  {
   "cell_type": "code",
   "execution_count": null,
   "metadata": {},
   "outputs": [],
   "source": [
    "%%sql\n",
    "\n",
    "select products.product_name, products.unit_price,\n",
    "        sum((order_details.unit_price - order_details.discount) * order_details.quantity) as  total_net_price\n",
    "from order_details\n",
    "inner join products\n",
    "on order_details.product_id = products.product_id\n",
    "GROUP BY products.product_id\n",
    "order by total_net_price desc"
   ]
  },
  {
   "cell_type": "markdown",
   "metadata": {},
   "source": [
    "### Question-9:\n",
    "Q9: Write a query to count current and discontinued products."
   ]
  },
  {
   "cell_type": "code",
   "execution_count": null,
   "metadata": {},
   "outputs": [],
   "source": [
    "%%sql\n",
    "\n",
    "select discontinued, count(product_id) as number  from products\n",
    "group by discontinued\n"
   ]
  },
  {
   "cell_type": "markdown",
   "metadata": {},
   "source": [
    "### Question-10:\n",
    "Q10: Write a query to get Product list (name, units on order , units in stock) of stock is less than the quantity on order."
   ]
  },
  {
   "cell_type": "code",
   "execution_count": null,
   "metadata": {},
   "outputs": [],
   "source": [
    "%%sql\n",
    "\n",
    "select product_name, units_on_order, units_in_stock from products\n",
    "where discontinued = 0\n",
    "and units_in_stock < units_on_order"
   ]
  },
  {
   "cell_type": "markdown",
   "metadata": {},
   "source": [
    "### Question-11:\n",
    "Q11: Write a query to get Product list (name, unit price) of twenty most expensive products."
   ]
  },
  {
   "cell_type": "code",
   "execution_count": null,
   "metadata": {},
   "outputs": [],
   "source": [
    "%%sql\n",
    "\n",
    "select distinct product_name as twenty_most_expensive, unit_price\n",
    "from products as a\n",
    "where 20 >= (select count(distinct unit_price)\n",
    "            from products as b\n",
    "            b.unit_price >= a.unit_price)\n",
    "order by unit_price desc\n",
    "limit 10"
   ]
  },
  {
   "cell_type": "markdown",
   "metadata": {},
   "source": [
    "## Pandas - SQLAlchemy"
   ]
  },
  {
   "cell_type": "code",
   "execution_count": null,
   "metadata": {},
   "outputs": [],
   "source": [
    "from sqlalchemy import create_engine, inspect\n",
    "\n",
    "hostname = \"localhost\"\n",
    "database = \"northwind\"\n",
    "user = \"postgres\"\n",
    "password = \"admin\"\n",
    "\n",
    "connection_string = f\"postgresql://{user}:{password}@{hostname}/{database}\"\n",
    "\n",
    "engine = create_engine(connection_string)\n",
    "\n",
    "\n",
    "insp = inspect(engine)\n",
    "insp.get_table_names()"
   ]
  },
  {
   "cell_type": "code",
   "execution_count": null,
   "metadata": {},
   "outputs": [],
   "source": [
    "%%sql\n",
    "\n",
    "select * from region\n",
    "limit 2;"
   ]
  },
  {
   "cell_type": "code",
   "execution_count": null,
   "metadata": {},
   "outputs": [],
   "source": [
    "import pandas as pd\n",
    "\n",
    "df = pd.read_sql(\"select * from products\", engine)"
   ]
  },
  {
   "cell_type": "code",
   "execution_count": null,
   "metadata": {},
   "outputs": [],
   "source": [
    "df.describe()"
   ]
  },
  {
   "cell_type": "markdown",
   "metadata": {},
   "source": [
    "### Question-12:\n",
    "Q12: Query the order ID, product name, and sales amount of each order of North China customers on December 1, 1996."
   ]
  },
  {
   "cell_type": "code",
   "execution_count": null,
   "metadata": {},
   "outputs": [],
   "source": []
  },
  {
   "cell_type": "markdown",
   "metadata": {},
   "source": [
    "### Question13:\n",
    "Q13: Query calculates sales price for each order after discount is applied."
   ]
  },
  {
   "cell_type": "code",
   "execution_count": null,
   "metadata": {},
   "outputs": [],
   "source": []
  },
  {
   "cell_type": "markdown",
   "metadata": {},
   "source": [
    "### Question-14:\n",
    "Q14: Query for getting the product names which have Unit Price greater than average"
   ]
  },
  {
   "cell_type": "code",
   "execution_count": null,
   "metadata": {},
   "outputs": [],
   "source": []
  },
  {
   "cell_type": "markdown",
   "metadata": {},
   "source": [
    "### Question-15:\n",
    "Q15: Query for getting group categories and products by quarters and shows sales amount for each quarter"
   ]
  },
  {
   "cell_type": "code",
   "execution_count": null,
   "metadata": {},
   "outputs": [],
   "source": []
  },
  {
   "cell_type": "markdown",
   "metadata": {},
   "source": [
    "### Question-16:\n",
    "Q16: Get the Number of units in stock by category and supplier continent"
   ]
  },
  {
   "cell_type": "code",
   "execution_count": null,
   "metadata": {},
   "outputs": [],
   "source": []
  },
  {
   "cell_type": "markdown",
   "metadata": {},
   "source": [
    "### Question-17:\n",
    "Q17: Query for showing total sales for each date in a month."
   ]
  },
  {
   "cell_type": "code",
   "execution_count": null,
   "metadata": {},
   "outputs": [],
   "source": []
  },
  {
   "cell_type": "markdown",
   "metadata": {},
   "source": [
    "### Question-18:\n",
    "Q18: Query for finding out the number of orders and products sold for each date in June 1997 and also the total number of orders and products sold for the entire month in June 1997."
   ]
  },
  {
   "cell_type": "code",
   "execution_count": null,
   "metadata": {},
   "outputs": [],
   "source": []
  },
  {
   "cell_type": "markdown",
   "metadata": {},
   "source": [
    "### Question-19:\n",
    "Q19: Query for calculating sales running total based on employee names within each product."
   ]
  },
  {
   "cell_type": "code",
   "execution_count": null,
   "metadata": {},
   "outputs": [],
   "source": []
  },
  {
   "cell_type": "markdown",
   "metadata": {},
   "source": [
    "### Question-20:\n",
    "Q20: Delete the shippers_duplicate table"
   ]
  }
 ],
 "metadata": {
  "kernelspec": {
   "display_name": "Python 3.10.8 64-bit",
   "language": "python",
   "name": "python3"
  },
  "language_info": {
   "codemirror_mode": {
    "name": "ipython",
    "version": 3
   },
   "file_extension": ".py",
   "mimetype": "text/x-python",
   "name": "python",
   "nbconvert_exporter": "python",
   "pygments_lexer": "ipython3",
   "version": "3.10.8"
  },
  "orig_nbformat": 4,
  "vscode": {
   "interpreter": {
    "hash": "b0fa6594d8f4cbf19f97940f81e996739fb7646882a419484c72d19e05852a7e"
   }
  }
 },
 "nbformat": 4,
 "nbformat_minor": 2
}

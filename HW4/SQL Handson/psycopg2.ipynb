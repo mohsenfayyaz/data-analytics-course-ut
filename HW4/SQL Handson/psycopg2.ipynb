{
 "cells": [
  {
   "cell_type": "markdown",
   "metadata": {},
   "source": [
    "## DBMS (Database Management System):\n",
    "It is a software used to define, manipulate, retrieve, store and manage data in database.\n",
    "\n",
    "- Defining rules to validate and manipulate data.\n",
    "- Interacting with databases, applications and end users.\n",
    "- Retrieving, storing and analyzing data.\n",
    "- Updating data."
   ]
  },
  {
   "cell_type": "markdown",
   "metadata": {},
   "source": [
    "##  RDBMS (Relational Database Management System):\n",
    "\n",
    "- Is a database management system that is based on the relational model.\n",
    "- Components: Table, Record/Tuple/Row, Field, and Column/Attribute.\n",
    "- An RDB has the ability to establish links—or relationships–between information by joining tables.\n",
    "- Makes it easy to understand and gain insights about the relationship between various data points.\n",
    "\n",
    "Different types of RDBMS's:\n",
    "- **MySQL**\n",
    "- **PostgreSQL**\n",
    "- **Microsoft SQL Server**\n",
    "- **Oracle Database**"
   ]
  },
  {
   "cell_type": "markdown",
   "metadata": {},
   "source": [
    "# How to work with psycopg2"
   ]
  },
  {
   "cell_type": "code",
   "execution_count": null,
   "metadata": {},
   "outputs": [],
   "source": [
    "import psycopg2\n",
    "\n",
    "Connection = psycopg2.connect(database=\"northwind\", user=\"postgres\",\n",
    "                            password=\"admin\", host=\"localhost\")\n",
    "                            \n",
    "curser = Connection.cursor()\n",
    "curser.execute(\"select * from products\")\n",
    "print(type(curser))\n",
    "\n",
    "for row in curser:\n",
    "    print(row)"
   ]
  },
  {
   "cell_type": "code",
   "execution_count": null,
   "metadata": {},
   "outputs": [],
   "source": [
    "query = '''select product_id, product_name from products\n",
    "where discontinued = 0\n",
    "order by product_name\n",
    "limit 5'''\n",
    "curser.execute(query)"
   ]
  },
  {
   "cell_type": "code",
   "execution_count": null,
   "metadata": {},
   "outputs": [],
   "source": [
    "for row in curser:\n",
    "    print(row)"
   ]
  },
  {
   "cell_type": "markdown",
   "metadata": {},
   "source": [
    "Write tables and read from tables"
   ]
  },
  {
   "cell_type": "markdown",
   "metadata": {},
   "source": [
    "## **Connect function:**"
   ]
  },
  {
   "cell_type": "code",
   "execution_count": null,
   "metadata": {},
   "outputs": [],
   "source": [
    "def connect():\n",
    "    return psycopg2.connect(database=\"northwind\", user=\"postgres\",\n",
    "                            password=\"admin\", host=\"localhost\")"
   ]
  },
  {
   "cell_type": "markdown",
   "metadata": {},
   "source": [
    "## **Creating Table with psycopg2:**\n",
    "\n",
    "- A function for creating two tables, namely, 'users', and 'contacts', to use psycppg2:"
   ]
  },
  {
   "cell_type": "code",
   "execution_count": null,
   "metadata": {},
   "outputs": [],
   "source": [
    "def create_table():\n",
    "    commands = (\n",
    "        \"\"\"\n",
    "        CREATE TABLE IF NOT EXISTS users (\n",
    "            user_id INT GENERATED ALWAYS AS IDENTITY,\n",
    "            first_name VARCHAR(255) NOT NULL,\n",
    "            last_name VARCHAR(255) NOT NULL,\n",
    "            PRIMARY KEY (user_id)\n",
    "        )\n",
    "        \"\"\",\n",
    "        \"\"\"\n",
    "        CREATE TABLE IF NOT EXISTS contacts (\n",
    "            contact_id INT GENERATED ALWAYS AS IDENTITY,\n",
    "            user_id INT,\n",
    "            contact_name VARCHAR(255) NOT NULL,\n",
    "            phone VARCHAR(20) NOT NULL,\n",
    "            email VARCHAR(100) NOT NULL,\n",
    "            PRIMARY KEY (contact_id),\n",
    "            CONSTRAINT fk_user\n",
    "                FOREIGN KEY(user_id)\n",
    "                REFERENCES users(user_id)\n",
    "        )\n",
    "        \"\"\"\n",
    "    )\n",
    "    conn = None\n",
    "    try:\n",
    "        conn = connect()\n",
    "        curser = conn.cursor()\n",
    "        \n",
    "        for command in commands:\n",
    "            curser.execute(command)\n",
    "        curser.close()\n",
    "        conn.commit()\n",
    "        \n",
    "    except(Exception, psycopg2.DatabaseError) as error:\n",
    "        print(error)\n",
    "    finally:\n",
    "        if conn is not None:\n",
    "            conn.close()"
   ]
  },
  {
   "cell_type": "code",
   "execution_count": null,
   "metadata": {},
   "outputs": [],
   "source": [
    "create_table()"
   ]
  },
  {
   "cell_type": "code",
   "execution_count": null,
   "metadata": {},
   "outputs": [],
   "source": [
    "class User:\n",
    "    def __init__(self, first_name, last_name, user_id) -> None:\n",
    "        self.first_name = first_name\n",
    "        self.last_name = last_name\n",
    "        self.user_id = user_id\n",
    "    \n",
    "    def __repr__(self) -> str:\n",
    "        return \"<User {}>\".format(self.user_id)\n",
    "\n",
    "    def save_to_db(self):\n",
    "        with connect() as connection:\n",
    "            with connection.cursor() as curser:\n",
    "                curser.execute(\"INSERT INTO users (first_name, last_name) VALUES (%s, %s)\",\n",
    "                                (self.first_name, self.last_name)\n",
    "                            )\n",
    "    @classmethod\n",
    "    def load_from_db_by_id(cls, user_id):\n",
    "        with connect() as connection:\n",
    "            with connection.cursor() as curser:\n",
    "                curser.execute(\"SELECT * from users where user_id=%d\"% (user_id))\n",
    "                user_data = curser.fetchone()\n",
    "                return cls(first_name=user_data[1], last_name=user_data[2],\n",
    "                            user_id=user_data[0])"
   ]
  },
  {
   "cell_type": "code",
   "execution_count": null,
   "metadata": {},
   "outputs": [],
   "source": [
    "class Contact:\n",
    "    def __init__(self, user_id, contact_name, phone, email, connect_id) -> None:\n",
    "        self.user_id = user_id\n",
    "        self.contact_name = contact_name\n",
    "        self.phone = phone\n",
    "        self.email = email\n",
    "        self.contact_id = connect_id\n",
    "    \n",
    "    def __repr__(self) -> str:\n",
    "        return \"<Contact {}>\".format(self.contact_id)\n",
    "\n",
    "    def save_to_db(self):\n",
    "        with connect() as connection:\n",
    "            with connection.cursor() as curser:\n",
    "                curser.execute('''INSERT INTO contacts (user_id, contact_name, phone, email) VALUES \n",
    "                                ((SELECT user_id FROM users where user_id=%s), %s, %s, %s)''',\n",
    "                                (self.user_id, self.contact_name, self.phone, self.email)\n",
    "                            )\n",
    "    \n",
    "    def print_data(self):\n",
    "        print(\"User id: {}, Contact Name: {}, Phone: {}, Email: {}\".format(\n",
    "            self.user_id, self.contact_name, self.phone, self.email))\n",
    "\n",
    "    @classmethod\n",
    "    def load_from_db_by_email(cls, email):\n",
    "        with connect() as connection:\n",
    "            with connection.cursor() as curser:\n",
    "                curser.execute(\"SELECT * from contacts where email=%s\", (email,))\n",
    "                contact_data = curser.fetchone()\n",
    "                return cls(user_id=contact_data[1], contact_name=contact_data[2],\n",
    "                            phone=contact_data[3], email=contact_data[4], connect_id=contact_data[0])"
   ]
  },
  {
   "cell_type": "code",
   "execution_count": null,
   "metadata": {},
   "outputs": [],
   "source": [
    "my_user = User(\"Mammad\", \"Hoseini\", None)\n",
    "my_user.save_to_db()"
   ]
  },
  {
   "cell_type": "code",
   "execution_count": null,
   "metadata": {},
   "outputs": [],
   "source": [
    "load_user = User.load_from_db_by_id(5)\n",
    "print(load_user.first_name)\n",
    "print(load_user.last_name)"
   ]
  },
  {
   "cell_type": "code",
   "execution_count": null,
   "metadata": {},
   "outputs": [],
   "source": [
    "my_contact = Contact(5, \"mahdavi\", \"25262\", \"aij@example.com\", None)"
   ]
  },
  {
   "cell_type": "code",
   "execution_count": null,
   "metadata": {},
   "outputs": [],
   "source": [
    "my_contact.save_to_db()"
   ]
  },
  {
   "cell_type": "code",
   "execution_count": null,
   "metadata": {},
   "outputs": [],
   "source": [
    "load_contact = Contact.load_from_db_by_email(\"aij@example.com\")"
   ]
  },
  {
   "cell_type": "code",
   "execution_count": null,
   "metadata": {},
   "outputs": [],
   "source": [
    "print(load_contact.contact_id)\n",
    "print(load_contact.contact_name)\n",
    "print(load_contact.email)\n",
    "print(load_contact.phone)\n",
    "print(load_contact.user_id)"
   ]
  },
  {
   "cell_type": "markdown",
   "metadata": {},
   "source": [
    "### Query"
   ]
  },
  {
   "cell_type": "code",
   "execution_count": null,
   "metadata": {},
   "outputs": [],
   "source": []
  }
 ],
 "metadata": {
  "kernelspec": {
   "display_name": "Python 3.10.8 64-bit",
   "language": "python",
   "name": "python3"
  },
  "language_info": {
   "codemirror_mode": {
    "name": "ipython",
    "version": 3
   },
   "file_extension": ".py",
   "mimetype": "text/x-python",
   "name": "python",
   "nbconvert_exporter": "python",
   "pygments_lexer": "ipython3",
   "version": "3.10.8"
  },
  "orig_nbformat": 4,
  "vscode": {
   "interpreter": {
    "hash": "b0fa6594d8f4cbf19f97940f81e996739fb7646882a419484c72d19e05852a7e"
   }
  }
 },
 "nbformat": 4,
 "nbformat_minor": 2
}

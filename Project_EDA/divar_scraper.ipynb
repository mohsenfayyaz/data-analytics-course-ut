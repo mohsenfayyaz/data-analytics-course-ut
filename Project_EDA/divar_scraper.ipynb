{
 "cells": [
  {
   "cell_type": "code",
   "execution_count": 1,
   "metadata": {
    "collapsed": true,
    "pycharm": {
     "name": "#%%\n"
    }
   },
   "outputs": [],
   "source": [
    "import requests\n",
    "import json\n",
    "import time\n",
    "import pandas as pd\n",
    "from tqdm.auto import tqdm\n",
    "\n",
    "place2_map = {\n",
    "    1: \"Tehran\",\n",
    "    2: \"Karaj\",\n",
    "    3: \"Mashhad\",\n",
    "    4: \"Isfahan\",\n",
    "    5: \"Tabriz\",\n",
    "    6: \"Shiraz\",\n",
    "    7: \"Ahvaz\",\n",
    "    8: \"Ghom\",\n",
    "}\n",
    "\n",
    "# https://api.divar.ir/v8/places/cities"
   ]
  },
  {
   "cell_type": "code",
   "execution_count": 101,
   "outputs": [],
   "source": [
    "def request_api(last_post_date=0):\n",
    "    url = 'https://api.divar.ir/v8/web-search/1/apartment-sell'\n",
    "    my_obj = {\"json_schema\":{\"category\":{\"value\":\"apartment-sell\"}, \"cities\":[str(i) for i in place2_map.keys()]}, \"last-post-date\":last_post_date}\n",
    "    response = requests.post(url, json = my_obj)\n",
    "    response_json = json.loads(response.text)\n",
    "    return response_json\n",
    "\n",
    "def flatten_dict(dd, separator='.', prefix=''):\n",
    "    return {\n",
    "        prefix + separator + k if prefix else k : v\n",
    "        for kk, vv in dd.items()\n",
    "        for k, v in flatten_dict(vv, separator, kk).items()\n",
    "    } if isinstance(dd, dict) else { prefix : dd }\n",
    "\n",
    "def retrieve_raw_dataset(iterations=60) -> pd.DataFrame:\n",
    "    raw_dataset = []\n",
    "    last_post_date=0\n",
    "    for iteration in tqdm(range(iterations), desc=\"Iterations\"):\n",
    "        got_response = False\n",
    "        while not got_response:\n",
    "            try:\n",
    "                response_json = request_api(last_post_date)\n",
    "                for post_row in response_json[\"web_widgets\"]['post_list']:\n",
    "                    assert post_row['widget_type'] == \"POST_ROW\"\n",
    "                    data = flatten_dict(post_row)\n",
    "                    data[\"raw_response\"] = response_json\n",
    "                    raw_dataset.append(data)\n",
    "                last_post_date = response_json[\"last_post_date\"]  # Next Scroll\n",
    "                time.sleep(1)\n",
    "                got_response = True\n",
    "            except Exception as e:\n",
    "                print(\"API Call Failed!\")\n",
    "    return pd.DataFrame(raw_dataset)"
   ],
   "metadata": {
    "collapsed": false,
    "pycharm": {
     "name": "#%%\n"
    }
   }
  },
  {
   "cell_type": "code",
   "execution_count": 102,
   "outputs": [
    {
     "data": {
      "text/plain": "Iterations:   0%|          | 0/1000 [00:00<?, ?it/s]",
      "application/vnd.jupyter.widget-view+json": {
       "version_major": 2,
       "version_minor": 0,
       "model_id": "ee448586a1894e8589fccb35add78352"
      },
      "application/json": {
       "n": 0,
       "total": 1000,
       "elapsed": 0.015002012252807617,
       "ncols": null,
       "nrows": null,
       "prefix": "Iterations",
       "ascii": false,
       "unit": "it",
       "unit_scale": false,
       "rate": null,
       "bar_format": null,
       "postfix": null,
       "unit_divisor": 1000,
       "initial": 0,
       "colour": null
      }
     },
     "metadata": {},
     "output_type": "display_data"
    },
    {
     "data": {
      "text/plain": "      widget_type                               data.@type  \\\n0        POST_ROW  type.googleapis.com/widgets.PostRowData   \n1        POST_ROW  type.googleapis.com/widgets.PostRowData   \n2        POST_ROW  type.googleapis.com/widgets.PostRowData   \n3        POST_ROW  type.googleapis.com/widgets.PostRowData   \n4        POST_ROW  type.googleapis.com/widgets.PostRowData   \n...           ...                                      ...   \n23995    POST_ROW  type.googleapis.com/widgets.PostRowData   \n23996    POST_ROW  type.googleapis.com/widgets.PostRowData   \n23997    POST_ROW  type.googleapis.com/widgets.PostRowData   \n23998    POST_ROW  type.googleapis.com/widgets.PostRowData   \n23999    POST_ROW  type.googleapis.com/widgets.PostRowData   \n\n                                          data.image_url  data.image_count  \\\n0                                                                        0   \n1      [{'src': 'https://s100.divarcdn.com/static/thu...                 6   \n2      [{'src': 'https://s100.divarcdn.com/static/thu...                16   \n3      [{'src': 'https://s100.divarcdn.com/static/thu...                 1   \n4                                                                        0   \n...                                                  ...               ...   \n23995  [{'src': 'https://s100.divarcdn.com/static/thu...                 1   \n23996  [{'src': 'https://s100.divarcdn.com/static/thu...                 1   \n23997                                                                    0   \n23998                                                                    0   \n23999  [{'src': 'https://s100.divarcdn.com/static/thu...                 5   \n\n                                              data.title  data.has_chat  \\\n0                                            کلاهدوز صفر           True   \n1            فروش ۱۰۰ متر آپارتمان ۲خواب // قیطریه جنوبی          False   \n2         آپارتمان ۱۱۰ متری کلید نخورده در خیابان مرتضوی           True   \n3                116متر ، نوساز ، فول امکانات / شهرک صدف          False   \n4                   قیطریه (کیکاووس) ۱۵۰ متر فول بازسازی           True   \n...                                                  ...            ...   \n23995             141متر/تاپ لوکیشن/دو پارکینگ/تک بازدید          False   \n23996        آپارتمان 100متری صفرتاصد بازسازی نزدیک اصلی          False   \n23997                            آپارتمان ۱۶۰ متر مهرشهر          False   \n23998                            آپارتمان ۱30 متری الهیه           True   \n23999  خرید واحدخانه خونه ۱۶۱متر سه خوابه حیاط بالکن ...          False   \n\n      data.top_description_text data.middle_description_text  \\\n0                                        ۲,۸۵۰,۰۰۰,۰۰۰ تومان   \n1                                       ۱۳,۲۰۰,۰۰۰,۰۰۰ تومان   \n2                                        ۵,۱۳۰,۰۰۰,۰۰۰ تومان   \n3                                        ۲,۹۰۰,۰۰۰,۰۰۰ تومان   \n4                                       ۱۲,۶۰۰,۰۰۰,۰۰۰ تومان   \n...                         ...                          ...   \n23995                                    ۴,۰۵۰,۰۰۰,۰۰۰ تومان   \n23996                                    ۱,۳۹۰,۰۰۰,۰۰۰ تومان   \n23997                                    ۲,۸۰۰,۰۰۰,۰۰۰ تومان   \n23998                                    ۳,۰۰۰,۰۰۰,۰۰۰ تومان   \n23999                                   ۱۲,۸۰۰,۰۰۰,۰۰۰ تومان   \n\n      data.bottom_description_text data.red_text  ...  \\\n0              آژانس املاک در مشهد                ...   \n1             آژانس املاک در تهران                ...   \n2             مشاور املاک در تهران                ...   \n3                لحظاتی پیش در کرج                ...   \n4             آژانس املاک در تهران                ...   \n...                            ...           ...  ...   \n23995          آژانس املاک در مشهد                ...   \n23996         آژانس املاک در اهواز                ...   \n23997         ۲۳ ساعت پیش در اهواز                ...   \n23998          ۲۳ ساعت پیش در مشهد                ...   \n23999         مشاور املاک در تهران                ...   \n\n      data.image_top_left_tag.icon.icon_color data.image_top_left_tag.text  \\\n0                                         NaN                          NaN   \n1                               WHITE_PRIMARY                            ۶   \n2                               WHITE_PRIMARY                           ۱۶   \n3                               WHITE_PRIMARY                            ۱   \n4                                         NaN                          NaN   \n...                                       ...                          ...   \n23995                           WHITE_PRIMARY                            ۱   \n23996                           WHITE_PRIMARY                            ۱   \n23997                                     NaN                          NaN   \n23998                                     NaN                          NaN   \n23999                           WHITE_PRIMARY                            ۵   \n\n      data.image_top_left_tag.is_icon_left data.image_overlay_tag.text  \\\n0                                      NaN                         NaN   \n1                                     True                         NaN   \n2                                     True                         NaN   \n3                                     True                         NaN   \n4                                      NaN                         NaN   \n...                                    ...                         ...   \n23995                                 True                         NaN   \n23996                                 True                         NaN   \n23997                                  NaN                         NaN   \n23998                                  NaN                         NaN   \n23999                                 True                         NaN   \n\n      data.image_overlay_tag.image_url data.image_overlay_tag.image_color  \\\n0                                  NaN                                NaN   \n1                                  NaN                                NaN   \n2                                  NaN                                NaN   \n3                                  NaN                                NaN   \n4                                  NaN                                NaN   \n...                                ...                                ...   \n23995                              NaN                                NaN   \n23996                              NaN                                NaN   \n23997                              NaN                                NaN   \n23998                              NaN                                NaN   \n23999                              NaN                                NaN   \n\n      data.image_overlay_tag.icon.image_url_dark  \\\n0                                            NaN   \n1                                            NaN   \n2                                            NaN   \n3                                            NaN   \n4                                            NaN   \n...                                          ...   \n23995                                        NaN   \n23996                                        NaN   \n23997                                        NaN   \n23998                                        NaN   \n23999                                        NaN   \n\n      data.image_overlay_tag.icon.image_url_light  \\\n0                                             NaN   \n1                                             NaN   \n2                                             NaN   \n3                                             NaN   \n4                                             NaN   \n...                                           ...   \n23995                                         NaN   \n23996                                         NaN   \n23997                                         NaN   \n23998                                         NaN   \n23999                                         NaN   \n\n       data.image_overlay_tag.icon.icon_name  \\\n0                                        NaN   \n1                                        NaN   \n2                                        NaN   \n3                                        NaN   \n4                                        NaN   \n...                                      ...   \n23995                                    NaN   \n23996                                    NaN   \n23997                                    NaN   \n23998                                    NaN   \n23999                                    NaN   \n\n      data.image_overlay_tag.icon.icon_color  \n0                                        NaN  \n1                                        NaN  \n2                                        NaN  \n3                                        NaN  \n4                                        NaN  \n...                                      ...  \n23995                                    NaN  \n23996                                    NaN  \n23997                                    NaN  \n23998                                    NaN  \n23999                                    NaN  \n\n[24000 rows x 58 columns]",
      "text/html": "<div>\n<style scoped>\n    .dataframe tbody tr th:only-of-type {\n        vertical-align: middle;\n    }\n\n    .dataframe tbody tr th {\n        vertical-align: top;\n    }\n\n    .dataframe thead th {\n        text-align: right;\n    }\n</style>\n<table border=\"1\" class=\"dataframe\">\n  <thead>\n    <tr style=\"text-align: right;\">\n      <th></th>\n      <th>widget_type</th>\n      <th>data.@type</th>\n      <th>data.image_url</th>\n      <th>data.image_count</th>\n      <th>data.title</th>\n      <th>data.has_chat</th>\n      <th>data.top_description_text</th>\n      <th>data.middle_description_text</th>\n      <th>data.bottom_description_text</th>\n      <th>data.red_text</th>\n      <th>...</th>\n      <th>data.image_top_left_tag.icon.icon_color</th>\n      <th>data.image_top_left_tag.text</th>\n      <th>data.image_top_left_tag.is_icon_left</th>\n      <th>data.image_overlay_tag.text</th>\n      <th>data.image_overlay_tag.image_url</th>\n      <th>data.image_overlay_tag.image_color</th>\n      <th>data.image_overlay_tag.icon.image_url_dark</th>\n      <th>data.image_overlay_tag.icon.image_url_light</th>\n      <th>data.image_overlay_tag.icon.icon_name</th>\n      <th>data.image_overlay_tag.icon.icon_color</th>\n    </tr>\n  </thead>\n  <tbody>\n    <tr>\n      <th>0</th>\n      <td>POST_ROW</td>\n      <td>type.googleapis.com/widgets.PostRowData</td>\n      <td></td>\n      <td>0</td>\n      <td>کلاهدوز صفر</td>\n      <td>True</td>\n      <td></td>\n      <td>۲,۸۵۰,۰۰۰,۰۰۰ تومان</td>\n      <td>آژانس املاک در مشهد</td>\n      <td></td>\n      <td>...</td>\n      <td>NaN</td>\n      <td>NaN</td>\n      <td>NaN</td>\n      <td>NaN</td>\n      <td>NaN</td>\n      <td>NaN</td>\n      <td>NaN</td>\n      <td>NaN</td>\n      <td>NaN</td>\n      <td>NaN</td>\n    </tr>\n    <tr>\n      <th>1</th>\n      <td>POST_ROW</td>\n      <td>type.googleapis.com/widgets.PostRowData</td>\n      <td>[{'src': 'https://s100.divarcdn.com/static/thu...</td>\n      <td>6</td>\n      <td>فروش ۱۰۰ متر آپارتمان ۲خواب // قیطریه جنوبی</td>\n      <td>False</td>\n      <td></td>\n      <td>۱۳,۲۰۰,۰۰۰,۰۰۰ تومان</td>\n      <td>آژانس املاک در تهران</td>\n      <td></td>\n      <td>...</td>\n      <td>WHITE_PRIMARY</td>\n      <td>۶</td>\n      <td>True</td>\n      <td>NaN</td>\n      <td>NaN</td>\n      <td>NaN</td>\n      <td>NaN</td>\n      <td>NaN</td>\n      <td>NaN</td>\n      <td>NaN</td>\n    </tr>\n    <tr>\n      <th>2</th>\n      <td>POST_ROW</td>\n      <td>type.googleapis.com/widgets.PostRowData</td>\n      <td>[{'src': 'https://s100.divarcdn.com/static/thu...</td>\n      <td>16</td>\n      <td>آپارتمان ۱۱۰ متری کلید نخورده در خیابان مرتضوی</td>\n      <td>True</td>\n      <td></td>\n      <td>۵,۱۳۰,۰۰۰,۰۰۰ تومان</td>\n      <td>مشاور املاک در تهران</td>\n      <td></td>\n      <td>...</td>\n      <td>WHITE_PRIMARY</td>\n      <td>۱۶</td>\n      <td>True</td>\n      <td>NaN</td>\n      <td>NaN</td>\n      <td>NaN</td>\n      <td>NaN</td>\n      <td>NaN</td>\n      <td>NaN</td>\n      <td>NaN</td>\n    </tr>\n    <tr>\n      <th>3</th>\n      <td>POST_ROW</td>\n      <td>type.googleapis.com/widgets.PostRowData</td>\n      <td>[{'src': 'https://s100.divarcdn.com/static/thu...</td>\n      <td>1</td>\n      <td>116متر ، نوساز ، فول امکانات / شهرک صدف</td>\n      <td>False</td>\n      <td></td>\n      <td>۲,۹۰۰,۰۰۰,۰۰۰ تومان</td>\n      <td>لحظاتی پیش در کرج</td>\n      <td></td>\n      <td>...</td>\n      <td>WHITE_PRIMARY</td>\n      <td>۱</td>\n      <td>True</td>\n      <td>NaN</td>\n      <td>NaN</td>\n      <td>NaN</td>\n      <td>NaN</td>\n      <td>NaN</td>\n      <td>NaN</td>\n      <td>NaN</td>\n    </tr>\n    <tr>\n      <th>4</th>\n      <td>POST_ROW</td>\n      <td>type.googleapis.com/widgets.PostRowData</td>\n      <td></td>\n      <td>0</td>\n      <td>قیطریه (کیکاووس) ۱۵۰ متر فول بازسازی</td>\n      <td>True</td>\n      <td></td>\n      <td>۱۲,۶۰۰,۰۰۰,۰۰۰ تومان</td>\n      <td>آژانس املاک در تهران</td>\n      <td></td>\n      <td>...</td>\n      <td>NaN</td>\n      <td>NaN</td>\n      <td>NaN</td>\n      <td>NaN</td>\n      <td>NaN</td>\n      <td>NaN</td>\n      <td>NaN</td>\n      <td>NaN</td>\n      <td>NaN</td>\n      <td>NaN</td>\n    </tr>\n    <tr>\n      <th>...</th>\n      <td>...</td>\n      <td>...</td>\n      <td>...</td>\n      <td>...</td>\n      <td>...</td>\n      <td>...</td>\n      <td>...</td>\n      <td>...</td>\n      <td>...</td>\n      <td>...</td>\n      <td>...</td>\n      <td>...</td>\n      <td>...</td>\n      <td>...</td>\n      <td>...</td>\n      <td>...</td>\n      <td>...</td>\n      <td>...</td>\n      <td>...</td>\n      <td>...</td>\n      <td>...</td>\n    </tr>\n    <tr>\n      <th>23995</th>\n      <td>POST_ROW</td>\n      <td>type.googleapis.com/widgets.PostRowData</td>\n      <td>[{'src': 'https://s100.divarcdn.com/static/thu...</td>\n      <td>1</td>\n      <td>141متر/تاپ لوکیشن/دو پارکینگ/تک بازدید</td>\n      <td>False</td>\n      <td></td>\n      <td>۴,۰۵۰,۰۰۰,۰۰۰ تومان</td>\n      <td>آژانس املاک در مشهد</td>\n      <td></td>\n      <td>...</td>\n      <td>WHITE_PRIMARY</td>\n      <td>۱</td>\n      <td>True</td>\n      <td>NaN</td>\n      <td>NaN</td>\n      <td>NaN</td>\n      <td>NaN</td>\n      <td>NaN</td>\n      <td>NaN</td>\n      <td>NaN</td>\n    </tr>\n    <tr>\n      <th>23996</th>\n      <td>POST_ROW</td>\n      <td>type.googleapis.com/widgets.PostRowData</td>\n      <td>[{'src': 'https://s100.divarcdn.com/static/thu...</td>\n      <td>1</td>\n      <td>آپارتمان 100متری صفرتاصد بازسازی نزدیک اصلی</td>\n      <td>False</td>\n      <td></td>\n      <td>۱,۳۹۰,۰۰۰,۰۰۰ تومان</td>\n      <td>آژانس املاک در اهواز</td>\n      <td></td>\n      <td>...</td>\n      <td>WHITE_PRIMARY</td>\n      <td>۱</td>\n      <td>True</td>\n      <td>NaN</td>\n      <td>NaN</td>\n      <td>NaN</td>\n      <td>NaN</td>\n      <td>NaN</td>\n      <td>NaN</td>\n      <td>NaN</td>\n    </tr>\n    <tr>\n      <th>23997</th>\n      <td>POST_ROW</td>\n      <td>type.googleapis.com/widgets.PostRowData</td>\n      <td></td>\n      <td>0</td>\n      <td>آپارتمان ۱۶۰ متر مهرشهر</td>\n      <td>False</td>\n      <td></td>\n      <td>۲,۸۰۰,۰۰۰,۰۰۰ تومان</td>\n      <td>۲۳ ساعت پیش در اهواز</td>\n      <td></td>\n      <td>...</td>\n      <td>NaN</td>\n      <td>NaN</td>\n      <td>NaN</td>\n      <td>NaN</td>\n      <td>NaN</td>\n      <td>NaN</td>\n      <td>NaN</td>\n      <td>NaN</td>\n      <td>NaN</td>\n      <td>NaN</td>\n    </tr>\n    <tr>\n      <th>23998</th>\n      <td>POST_ROW</td>\n      <td>type.googleapis.com/widgets.PostRowData</td>\n      <td></td>\n      <td>0</td>\n      <td>آپارتمان ۱30 متری الهیه</td>\n      <td>True</td>\n      <td></td>\n      <td>۳,۰۰۰,۰۰۰,۰۰۰ تومان</td>\n      <td>۲۳ ساعت پیش در مشهد</td>\n      <td></td>\n      <td>...</td>\n      <td>NaN</td>\n      <td>NaN</td>\n      <td>NaN</td>\n      <td>NaN</td>\n      <td>NaN</td>\n      <td>NaN</td>\n      <td>NaN</td>\n      <td>NaN</td>\n      <td>NaN</td>\n      <td>NaN</td>\n    </tr>\n    <tr>\n      <th>23999</th>\n      <td>POST_ROW</td>\n      <td>type.googleapis.com/widgets.PostRowData</td>\n      <td>[{'src': 'https://s100.divarcdn.com/static/thu...</td>\n      <td>5</td>\n      <td>خرید واحدخانه خونه ۱۶۱متر سه خوابه حیاط بالکن ...</td>\n      <td>False</td>\n      <td></td>\n      <td>۱۲,۸۰۰,۰۰۰,۰۰۰ تومان</td>\n      <td>مشاور املاک در تهران</td>\n      <td></td>\n      <td>...</td>\n      <td>WHITE_PRIMARY</td>\n      <td>۵</td>\n      <td>True</td>\n      <td>NaN</td>\n      <td>NaN</td>\n      <td>NaN</td>\n      <td>NaN</td>\n      <td>NaN</td>\n      <td>NaN</td>\n      <td>NaN</td>\n    </tr>\n  </tbody>\n</table>\n<p>24000 rows × 58 columns</p>\n</div>"
     },
     "execution_count": 102,
     "metadata": {},
     "output_type": "execute_result"
    }
   ],
   "source": [
    "df = retrieve_raw_dataset(iterations=1000)\n",
    "df"
   ],
   "metadata": {
    "collapsed": false,
    "pycharm": {
     "name": "#%%\n"
    }
   }
  },
  {
   "cell_type": "code",
   "execution_count": 106,
   "outputs": [],
   "source": [
    "# Check for duplicates\n",
    "assert df.duplicated(subset=\"data.action.payload.token\").sum() == 0"
   ],
   "metadata": {
    "collapsed": false,
    "pycharm": {
     "name": "#%%\n"
    }
   }
  },
  {
   "cell_type": "code",
   "execution_count": 107,
   "outputs": [],
   "source": [
    "df.to_pickle(\"divar_apartment_sell_24000.pkl\")"
   ],
   "metadata": {
    "collapsed": false,
    "pycharm": {
     "name": "#%%\n"
    }
   }
  },
  {
   "cell_type": "code",
   "execution_count": 2,
   "outputs": [],
   "source": [
    "df = pd.read_pickle(\"divar_apartment_sell_24000.pkl\")"
   ],
   "metadata": {
    "collapsed": false,
    "pycharm": {
     "name": "#%%\n"
    }
   }
  },
  {
   "cell_type": "code",
   "execution_count": 3,
   "outputs": [
    {
     "data": {
      "text/plain": "      widget_type                               data.@type  \\\n0        POST_ROW  type.googleapis.com/widgets.PostRowData   \n1        POST_ROW  type.googleapis.com/widgets.PostRowData   \n2        POST_ROW  type.googleapis.com/widgets.PostRowData   \n3        POST_ROW  type.googleapis.com/widgets.PostRowData   \n4        POST_ROW  type.googleapis.com/widgets.PostRowData   \n...           ...                                      ...   \n23995    POST_ROW  type.googleapis.com/widgets.PostRowData   \n23996    POST_ROW  type.googleapis.com/widgets.PostRowData   \n23997    POST_ROW  type.googleapis.com/widgets.PostRowData   \n23998    POST_ROW  type.googleapis.com/widgets.PostRowData   \n23999    POST_ROW  type.googleapis.com/widgets.PostRowData   \n\n                                          data.image_url  data.image_count  \\\n0                                                                        0   \n1      [{'src': 'https://s100.divarcdn.com/static/thu...                 6   \n2      [{'src': 'https://s100.divarcdn.com/static/thu...                16   \n3      [{'src': 'https://s100.divarcdn.com/static/thu...                 1   \n4                                                                        0   \n...                                                  ...               ...   \n23995  [{'src': 'https://s100.divarcdn.com/static/thu...                 1   \n23996  [{'src': 'https://s100.divarcdn.com/static/thu...                 1   \n23997                                                                    0   \n23998                                                                    0   \n23999  [{'src': 'https://s100.divarcdn.com/static/thu...                 5   \n\n                                              data.title  data.has_chat  \\\n0                                            کلاهدوز صفر           True   \n1            فروش ۱۰۰ متر آپارتمان ۲خواب // قیطریه جنوبی          False   \n2         آپارتمان ۱۱۰ متری کلید نخورده در خیابان مرتضوی           True   \n3                116متر ، نوساز ، فول امکانات / شهرک صدف          False   \n4                   قیطریه (کیکاووس) ۱۵۰ متر فول بازسازی           True   \n...                                                  ...            ...   \n23995             141متر/تاپ لوکیشن/دو پارکینگ/تک بازدید          False   \n23996        آپارتمان 100متری صفرتاصد بازسازی نزدیک اصلی          False   \n23997                            آپارتمان ۱۶۰ متر مهرشهر          False   \n23998                            آپارتمان ۱30 متری الهیه           True   \n23999  خرید واحدخانه خونه ۱۶۱متر سه خوابه حیاط بالکن ...          False   \n\n      data.top_description_text data.middle_description_text  \\\n0                                        ۲,۸۵۰,۰۰۰,۰۰۰ تومان   \n1                                       ۱۳,۲۰۰,۰۰۰,۰۰۰ تومان   \n2                                        ۵,۱۳۰,۰۰۰,۰۰۰ تومان   \n3                                        ۲,۹۰۰,۰۰۰,۰۰۰ تومان   \n4                                       ۱۲,۶۰۰,۰۰۰,۰۰۰ تومان   \n...                         ...                          ...   \n23995                                    ۴,۰۵۰,۰۰۰,۰۰۰ تومان   \n23996                                    ۱,۳۹۰,۰۰۰,۰۰۰ تومان   \n23997                                    ۲,۸۰۰,۰۰۰,۰۰۰ تومان   \n23998                                    ۳,۰۰۰,۰۰۰,۰۰۰ تومان   \n23999                                   ۱۲,۸۰۰,۰۰۰,۰۰۰ تومان   \n\n      data.bottom_description_text data.red_text  ...  \\\n0              آژانس املاک در مشهد                ...   \n1             آژانس املاک در تهران                ...   \n2             مشاور املاک در تهران                ...   \n3                لحظاتی پیش در کرج                ...   \n4             آژانس املاک در تهران                ...   \n...                            ...           ...  ...   \n23995          آژانس املاک در مشهد                ...   \n23996         آژانس املاک در اهواز                ...   \n23997         ۲۳ ساعت پیش در اهواز                ...   \n23998          ۲۳ ساعت پیش در مشهد                ...   \n23999         مشاور املاک در تهران                ...   \n\n      data.image_top_left_tag.icon.icon_color data.image_top_left_tag.text  \\\n0                                         NaN                          NaN   \n1                               WHITE_PRIMARY                            ۶   \n2                               WHITE_PRIMARY                           ۱۶   \n3                               WHITE_PRIMARY                            ۱   \n4                                         NaN                          NaN   \n...                                       ...                          ...   \n23995                           WHITE_PRIMARY                            ۱   \n23996                           WHITE_PRIMARY                            ۱   \n23997                                     NaN                          NaN   \n23998                                     NaN                          NaN   \n23999                           WHITE_PRIMARY                            ۵   \n\n      data.image_top_left_tag.is_icon_left data.image_overlay_tag.text  \\\n0                                      NaN                         NaN   \n1                                     True                         NaN   \n2                                     True                         NaN   \n3                                     True                         NaN   \n4                                      NaN                         NaN   \n...                                    ...                         ...   \n23995                                 True                         NaN   \n23996                                 True                         NaN   \n23997                                  NaN                         NaN   \n23998                                  NaN                         NaN   \n23999                                 True                         NaN   \n\n      data.image_overlay_tag.image_url data.image_overlay_tag.image_color  \\\n0                                  NaN                                NaN   \n1                                  NaN                                NaN   \n2                                  NaN                                NaN   \n3                                  NaN                                NaN   \n4                                  NaN                                NaN   \n...                                ...                                ...   \n23995                              NaN                                NaN   \n23996                              NaN                                NaN   \n23997                              NaN                                NaN   \n23998                              NaN                                NaN   \n23999                              NaN                                NaN   \n\n      data.image_overlay_tag.icon.image_url_dark  \\\n0                                            NaN   \n1                                            NaN   \n2                                            NaN   \n3                                            NaN   \n4                                            NaN   \n...                                          ...   \n23995                                        NaN   \n23996                                        NaN   \n23997                                        NaN   \n23998                                        NaN   \n23999                                        NaN   \n\n      data.image_overlay_tag.icon.image_url_light  \\\n0                                             NaN   \n1                                             NaN   \n2                                             NaN   \n3                                             NaN   \n4                                             NaN   \n...                                           ...   \n23995                                         NaN   \n23996                                         NaN   \n23997                                         NaN   \n23998                                         NaN   \n23999                                         NaN   \n\n       data.image_overlay_tag.icon.icon_name  \\\n0                                        NaN   \n1                                        NaN   \n2                                        NaN   \n3                                        NaN   \n4                                        NaN   \n...                                      ...   \n23995                                    NaN   \n23996                                    NaN   \n23997                                    NaN   \n23998                                    NaN   \n23999                                    NaN   \n\n      data.image_overlay_tag.icon.icon_color  \n0                                        NaN  \n1                                        NaN  \n2                                        NaN  \n3                                        NaN  \n4                                        NaN  \n...                                      ...  \n23995                                    NaN  \n23996                                    NaN  \n23997                                    NaN  \n23998                                    NaN  \n23999                                    NaN  \n\n[24000 rows x 58 columns]",
      "text/html": "<div>\n<style scoped>\n    .dataframe tbody tr th:only-of-type {\n        vertical-align: middle;\n    }\n\n    .dataframe tbody tr th {\n        vertical-align: top;\n    }\n\n    .dataframe thead th {\n        text-align: right;\n    }\n</style>\n<table border=\"1\" class=\"dataframe\">\n  <thead>\n    <tr style=\"text-align: right;\">\n      <th></th>\n      <th>widget_type</th>\n      <th>data.@type</th>\n      <th>data.image_url</th>\n      <th>data.image_count</th>\n      <th>data.title</th>\n      <th>data.has_chat</th>\n      <th>data.top_description_text</th>\n      <th>data.middle_description_text</th>\n      <th>data.bottom_description_text</th>\n      <th>data.red_text</th>\n      <th>...</th>\n      <th>data.image_top_left_tag.icon.icon_color</th>\n      <th>data.image_top_left_tag.text</th>\n      <th>data.image_top_left_tag.is_icon_left</th>\n      <th>data.image_overlay_tag.text</th>\n      <th>data.image_overlay_tag.image_url</th>\n      <th>data.image_overlay_tag.image_color</th>\n      <th>data.image_overlay_tag.icon.image_url_dark</th>\n      <th>data.image_overlay_tag.icon.image_url_light</th>\n      <th>data.image_overlay_tag.icon.icon_name</th>\n      <th>data.image_overlay_tag.icon.icon_color</th>\n    </tr>\n  </thead>\n  <tbody>\n    <tr>\n      <th>0</th>\n      <td>POST_ROW</td>\n      <td>type.googleapis.com/widgets.PostRowData</td>\n      <td></td>\n      <td>0</td>\n      <td>کلاهدوز صفر</td>\n      <td>True</td>\n      <td></td>\n      <td>۲,۸۵۰,۰۰۰,۰۰۰ تومان</td>\n      <td>آژانس املاک در مشهد</td>\n      <td></td>\n      <td>...</td>\n      <td>NaN</td>\n      <td>NaN</td>\n      <td>NaN</td>\n      <td>NaN</td>\n      <td>NaN</td>\n      <td>NaN</td>\n      <td>NaN</td>\n      <td>NaN</td>\n      <td>NaN</td>\n      <td>NaN</td>\n    </tr>\n    <tr>\n      <th>1</th>\n      <td>POST_ROW</td>\n      <td>type.googleapis.com/widgets.PostRowData</td>\n      <td>[{'src': 'https://s100.divarcdn.com/static/thu...</td>\n      <td>6</td>\n      <td>فروش ۱۰۰ متر آپارتمان ۲خواب // قیطریه جنوبی</td>\n      <td>False</td>\n      <td></td>\n      <td>۱۳,۲۰۰,۰۰۰,۰۰۰ تومان</td>\n      <td>آژانس املاک در تهران</td>\n      <td></td>\n      <td>...</td>\n      <td>WHITE_PRIMARY</td>\n      <td>۶</td>\n      <td>True</td>\n      <td>NaN</td>\n      <td>NaN</td>\n      <td>NaN</td>\n      <td>NaN</td>\n      <td>NaN</td>\n      <td>NaN</td>\n      <td>NaN</td>\n    </tr>\n    <tr>\n      <th>2</th>\n      <td>POST_ROW</td>\n      <td>type.googleapis.com/widgets.PostRowData</td>\n      <td>[{'src': 'https://s100.divarcdn.com/static/thu...</td>\n      <td>16</td>\n      <td>آپارتمان ۱۱۰ متری کلید نخورده در خیابان مرتضوی</td>\n      <td>True</td>\n      <td></td>\n      <td>۵,۱۳۰,۰۰۰,۰۰۰ تومان</td>\n      <td>مشاور املاک در تهران</td>\n      <td></td>\n      <td>...</td>\n      <td>WHITE_PRIMARY</td>\n      <td>۱۶</td>\n      <td>True</td>\n      <td>NaN</td>\n      <td>NaN</td>\n      <td>NaN</td>\n      <td>NaN</td>\n      <td>NaN</td>\n      <td>NaN</td>\n      <td>NaN</td>\n    </tr>\n    <tr>\n      <th>3</th>\n      <td>POST_ROW</td>\n      <td>type.googleapis.com/widgets.PostRowData</td>\n      <td>[{'src': 'https://s100.divarcdn.com/static/thu...</td>\n      <td>1</td>\n      <td>116متر ، نوساز ، فول امکانات / شهرک صدف</td>\n      <td>False</td>\n      <td></td>\n      <td>۲,۹۰۰,۰۰۰,۰۰۰ تومان</td>\n      <td>لحظاتی پیش در کرج</td>\n      <td></td>\n      <td>...</td>\n      <td>WHITE_PRIMARY</td>\n      <td>۱</td>\n      <td>True</td>\n      <td>NaN</td>\n      <td>NaN</td>\n      <td>NaN</td>\n      <td>NaN</td>\n      <td>NaN</td>\n      <td>NaN</td>\n      <td>NaN</td>\n    </tr>\n    <tr>\n      <th>4</th>\n      <td>POST_ROW</td>\n      <td>type.googleapis.com/widgets.PostRowData</td>\n      <td></td>\n      <td>0</td>\n      <td>قیطریه (کیکاووس) ۱۵۰ متر فول بازسازی</td>\n      <td>True</td>\n      <td></td>\n      <td>۱۲,۶۰۰,۰۰۰,۰۰۰ تومان</td>\n      <td>آژانس املاک در تهران</td>\n      <td></td>\n      <td>...</td>\n      <td>NaN</td>\n      <td>NaN</td>\n      <td>NaN</td>\n      <td>NaN</td>\n      <td>NaN</td>\n      <td>NaN</td>\n      <td>NaN</td>\n      <td>NaN</td>\n      <td>NaN</td>\n      <td>NaN</td>\n    </tr>\n    <tr>\n      <th>...</th>\n      <td>...</td>\n      <td>...</td>\n      <td>...</td>\n      <td>...</td>\n      <td>...</td>\n      <td>...</td>\n      <td>...</td>\n      <td>...</td>\n      <td>...</td>\n      <td>...</td>\n      <td>...</td>\n      <td>...</td>\n      <td>...</td>\n      <td>...</td>\n      <td>...</td>\n      <td>...</td>\n      <td>...</td>\n      <td>...</td>\n      <td>...</td>\n      <td>...</td>\n      <td>...</td>\n    </tr>\n    <tr>\n      <th>23995</th>\n      <td>POST_ROW</td>\n      <td>type.googleapis.com/widgets.PostRowData</td>\n      <td>[{'src': 'https://s100.divarcdn.com/static/thu...</td>\n      <td>1</td>\n      <td>141متر/تاپ لوکیشن/دو پارکینگ/تک بازدید</td>\n      <td>False</td>\n      <td></td>\n      <td>۴,۰۵۰,۰۰۰,۰۰۰ تومان</td>\n      <td>آژانس املاک در مشهد</td>\n      <td></td>\n      <td>...</td>\n      <td>WHITE_PRIMARY</td>\n      <td>۱</td>\n      <td>True</td>\n      <td>NaN</td>\n      <td>NaN</td>\n      <td>NaN</td>\n      <td>NaN</td>\n      <td>NaN</td>\n      <td>NaN</td>\n      <td>NaN</td>\n    </tr>\n    <tr>\n      <th>23996</th>\n      <td>POST_ROW</td>\n      <td>type.googleapis.com/widgets.PostRowData</td>\n      <td>[{'src': 'https://s100.divarcdn.com/static/thu...</td>\n      <td>1</td>\n      <td>آپارتمان 100متری صفرتاصد بازسازی نزدیک اصلی</td>\n      <td>False</td>\n      <td></td>\n      <td>۱,۳۹۰,۰۰۰,۰۰۰ تومان</td>\n      <td>آژانس املاک در اهواز</td>\n      <td></td>\n      <td>...</td>\n      <td>WHITE_PRIMARY</td>\n      <td>۱</td>\n      <td>True</td>\n      <td>NaN</td>\n      <td>NaN</td>\n      <td>NaN</td>\n      <td>NaN</td>\n      <td>NaN</td>\n      <td>NaN</td>\n      <td>NaN</td>\n    </tr>\n    <tr>\n      <th>23997</th>\n      <td>POST_ROW</td>\n      <td>type.googleapis.com/widgets.PostRowData</td>\n      <td></td>\n      <td>0</td>\n      <td>آپارتمان ۱۶۰ متر مهرشهر</td>\n      <td>False</td>\n      <td></td>\n      <td>۲,۸۰۰,۰۰۰,۰۰۰ تومان</td>\n      <td>۲۳ ساعت پیش در اهواز</td>\n      <td></td>\n      <td>...</td>\n      <td>NaN</td>\n      <td>NaN</td>\n      <td>NaN</td>\n      <td>NaN</td>\n      <td>NaN</td>\n      <td>NaN</td>\n      <td>NaN</td>\n      <td>NaN</td>\n      <td>NaN</td>\n      <td>NaN</td>\n    </tr>\n    <tr>\n      <th>23998</th>\n      <td>POST_ROW</td>\n      <td>type.googleapis.com/widgets.PostRowData</td>\n      <td></td>\n      <td>0</td>\n      <td>آپارتمان ۱30 متری الهیه</td>\n      <td>True</td>\n      <td></td>\n      <td>۳,۰۰۰,۰۰۰,۰۰۰ تومان</td>\n      <td>۲۳ ساعت پیش در مشهد</td>\n      <td></td>\n      <td>...</td>\n      <td>NaN</td>\n      <td>NaN</td>\n      <td>NaN</td>\n      <td>NaN</td>\n      <td>NaN</td>\n      <td>NaN</td>\n      <td>NaN</td>\n      <td>NaN</td>\n      <td>NaN</td>\n      <td>NaN</td>\n    </tr>\n    <tr>\n      <th>23999</th>\n      <td>POST_ROW</td>\n      <td>type.googleapis.com/widgets.PostRowData</td>\n      <td>[{'src': 'https://s100.divarcdn.com/static/thu...</td>\n      <td>5</td>\n      <td>خرید واحدخانه خونه ۱۶۱متر سه خوابه حیاط بالکن ...</td>\n      <td>False</td>\n      <td></td>\n      <td>۱۲,۸۰۰,۰۰۰,۰۰۰ تومان</td>\n      <td>مشاور املاک در تهران</td>\n      <td></td>\n      <td>...</td>\n      <td>WHITE_PRIMARY</td>\n      <td>۵</td>\n      <td>True</td>\n      <td>NaN</td>\n      <td>NaN</td>\n      <td>NaN</td>\n      <td>NaN</td>\n      <td>NaN</td>\n      <td>NaN</td>\n      <td>NaN</td>\n    </tr>\n  </tbody>\n</table>\n<p>24000 rows × 58 columns</p>\n</div>"
     },
     "execution_count": 3,
     "metadata": {},
     "output_type": "execute_result"
    }
   ],
   "source": [
    "df"
   ],
   "metadata": {
    "collapsed": false,
    "pycharm": {
     "name": "#%%\n"
    }
   }
  },
  {
   "cell_type": "code",
   "execution_count": 7,
   "outputs": [],
   "source": [
    "df.to_csv(\"divar_apartment_sell_24000.csv\")"
   ],
   "metadata": {
    "collapsed": false,
    "pycharm": {
     "name": "#%%\n"
    }
   }
  },
  {
   "cell_type": "code",
   "execution_count": 8,
   "outputs": [],
   "source": [
    "df.to_pickle(\"divar_apartment_sell_24000_raw.pkl\")"
   ],
   "metadata": {
    "collapsed": false,
    "pycharm": {
     "name": "#%%\n"
    }
   }
  },
  {
   "cell_type": "code",
   "execution_count": 9,
   "outputs": [],
   "source": [
    "df = df.drop(columns=[\"raw_response\"])"
   ],
   "metadata": {
    "collapsed": false,
    "pycharm": {
     "name": "#%%\n"
    }
   }
  },
  {
   "cell_type": "code",
   "execution_count": 10,
   "outputs": [
    {
     "data": {
      "text/plain": "      widget_type                               data.@type  \\\n0        POST_ROW  type.googleapis.com/widgets.PostRowData   \n1        POST_ROW  type.googleapis.com/widgets.PostRowData   \n2        POST_ROW  type.googleapis.com/widgets.PostRowData   \n3        POST_ROW  type.googleapis.com/widgets.PostRowData   \n4        POST_ROW  type.googleapis.com/widgets.PostRowData   \n...           ...                                      ...   \n23995    POST_ROW  type.googleapis.com/widgets.PostRowData   \n23996    POST_ROW  type.googleapis.com/widgets.PostRowData   \n23997    POST_ROW  type.googleapis.com/widgets.PostRowData   \n23998    POST_ROW  type.googleapis.com/widgets.PostRowData   \n23999    POST_ROW  type.googleapis.com/widgets.PostRowData   \n\n                                          data.image_url  data.image_count  \\\n0                                                                        0   \n1      [{'src': 'https://s100.divarcdn.com/static/thu...                 6   \n2      [{'src': 'https://s100.divarcdn.com/static/thu...                16   \n3      [{'src': 'https://s100.divarcdn.com/static/thu...                 1   \n4                                                                        0   \n...                                                  ...               ...   \n23995  [{'src': 'https://s100.divarcdn.com/static/thu...                 1   \n23996  [{'src': 'https://s100.divarcdn.com/static/thu...                 1   \n23997                                                                    0   \n23998                                                                    0   \n23999  [{'src': 'https://s100.divarcdn.com/static/thu...                 5   \n\n                                              data.title  data.has_chat  \\\n0                                            کلاهدوز صفر           True   \n1            فروش ۱۰۰ متر آپارتمان ۲خواب // قیطریه جنوبی          False   \n2         آپارتمان ۱۱۰ متری کلید نخورده در خیابان مرتضوی           True   \n3                116متر ، نوساز ، فول امکانات / شهرک صدف          False   \n4                   قیطریه (کیکاووس) ۱۵۰ متر فول بازسازی           True   \n...                                                  ...            ...   \n23995             141متر/تاپ لوکیشن/دو پارکینگ/تک بازدید          False   \n23996        آپارتمان 100متری صفرتاصد بازسازی نزدیک اصلی          False   \n23997                            آپارتمان ۱۶۰ متر مهرشهر          False   \n23998                            آپارتمان ۱30 متری الهیه           True   \n23999  خرید واحدخانه خونه ۱۶۱متر سه خوابه حیاط بالکن ...          False   \n\n      data.top_description_text data.middle_description_text  \\\n0                                        ۲,۸۵۰,۰۰۰,۰۰۰ تومان   \n1                                       ۱۳,۲۰۰,۰۰۰,۰۰۰ تومان   \n2                                        ۵,۱۳۰,۰۰۰,۰۰۰ تومان   \n3                                        ۲,۹۰۰,۰۰۰,۰۰۰ تومان   \n4                                       ۱۲,۶۰۰,۰۰۰,۰۰۰ تومان   \n...                         ...                          ...   \n23995                                    ۴,۰۵۰,۰۰۰,۰۰۰ تومان   \n23996                                    ۱,۳۹۰,۰۰۰,۰۰۰ تومان   \n23997                                    ۲,۸۰۰,۰۰۰,۰۰۰ تومان   \n23998                                    ۳,۰۰۰,۰۰۰,۰۰۰ تومان   \n23999                                   ۱۲,۸۰۰,۰۰۰,۰۰۰ تومان   \n\n      data.bottom_description_text data.red_text  ...  \\\n0              آژانس املاک در مشهد                ...   \n1             آژانس املاک در تهران                ...   \n2             مشاور املاک در تهران                ...   \n3                لحظاتی پیش در کرج                ...   \n4             آژانس املاک در تهران                ...   \n...                            ...           ...  ...   \n23995          آژانس املاک در مشهد                ...   \n23996         آژانس املاک در اهواز                ...   \n23997         ۲۳ ساعت پیش در اهواز                ...   \n23998          ۲۳ ساعت پیش در مشهد                ...   \n23999         مشاور املاک در تهران                ...   \n\n      data.image_top_left_tag.icon.icon_color data.image_top_left_tag.text  \\\n0                                         NaN                          NaN   \n1                               WHITE_PRIMARY                            ۶   \n2                               WHITE_PRIMARY                           ۱۶   \n3                               WHITE_PRIMARY                            ۱   \n4                                         NaN                          NaN   \n...                                       ...                          ...   \n23995                           WHITE_PRIMARY                            ۱   \n23996                           WHITE_PRIMARY                            ۱   \n23997                                     NaN                          NaN   \n23998                                     NaN                          NaN   \n23999                           WHITE_PRIMARY                            ۵   \n\n      data.image_top_left_tag.is_icon_left data.image_overlay_tag.text  \\\n0                                      NaN                         NaN   \n1                                     True                         NaN   \n2                                     True                         NaN   \n3                                     True                         NaN   \n4                                      NaN                         NaN   \n...                                    ...                         ...   \n23995                                 True                         NaN   \n23996                                 True                         NaN   \n23997                                  NaN                         NaN   \n23998                                  NaN                         NaN   \n23999                                 True                         NaN   \n\n      data.image_overlay_tag.image_url data.image_overlay_tag.image_color  \\\n0                                  NaN                                NaN   \n1                                  NaN                                NaN   \n2                                  NaN                                NaN   \n3                                  NaN                                NaN   \n4                                  NaN                                NaN   \n...                                ...                                ...   \n23995                              NaN                                NaN   \n23996                              NaN                                NaN   \n23997                              NaN                                NaN   \n23998                              NaN                                NaN   \n23999                              NaN                                NaN   \n\n      data.image_overlay_tag.icon.image_url_dark  \\\n0                                            NaN   \n1                                            NaN   \n2                                            NaN   \n3                                            NaN   \n4                                            NaN   \n...                                          ...   \n23995                                        NaN   \n23996                                        NaN   \n23997                                        NaN   \n23998                                        NaN   \n23999                                        NaN   \n\n      data.image_overlay_tag.icon.image_url_light  \\\n0                                             NaN   \n1                                             NaN   \n2                                             NaN   \n3                                             NaN   \n4                                             NaN   \n...                                           ...   \n23995                                         NaN   \n23996                                         NaN   \n23997                                         NaN   \n23998                                         NaN   \n23999                                         NaN   \n\n       data.image_overlay_tag.icon.icon_name  \\\n0                                        NaN   \n1                                        NaN   \n2                                        NaN   \n3                                        NaN   \n4                                        NaN   \n...                                      ...   \n23995                                    NaN   \n23996                                    NaN   \n23997                                    NaN   \n23998                                    NaN   \n23999                                    NaN   \n\n      data.image_overlay_tag.icon.icon_color  \n0                                        NaN  \n1                                        NaN  \n2                                        NaN  \n3                                        NaN  \n4                                        NaN  \n...                                      ...  \n23995                                    NaN  \n23996                                    NaN  \n23997                                    NaN  \n23998                                    NaN  \n23999                                    NaN  \n\n[24000 rows x 57 columns]",
      "text/html": "<div>\n<style scoped>\n    .dataframe tbody tr th:only-of-type {\n        vertical-align: middle;\n    }\n\n    .dataframe tbody tr th {\n        vertical-align: top;\n    }\n\n    .dataframe thead th {\n        text-align: right;\n    }\n</style>\n<table border=\"1\" class=\"dataframe\">\n  <thead>\n    <tr style=\"text-align: right;\">\n      <th></th>\n      <th>widget_type</th>\n      <th>data.@type</th>\n      <th>data.image_url</th>\n      <th>data.image_count</th>\n      <th>data.title</th>\n      <th>data.has_chat</th>\n      <th>data.top_description_text</th>\n      <th>data.middle_description_text</th>\n      <th>data.bottom_description_text</th>\n      <th>data.red_text</th>\n      <th>...</th>\n      <th>data.image_top_left_tag.icon.icon_color</th>\n      <th>data.image_top_left_tag.text</th>\n      <th>data.image_top_left_tag.is_icon_left</th>\n      <th>data.image_overlay_tag.text</th>\n      <th>data.image_overlay_tag.image_url</th>\n      <th>data.image_overlay_tag.image_color</th>\n      <th>data.image_overlay_tag.icon.image_url_dark</th>\n      <th>data.image_overlay_tag.icon.image_url_light</th>\n      <th>data.image_overlay_tag.icon.icon_name</th>\n      <th>data.image_overlay_tag.icon.icon_color</th>\n    </tr>\n  </thead>\n  <tbody>\n    <tr>\n      <th>0</th>\n      <td>POST_ROW</td>\n      <td>type.googleapis.com/widgets.PostRowData</td>\n      <td></td>\n      <td>0</td>\n      <td>کلاهدوز صفر</td>\n      <td>True</td>\n      <td></td>\n      <td>۲,۸۵۰,۰۰۰,۰۰۰ تومان</td>\n      <td>آژانس املاک در مشهد</td>\n      <td></td>\n      <td>...</td>\n      <td>NaN</td>\n      <td>NaN</td>\n      <td>NaN</td>\n      <td>NaN</td>\n      <td>NaN</td>\n      <td>NaN</td>\n      <td>NaN</td>\n      <td>NaN</td>\n      <td>NaN</td>\n      <td>NaN</td>\n    </tr>\n    <tr>\n      <th>1</th>\n      <td>POST_ROW</td>\n      <td>type.googleapis.com/widgets.PostRowData</td>\n      <td>[{'src': 'https://s100.divarcdn.com/static/thu...</td>\n      <td>6</td>\n      <td>فروش ۱۰۰ متر آپارتمان ۲خواب // قیطریه جنوبی</td>\n      <td>False</td>\n      <td></td>\n      <td>۱۳,۲۰۰,۰۰۰,۰۰۰ تومان</td>\n      <td>آژانس املاک در تهران</td>\n      <td></td>\n      <td>...</td>\n      <td>WHITE_PRIMARY</td>\n      <td>۶</td>\n      <td>True</td>\n      <td>NaN</td>\n      <td>NaN</td>\n      <td>NaN</td>\n      <td>NaN</td>\n      <td>NaN</td>\n      <td>NaN</td>\n      <td>NaN</td>\n    </tr>\n    <tr>\n      <th>2</th>\n      <td>POST_ROW</td>\n      <td>type.googleapis.com/widgets.PostRowData</td>\n      <td>[{'src': 'https://s100.divarcdn.com/static/thu...</td>\n      <td>16</td>\n      <td>آپارتمان ۱۱۰ متری کلید نخورده در خیابان مرتضوی</td>\n      <td>True</td>\n      <td></td>\n      <td>۵,۱۳۰,۰۰۰,۰۰۰ تومان</td>\n      <td>مشاور املاک در تهران</td>\n      <td></td>\n      <td>...</td>\n      <td>WHITE_PRIMARY</td>\n      <td>۱۶</td>\n      <td>True</td>\n      <td>NaN</td>\n      <td>NaN</td>\n      <td>NaN</td>\n      <td>NaN</td>\n      <td>NaN</td>\n      <td>NaN</td>\n      <td>NaN</td>\n    </tr>\n    <tr>\n      <th>3</th>\n      <td>POST_ROW</td>\n      <td>type.googleapis.com/widgets.PostRowData</td>\n      <td>[{'src': 'https://s100.divarcdn.com/static/thu...</td>\n      <td>1</td>\n      <td>116متر ، نوساز ، فول امکانات / شهرک صدف</td>\n      <td>False</td>\n      <td></td>\n      <td>۲,۹۰۰,۰۰۰,۰۰۰ تومان</td>\n      <td>لحظاتی پیش در کرج</td>\n      <td></td>\n      <td>...</td>\n      <td>WHITE_PRIMARY</td>\n      <td>۱</td>\n      <td>True</td>\n      <td>NaN</td>\n      <td>NaN</td>\n      <td>NaN</td>\n      <td>NaN</td>\n      <td>NaN</td>\n      <td>NaN</td>\n      <td>NaN</td>\n    </tr>\n    <tr>\n      <th>4</th>\n      <td>POST_ROW</td>\n      <td>type.googleapis.com/widgets.PostRowData</td>\n      <td></td>\n      <td>0</td>\n      <td>قیطریه (کیکاووس) ۱۵۰ متر فول بازسازی</td>\n      <td>True</td>\n      <td></td>\n      <td>۱۲,۶۰۰,۰۰۰,۰۰۰ تومان</td>\n      <td>آژانس املاک در تهران</td>\n      <td></td>\n      <td>...</td>\n      <td>NaN</td>\n      <td>NaN</td>\n      <td>NaN</td>\n      <td>NaN</td>\n      <td>NaN</td>\n      <td>NaN</td>\n      <td>NaN</td>\n      <td>NaN</td>\n      <td>NaN</td>\n      <td>NaN</td>\n    </tr>\n    <tr>\n      <th>...</th>\n      <td>...</td>\n      <td>...</td>\n      <td>...</td>\n      <td>...</td>\n      <td>...</td>\n      <td>...</td>\n      <td>...</td>\n      <td>...</td>\n      <td>...</td>\n      <td>...</td>\n      <td>...</td>\n      <td>...</td>\n      <td>...</td>\n      <td>...</td>\n      <td>...</td>\n      <td>...</td>\n      <td>...</td>\n      <td>...</td>\n      <td>...</td>\n      <td>...</td>\n      <td>...</td>\n    </tr>\n    <tr>\n      <th>23995</th>\n      <td>POST_ROW</td>\n      <td>type.googleapis.com/widgets.PostRowData</td>\n      <td>[{'src': 'https://s100.divarcdn.com/static/thu...</td>\n      <td>1</td>\n      <td>141متر/تاپ لوکیشن/دو پارکینگ/تک بازدید</td>\n      <td>False</td>\n      <td></td>\n      <td>۴,۰۵۰,۰۰۰,۰۰۰ تومان</td>\n      <td>آژانس املاک در مشهد</td>\n      <td></td>\n      <td>...</td>\n      <td>WHITE_PRIMARY</td>\n      <td>۱</td>\n      <td>True</td>\n      <td>NaN</td>\n      <td>NaN</td>\n      <td>NaN</td>\n      <td>NaN</td>\n      <td>NaN</td>\n      <td>NaN</td>\n      <td>NaN</td>\n    </tr>\n    <tr>\n      <th>23996</th>\n      <td>POST_ROW</td>\n      <td>type.googleapis.com/widgets.PostRowData</td>\n      <td>[{'src': 'https://s100.divarcdn.com/static/thu...</td>\n      <td>1</td>\n      <td>آپارتمان 100متری صفرتاصد بازسازی نزدیک اصلی</td>\n      <td>False</td>\n      <td></td>\n      <td>۱,۳۹۰,۰۰۰,۰۰۰ تومان</td>\n      <td>آژانس املاک در اهواز</td>\n      <td></td>\n      <td>...</td>\n      <td>WHITE_PRIMARY</td>\n      <td>۱</td>\n      <td>True</td>\n      <td>NaN</td>\n      <td>NaN</td>\n      <td>NaN</td>\n      <td>NaN</td>\n      <td>NaN</td>\n      <td>NaN</td>\n      <td>NaN</td>\n    </tr>\n    <tr>\n      <th>23997</th>\n      <td>POST_ROW</td>\n      <td>type.googleapis.com/widgets.PostRowData</td>\n      <td></td>\n      <td>0</td>\n      <td>آپارتمان ۱۶۰ متر مهرشهر</td>\n      <td>False</td>\n      <td></td>\n      <td>۲,۸۰۰,۰۰۰,۰۰۰ تومان</td>\n      <td>۲۳ ساعت پیش در اهواز</td>\n      <td></td>\n      <td>...</td>\n      <td>NaN</td>\n      <td>NaN</td>\n      <td>NaN</td>\n      <td>NaN</td>\n      <td>NaN</td>\n      <td>NaN</td>\n      <td>NaN</td>\n      <td>NaN</td>\n      <td>NaN</td>\n      <td>NaN</td>\n    </tr>\n    <tr>\n      <th>23998</th>\n      <td>POST_ROW</td>\n      <td>type.googleapis.com/widgets.PostRowData</td>\n      <td></td>\n      <td>0</td>\n      <td>آپارتمان ۱30 متری الهیه</td>\n      <td>True</td>\n      <td></td>\n      <td>۳,۰۰۰,۰۰۰,۰۰۰ تومان</td>\n      <td>۲۳ ساعت پیش در مشهد</td>\n      <td></td>\n      <td>...</td>\n      <td>NaN</td>\n      <td>NaN</td>\n      <td>NaN</td>\n      <td>NaN</td>\n      <td>NaN</td>\n      <td>NaN</td>\n      <td>NaN</td>\n      <td>NaN</td>\n      <td>NaN</td>\n      <td>NaN</td>\n    </tr>\n    <tr>\n      <th>23999</th>\n      <td>POST_ROW</td>\n      <td>type.googleapis.com/widgets.PostRowData</td>\n      <td>[{'src': 'https://s100.divarcdn.com/static/thu...</td>\n      <td>5</td>\n      <td>خرید واحدخانه خونه ۱۶۱متر سه خوابه حیاط بالکن ...</td>\n      <td>False</td>\n      <td></td>\n      <td>۱۲,۸۰۰,۰۰۰,۰۰۰ تومان</td>\n      <td>مشاور املاک در تهران</td>\n      <td></td>\n      <td>...</td>\n      <td>WHITE_PRIMARY</td>\n      <td>۵</td>\n      <td>True</td>\n      <td>NaN</td>\n      <td>NaN</td>\n      <td>NaN</td>\n      <td>NaN</td>\n      <td>NaN</td>\n      <td>NaN</td>\n      <td>NaN</td>\n    </tr>\n  </tbody>\n</table>\n<p>24000 rows × 57 columns</p>\n</div>"
     },
     "execution_count": 10,
     "metadata": {},
     "output_type": "execute_result"
    }
   ],
   "source": [
    "df"
   ],
   "metadata": {
    "collapsed": false,
    "pycharm": {
     "name": "#%%\n"
    }
   }
  },
  {
   "cell_type": "code",
   "execution_count": 11,
   "outputs": [],
   "source": [
    "df.to_csv(\"divar_apartment_sell_24000.csv\")"
   ],
   "metadata": {
    "collapsed": false,
    "pycharm": {
     "name": "#%%\n"
    }
   }
  },
  {
   "cell_type": "code",
   "execution_count": null,
   "outputs": [],
   "source": [],
   "metadata": {
    "collapsed": false,
    "pycharm": {
     "name": "#%%\n"
    }
   }
  }
 ],
 "metadata": {
  "kernelspec": {
   "display_name": "Python 3",
   "language": "python",
   "name": "python3"
  },
  "language_info": {
   "codemirror_mode": {
    "name": "ipython",
    "version": 2
   },
   "file_extension": ".py",
   "mimetype": "text/x-python",
   "name": "python",
   "nbconvert_exporter": "python",
   "pygments_lexer": "ipython2",
   "version": "2.7.6"
  }
 },
 "nbformat": 4,
 "nbformat_minor": 0
}
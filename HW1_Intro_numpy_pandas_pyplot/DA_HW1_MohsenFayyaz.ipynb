{
  "cells": [
    {
      "cell_type": "markdown",
      "metadata": {
        "id": "fXJJuGz_W6ta"
      },
      "source": [
        "<div style=\"display:block\" direction=rtl align=right><br><br>\n",
        "    <div  style=\"width:100%;margin:100;display:block\"  display=block align=center>\n",
        "        <img width=130 align=right src=\"https://i.ibb.co/yXKQmtZ/logo1.png\" style=\"margin:0;\" />\n",
        "        <img width=170 align=left  src=\"https://i.ibb.co/wLjqFkw/logo2.png\" style=\"margin:0;\" />\n",
        "        <span><br><font size=5>University of Tehran , school of ECE</font></span>\n",
        "        <span><br><font size=3>Data Analytics Course</font></span>\n",
        "        <span><br><font size=3>Fall 2022</font></span>\n",
        "    </div><br><br><br>\n",
        "    <div style=\"display:block\" align=left display=block> \n",
        "        <font size=3>Homework 1</font><br>\n",
        "        <hr />\n",
        "        <font size=3>TA: <a href=\"mailto:mesbahamirhossein@gmail.com\">Amirhossein Mesbah</a><br></font><br>\n",
        "    </div>\n",
        "</div>"
      ]
    },
    {
      "cell_type": "markdown",
      "metadata": {
        "id": "yBYsNFLaW6tg"
      },
      "source": [
        "# Numpy"
      ]
    },
    {
      "cell_type": "markdown",
      "metadata": {
        "id": "pqZzwAkyW6th"
      },
      "source": [
        "### Question1: mean and std of numbers between 10 and 1000."
      ]
    },
    {
      "cell_type": "code",
      "execution_count": 1,
      "metadata": {
        "colab": {
          "base_uri": "https://localhost:8080/"
        },
        "id": "kd17rlUUW6th",
        "outputId": "e54653e0-8af1-4a79-ff81-7cdf3a06bf11"
      },
      "outputs": [
        {
          "output_type": "stream",
          "name": "stdout",
          "text": [
            "[10 11 12 13 14] ... [ 996  997  998  999 1000]\n",
            "mean: 505.0 std: 286.07691273501956\n"
          ]
        }
      ],
      "source": [
        "import numpy as np\n",
        "import pandas as pd\n",
        "import matplotlib.pyplot as plt\n",
        "\n",
        "plt.style.use(\"ggplot\")\n",
        "\n",
        "a = np.arange(10, 1001)  # Including 1000\n",
        "print(a[:5], \"...\", a[-5:])\n",
        "print(\"mean:\", np.mean(a), \"std:\", np.std(a))"
      ]
    },
    {
      "cell_type": "markdown",
      "metadata": {
        "id": "RuLIMkqSW6ti"
      },
      "source": [
        "### Question2: nearest point to each random point."
      ]
    },
    {
      "cell_type": "code",
      "execution_count": 2,
      "metadata": {
        "colab": {
          "base_uri": "https://localhost:8080/"
        },
        "id": "wwqBg-qXW6ti",
        "outputId": "8e583a11-bed4-4724-df10-fe80616bdd26"
      },
      "outputs": [
        {
          "output_type": "stream",
          "name": "stdout",
          "text": [
            "point0: [0.5488135  0.71518937 0.60276338 0.54488318 0.4236548  0.64589411\n",
            " 0.43758721 0.891773   0.96366276 0.38344152]\n",
            "nearest_indices: [ 3 81  0 95 60 49  5 97 94 46 88 36 16 89 57 39 12 13 36 26 28 87  3 60\n",
            " 93 36 19 72 20 53 86 77 52 40 65 69 11 89 92 15 33 70 66 46 11 65 81  0\n",
            "  3 71 84 63 32 71 25 69 10 55 41 21  4 71 89 51 25 34 95 79 46 35 41 49\n",
            " 27 90 66 50 38 31 46  4 36 46 48 97 50 90 22 21 98 13 73 97 38 35  8 66\n",
            " 99 83 88 96]\n"
          ]
        }
      ],
      "source": [
        "np.random.seed(0)\n",
        "points = np.random.rand(100, 10)\n",
        "print(\"point0:\", points[0])\n",
        "subtraction = points - points[:, None]  # (100, 100, 10)\n",
        "distances = np.linalg.norm(subtraction, axis=-1)  # (100, 100)\n",
        "np.fill_diagonal(distances, np.inf)  # Eliminate self distance\n",
        "nearest_indices = np.argmin(distances, axis=-1)\n",
        "print(\"nearest_indices:\", nearest_indices)"
      ]
    },
    {
      "cell_type": "markdown",
      "metadata": {
        "id": "MOpIDytWW6tj"
      },
      "source": [
        "### Question3: Histogram of distances."
      ]
    },
    {
      "cell_type": "code",
      "execution_count": 4,
      "metadata": {
        "colab": {
          "base_uri": "https://localhost:8080/",
          "height": 299
        },
        "id": "2pqqKm42W6tk",
        "outputId": "9f43e0a7-cd88-43e4-c8cb-3239d685e1bf"
      },
      "outputs": [
        {
          "output_type": "display_data",
          "data": {
            "text/plain": [
              "<Figure size 432x288 with 1 Axes>"
            ],
            "image/png": "[encoded data removed]"
          },
          "metadata": {}
        }
      ],
      "source": [
        "distances = np.linalg.norm(points - points[:, None], axis=-1)\n",
        "# As not specified in the question, we plot all the pairwise distances \n",
        "# including i->j and j->i. (We could take the numpy.tril of matrix if needed)\n",
        "plt.hist(distances.flatten())\n",
        "plt.title(\"Histogram of Distances\")\n",
        "plt.xlabel(\"Distance\")\n",
        "plt.ylabel(\"Frequency\")\n",
        "plt.show()"
      ]
    },
    {
      "cell_type": "markdown",
      "source": [
        "<blockquote>\n",
        "\n",
        "0 Bucket are the 100 self-distances equal to zero, and the rest are approximately shaping a normal distribution which is expected."
      ],
      "metadata": {
        "id": "VPaLPRGQ9Os-"
      }
    },
    {
      "cell_type": "markdown",
      "metadata": {
        "id": "kX0yIMn9W6tl"
      },
      "source": [
        "### Question4:"
      ]
    },
    {
      "cell_type": "markdown",
      "metadata": {
        "id": "VKkJpBPiW6tm"
      },
      "source": [
        "Execute the cell below. By running this cell, a dataset will be loaded from `patents.csv` file. In this notebook, you are asked to analyze this data in several ways. There are three numpy arrays in this dataset:\n",
        "\n",
        "- `patent_number`: a unique identifier for each patetnt\n",
        "- `patent features`: a vector of 16 features describing several properties of each patent\n",
        "- `category`: the category to which a patent belongs\n"
      ]
    },
    {
      "cell_type": "code",
      "source": [
        "! gdown 1bKVxCLlCNE1wCzVFqUTEIK6j5ht9XFVo\n",
        "! unzip data.zip"
      ],
      "metadata": {
        "id": "uaAt-gDkjzJs"
      },
      "execution_count": null,
      "outputs": []
    },
    {
      "cell_type": "code",
      "execution_count": 6,
      "metadata": {
        "colab": {
          "base_uri": "https://localhost:8080/"
        },
        "id": "SF1gCUYAW6to",
        "outputId": "200a397b-b5a2-4cb7-a29b-1a8dc1eb1ffb"
      },
      "outputs": [
        {
          "output_type": "stream",
          "name": "stdout",
          "text": [
            "patent_features: (15689, 16), [ 0.00135472  0.01564001 -0.04858465  0.03986628 -0.04423689 -0.00215539\n",
            "  0.01330717 -0.02743183  0.01634773  0.05035789 -0.02199074 -0.02577395\n",
            "  0.00305165 -0.00588488  0.03504592 -0.05058029]\n",
            "patent_number: ['US-2019250858-A1' 'US-1000462-A' 'KR-200146416-Y1' ... 'CA-2952951-A1'\n",
            " 'CH-608317-A' 'CN-100513251-C']\n",
            "patent_category: (15689,), [0 1 2 3 4 5 6 7]\n"
          ]
        }
      ],
      "source": [
        "import pandas as pd\n",
        "import numpy as np\n",
        "\n",
        "df = pd.read_csv('data/patents.csv')\n",
        "df.head()\n",
        "patent_number = df['publication_number'].to_numpy()\n",
        "patent_features = df['patent_embedding'].to_numpy()\n",
        "temp = []\n",
        "for i in range(patent_features.size):\n",
        "    s = str(patent_features[i])\n",
        "    s1 = s.replace(r'\\n', '')\n",
        "    temp.append(\n",
        "        np.array(s.split()[1:-1], dtype='float')[:16]\n",
        "    )\n",
        "\n",
        "patent_features = np.stack(temp)\n",
        "patent_category = df['category']\n",
        "print(f\"patent_features: {patent_features.shape}, {patent_features[0]}\")\n",
        "print(f\"patent_number: {patent_number}\")\n",
        "print(f\"patent_category: {patent_category.shape}, {np.unique(patent_category)}\")"
      ]
    },
    {
      "cell_type": "markdown",
      "metadata": {
        "id": "SLMt-BXgW6tp"
      },
      "source": [
        "#### Part1: Which patent has the highest norm? (Eucledian distance from origin)"
      ]
    },
    {
      "cell_type": "code",
      "execution_count": 7,
      "metadata": {
        "colab": {
          "base_uri": "https://localhost:8080/",
          "height": 35
        },
        "id": "EACP5WuyW6tp",
        "outputId": "5b4b6c30-a5d0-45c3-ba9e-231fd40d6d4e"
      },
      "outputs": [
        {
          "output_type": "execute_result",
          "data": {
            "text/plain": [
              "'CH-527846-A'"
            ],
            "application/vnd.google.colaboratory.intrinsic+json": {
              "type": "string"
            }
          },
          "metadata": {},
          "execution_count": 7
        }
      ],
      "source": [
        "patent_number[np.argmax(np.linalg.norm(patent_features, axis=-1))]"
      ]
    },
    {
      "cell_type": "markdown",
      "metadata": {
        "id": "ulszLVgUW6tq"
      },
      "source": [
        "#### Part 2: Find the two patents that are the farthest from eachother"
      ]
    },
    {
      "cell_type": "markdown",
      "source": [
        "<blockquote>\n",
        "\n",
        "sqrt(x) is monotone increasing, so comparing squared-distances is equivalent to comparing distances. We can ignore taking the sqrt in euclidean distance if we wish.\n",
        "\n",
        "$d\\left( p,q\\right)   = \\sqrt {\\sum _{i=1}^{n}  \\left( q_{i}-p_{i}\\right)^2 }$"
      ],
      "metadata": {
        "id": "TLqho95d1rUJ"
      }
    },
    {
      "cell_type": "code",
      "execution_count": 8,
      "metadata": {
        "id": "rp-TM3hVW6tq",
        "colab": {
          "base_uri": "https://localhost:8080/"
        },
        "outputId": "a737dbe5-7cf3-4e86-e205-9d0780c8eb1f"
      },
      "outputs": [
        {
          "output_type": "execute_result",
          "data": {
            "text/plain": [
              "('KR-100793527-B1', 'US-3240764-A')"
            ]
          },
          "metadata": {},
          "execution_count": 8
        }
      ],
      "source": [
        "# Subtraction Matrix will be (15689, 15689, 16) \n",
        "# which for float32 will be 3.93GB*4 = 15.75GB, more than available RAM (So we use np.float16)\n",
        "p = patent_features.astype(np.float16)  # Increase precision \n",
        "q = patent_features.astype(np.float16)[:, None]\n",
        "distances = np.sum((p - q) ** 2, axis=-1)\n",
        "i, j = np.unravel_index(distances.argmax(), distances.shape)\n",
        "patent_number[i], patent_number[j]"
      ]
    },
    {
      "cell_type": "markdown",
      "metadata": {
        "id": "46xS6q5mW6tq"
      },
      "source": [
        "#### Part 3: Write a function that, given a patent number, finds its nearest neighbour."
      ]
    },
    {
      "cell_type": "code",
      "execution_count": 9,
      "metadata": {
        "id": "iWZW0S1gW6tq",
        "colab": {
          "base_uri": "https://localhost:8080/"
        },
        "outputId": "acef19e5-8e7c-4936-d2d6-a0b7f4ff4888"
      },
      "outputs": [
        {
          "output_type": "execute_result",
          "data": {
            "text/plain": [
              "(7515, 'US-2019251011-A1')"
            ]
          },
          "metadata": {},
          "execution_count": 9
        }
      ],
      "source": [
        "def nearest_neighbor(patent_num):\n",
        "    idx = np.argwhere(patent_number == patent_num)[0][0]\n",
        "    distances = np.linalg.norm(patent_features[idx] - patent_features, axis=-1)\n",
        "    distances[idx] = np.inf\n",
        "    nearest_idx = np.argmin(distances)\n",
        "    return nearest_idx, patent_number[nearest_idx]\n",
        "\n",
        "nearest_neighbor(\"US-2019250858-A1\")"
      ]
    },
    {
      "cell_type": "markdown",
      "metadata": {
        "id": "ZJxEtPKIW6tq"
      },
      "source": [
        "#### Part 4: How many patents have a nearest neighbour that is in the same category?"
      ]
    },
    {
      "cell_type": "code",
      "execution_count": 10,
      "metadata": {
        "id": "hu--oXElW6tr",
        "colab": {
          "base_uri": "https://localhost:8080/"
        },
        "outputId": "880ab4d8-3fb7-4565-a85e-32a3a72dfe7d"
      },
      "outputs": [
        {
          "output_type": "execute_result",
          "data": {
            "text/plain": [
              "13004"
            ]
          },
          "metadata": {},
          "execution_count": 10
        }
      ],
      "source": [
        "# Subtraction Matrix will be (15689, 15689, 16) \n",
        "# which for float32 will be 3.93GB*4 = 15.75GB, more than available RAM (So we use np.float16)\n",
        "p = patent_features.astype(np.float16)  # Increase precision \n",
        "q = patent_features.astype(np.float16)[:, None]\n",
        "distances = np.sum((p - q) ** 2, axis=-1)\n",
        "np.fill_diagonal(distances, np.inf)  # Eliminate self distance\n",
        "nearest_indices = np.argmin(distances, axis=-1)\n",
        "(np.array(patent_category) == np.array(patent_category)[nearest_indices]).sum()"
      ]
    },
    {
      "cell_type": "markdown",
      "metadata": {
        "id": "XqM8MRlfW6tr"
      },
      "source": [
        "#### Part 5: What is the average and std of distances between every pair of patents within a category? Using these calculated quantities, which cluster do you think is more condensed? Which one is more scattered?"
      ]
    },
    {
      "cell_type": "markdown",
      "source": [
        "<blockquote>\n",
        "\n",
        "Based on std of categories 0-7, we can see that cat 1 has std=0.030 which is the smallest among all, meaning it is the most condensed category and the values are not scattered, but are closer to mean.\n",
        "On the contrary, cat 3 has std=0.0448 which is the largest, showing that the values are more scattered.\n",
        "\n",
        "As an extra investigation, we also draw the violion plot of these categories. It demonstrates the results mentioned before, that cat 1 is condensed and cat 3 is scatterd.\n",
        "\n",
        "(As not specified in question, we consider pairwise distances to include a patent's distance to itself. This can be changed by removing matrix diagonal)"
      ],
      "metadata": {
        "id": "ds0_Wxvg-Z8k"
      }
    },
    {
      "cell_type": "code",
      "execution_count": 11,
      "metadata": {
        "id": "CPho15xiW6tr",
        "colab": {
          "base_uri": "https://localhost:8080/"
        },
        "outputId": "a535ac78-044b-4cd9-da5e-bc31fb7b4719"
      },
      "outputs": [
        {
          "output_type": "stream",
          "name": "stdout",
          "text": [
            "Category Splits: [ 1948  4650  5569  6589  7866  9236 13496] [1 2 3 4 5 6 7]\n",
            "(mean: 0.13098792252469735, std: 0.03973015614729099)\n",
            "(mean: 0.10235593475072617, std: 0.030560683465341902)\n",
            "(mean: 0.14095499322691948, std: 0.044034332218413415)\n",
            "(mean: 0.13874011203724915, std: 0.044831071584347036)\n",
            "(mean: 0.13610883703695129, std: 0.0402689760442664)\n",
            "(mean: 0.1345985147136962, std: 0.04241648037596702)\n",
            "(mean: 0.10400553102334549, std: 0.03180215536017751)\n",
            "(mean: 0.13052366960262615, std: 0.03853325352892597)\n"
          ]
        }
      ],
      "source": [
        "cat_idx_sorted = np.argsort(np.array(patent_category))\n",
        "split_indices = np.where(np.diff(np.array(patent_category)[cat_idx_sorted]))[0] + 1\n",
        "cat_pat = np.split(patent_features[cat_idx_sorted], split_indices)\n",
        "print(\"Category Splits:\", split_indices, np.array(patent_category)[cat_idx_sorted][split_indices])\n",
        "\n",
        "def compute_distances(x):\n",
        "    return np.linalg.norm(x - x[:, None], axis=-1)\n",
        "\n",
        "def mean_std(x):\n",
        "    return f\"(mean: {np.mean(x.flatten())}, std: {np.std(x.flatten())})\"\n",
        "\n",
        "cat_pat_dist = list(map(compute_distances, cat_pat))\n",
        "print(*list(map(mean_std, cat_pat_dist )), sep = \"\\n\")"
      ]
    },
    {
      "cell_type": "code",
      "source": [
        "import seaborn as sns\n",
        "my_dict = {idx: c_d for idx, c_d in enumerate(cat_pat_dist)}\n",
        "# sns.boxplot(data = cat_pat_dist)\n",
        "sns.violinplot(data=cat_pat_dist)"
      ],
      "metadata": {
        "colab": {
          "base_uri": "https://localhost:8080/",
          "height": 282
        },
        "id": "vLinj_HvAZZB",
        "outputId": "81944e18-d634-4bdc-83e8-eadc9c2cdb24"
      },
      "execution_count": 12,
      "outputs": [
        {
          "output_type": "execute_result",
          "data": {
            "text/plain": [
              "<matplotlib.axes._subplots.AxesSubplot at 0x7fee429e0d90>"
            ]
          },
          "metadata": {},
          "execution_count": 12
        },
        {
          "output_type": "display_data",
          "data": {
            "text/plain": [
              "<Figure size 432x288 with 1 Axes>"
            ],
            "image/png": "[encoded data removed]"
          },
          "metadata": {}
        }
      ]
    },
    {
      "cell_type": "markdown",
      "metadata": {
        "id": "2ioXxmV0W6tr"
      },
      "source": [
        "# Working with different Data Files"
      ]
    },
    {
      "cell_type": "markdown",
      "metadata": {
        "id": "pXjMpsIHW6ts"
      },
      "source": [
        "## .txt"
      ]
    },
    {
      "cell_type": "markdown",
      "metadata": {
        "id": "cVrk4VLtW6ts"
      },
      "source": [
        "### Part 1: store words in a list"
      ]
    },
    {
      "cell_type": "markdown",
      "source": [
        "<blockquote>\n",
        "\n",
        "Tokenization in NLP is a researched topic and there are multiple methods to do this task. Here for simplification we remove all non alpha characters, (With an exemption for ' to discriminate \"it's\" and \"its\"). As there are no specific instructions in the question about what should be considered as a word/token, we use the aforementioned assumption."
      ],
      "metadata": {
        "id": "r6v-jvoHhjkY"
      }
    },
    {
      "cell_type": "code",
      "execution_count": 13,
      "metadata": {
        "id": "InF5iZw9W6ts",
        "colab": {
          "base_uri": "https://localhost:8080/"
        },
        "outputId": "8c306985-3f1c-40a8-817b-6b7c7dfc243a"
      },
      "outputs": [
        {
          "output_type": "stream",
          "name": "stdout",
          "text": [
            "['Although', 'Beautiful', 'Complex', 'Dutch', 'Errors', 'Explicit', 'Flat', 'If', 'In', 'Namespaces', 'Now', 'Peters', 'Python', 'Readability', 'Simple', 'Sparse', 'Special', 'The', 'There', 'Tim', 'Unless', 'Zen', 'a', 'ambiguity', 'and', 'are', \"aren't\", 'at', 'bad', 'be', 'beats', 'better', 'break', 'by', 'cases', 'complex', 'complicated', 'counts', 'dense', 'do', 'easy', 'enough', 'explain', 'explicitly', 'face', 'first', 'good', 'great', 'guess', 'hard', 'honking', 'idea', 'implementation', 'implicit', 'is', 'it', \"it's\", \"let's\", 'may', 'more', 'nested', 'never', 'not', 'now', 'obvious', 'of', 'often', 'one', 'only', 'pass', 'practicality', 'preferably', 'purity', 'refuse', 'right', 'rules', 'should', 'silenced', 'silently', 'special', 'temptation', 'than', 'that', 'the', 'those', 'to', 'ugly', 'unless', 'way', \"you're\"]\n"
          ]
        }
      ],
      "source": [
        "with open(\"data/zen_of_python.txt\", \"r\") as f:\n",
        "    lines = f.read()\n",
        "# As we need words, we should only keep A-z and space\n",
        "alpha = ''.join(filter(lambda x: x.isalpha() or x.isspace() or x == \"'\", lines))  \n",
        "unique_words = sorted(list(set(alpha.split())))\n",
        "print(unique_words)"
      ]
    },
    {
      "cell_type": "markdown",
      "metadata": {
        "id": "SJUgCpHFW6ts"
      },
      "source": [
        "### Part 2: Occurrence of each character"
      ]
    },
    {
      "cell_type": "code",
      "execution_count": 14,
      "metadata": {
        "id": "aw3zXj2vW6ts",
        "colab": {
          "base_uri": "https://localhost:8080/"
        },
        "outputId": "3f7c212c-93a6-44b4-f4f8-5a437c464389"
      },
      "outputs": [
        {
          "output_type": "stream",
          "name": "stdout",
          "text": [
            "Method1: [(' ', 124), ('e', 90), ('t', 76), ('i', 50), ('a', 50), ('o', 43), ('s', 43), ('n', 40), ('l', 33), ('r', 32), ('h', 31), ('b', 20), ('\\n', 20), ('u', 20), ('p', 20), ('.', 18), ('y', 17), ('m', 16), ('c', 16), ('d', 16), ('f', 11), ('g', 11), ('x', 6), ('-', 6), ('v', 5), (',', 4), (\"'\", 4), ('w', 4), ('T', 3), ('S', 3), ('A', 3), ('I', 3), ('P', 2), ('E', 2), ('k', 2), ('N', 2), ('*', 2), ('Z', 1), ('B', 1), ('C', 1), ('F', 1), ('R', 1), ('U', 1), ('D', 1), ('!', 1)]\n",
            "Method2: {'T': 3, 'h': 31, 'e': 90, ' ': 124, 'Z': 1, 'n': 40, 'o': 43, 'f': 11, 'P': 2, 'y': 17, 't': 76, ',': 4, 'b': 20, 'i': 50, 'm': 16, 'r': 32, 's': 43, '\\n': 20, 'B': 1, 'a': 50, 'u': 20, 'l': 33, 'g': 11, '.': 18, 'E': 2, 'x': 6, 'p': 20, 'c': 16, 'S': 3, 'C': 1, 'd': 16, 'F': 1, 'R': 1, \"'\": 4, 'k': 2, 'A': 3, 'v': 5, 'U': 1, 'I': 3, '-': 6, 'w': 4, 'D': 1, 'N': 2, '*': 2, '!': 1}\n"
          ]
        }
      ],
      "source": [
        "from collections import Counter\n",
        "char_count = Counter(lines)\n",
        "print(\"Method1:\", char_count.most_common())\n",
        "\n",
        "# W/O/ libraries\n",
        "char_count_2 = dict()\n",
        "for c in lines:\n",
        "    char_count_2[c] = char_count_2.get(c, 0) + 1\n",
        "print(\"Method2:\", char_count_2)"
      ]
    },
    {
      "cell_type": "markdown",
      "metadata": {
        "id": "9XsD_PUXW6ts"
      },
      "source": [
        "### Part 3: Occurrence of each word"
      ]
    },
    {
      "cell_type": "code",
      "execution_count": 15,
      "metadata": {
        "id": "sDzrH3otW6ts",
        "colab": {
          "base_uri": "https://localhost:8080/"
        },
        "outputId": "5164303a-fc47-48cf-a8e7-34f9ad7c1b6e"
      },
      "outputs": [
        {
          "output_type": "stream",
          "name": "stdout",
          "text": [
            "Method1: [('is', 10), ('better', 8), ('than', 8), ('to', 5), ('the', 5), ('of', 3), ('Although', 3), ('never', 3), ('be', 3), ('one', 3), ('idea', 3), ('should', 2), ('obvious', 2), ('way', 2), ('do', 2), ('it', 2), ('may', 2), ('If', 2), ('implementation', 2), ('explain', 2), ('a', 2), ('The', 1), ('Zen', 1), ('Python', 1), ('by', 1), ('Tim', 1), ('Peters', 1), ('Beautiful', 1), ('ugly', 1), ('Explicit', 1), ('implicit', 1), ('Simple', 1), ('complex', 1), ('Complex', 1), ('complicated', 1), ('Flat', 1), ('nested', 1), ('Sparse', 1), ('dense', 1), ('Readability', 1), ('counts', 1), ('Special', 1), ('cases', 1), (\"aren't\", 1), ('special', 1), ('enough', 1), ('break', 1), ('rules', 1), ('practicality', 1), ('beats', 1), ('purity', 1), ('Errors', 1), ('pass', 1), ('silently', 1), ('Unless', 1), ('explicitly', 1), ('silenced', 1), ('In', 1), ('face', 1), ('ambiguity', 1), ('refuse', 1), ('temptation', 1), ('guess', 1), ('There', 1), ('and', 1), ('preferably', 1), ('only', 1), ('that', 1), ('not', 1), ('at', 1), ('first', 1), ('unless', 1), (\"you're\", 1), ('Dutch', 1), ('Now', 1), ('often', 1), ('right', 1), ('now', 1), ('hard', 1), (\"it's\", 1), ('bad', 1), ('easy', 1), ('good', 1), ('Namespaces', 1), ('are', 1), ('honking', 1), ('great', 1), (\"let's\", 1), ('more', 1), ('those', 1)]\n",
            "Method2:  {'The': 1, 'Zen': 1, 'of': 3, 'Python': 1, 'by': 1, 'Tim': 1, 'Peters': 1, 'Beautiful': 1, 'is': 10, 'better': 8, 'than': 8, 'ugly': 1, 'Explicit': 1, 'implicit': 1, 'Simple': 1, 'complex': 1, 'Complex': 1, 'complicated': 1, 'Flat': 1, 'nested': 1, 'Sparse': 1, 'dense': 1, 'Readability': 1, 'counts': 1, 'Special': 1, 'cases': 1, \"aren't\": 1, 'special': 1, 'enough': 1, 'to': 5, 'break': 1, 'the': 5, 'rules': 1, 'Although': 3, 'practicality': 1, 'beats': 1, 'purity': 1, 'Errors': 1, 'should': 2, 'never': 3, 'pass': 1, 'silently': 1, 'Unless': 1, 'explicitly': 1, 'silenced': 1, 'In': 1, 'face': 1, 'ambiguity': 1, 'refuse': 1, 'temptation': 1, 'guess': 1, 'There': 1, 'be': 3, 'one': 3, 'and': 1, 'preferably': 1, 'only': 1, 'obvious': 2, 'way': 2, 'do': 2, 'it': 2, 'that': 1, 'may': 2, 'not': 1, 'at': 1, 'first': 1, 'unless': 1, \"you're\": 1, 'Dutch': 1, 'Now': 1, 'often': 1, 'right': 1, 'now': 1, 'If': 2, 'implementation': 2, 'hard': 1, 'explain': 2, \"it's\": 1, 'a': 2, 'bad': 1, 'idea': 3, 'easy': 1, 'good': 1, 'Namespaces': 1, 'are': 1, 'honking': 1, 'great': 1, \"let's\": 1, 'more': 1, 'those': 1}\n"
          ]
        }
      ],
      "source": [
        "word_count = Counter(alpha.split())\n",
        "print(\"Method1:\", word_count.most_common())\n",
        "\n",
        "# W/O/ libraries\n",
        "word_count_2 = dict()\n",
        "for w in alpha.split():\n",
        "    word_count_2[w] = word_count_2.get(w, 0) + 1\n",
        "print(\"Method2: \", word_count_2)"
      ]
    },
    {
      "cell_type": "markdown",
      "metadata": {
        "id": "js1PALLqW6tt"
      },
      "source": [
        "### Part 4: Define a function for saving stats at the end of `.txt` file"
      ]
    },
    {
      "cell_type": "code",
      "execution_count": 19,
      "metadata": {
        "id": "AMG0Yg07W6tt"
      },
      "outputs": [],
      "source": [
        "from collections import Counter\n",
        "def append_stats(txt_path: str):\n",
        "    with open(txt_path, \"r\") as f:\n",
        "        lines = f.read()\n",
        "        next_lines = len(lines.split(\"\\n\"))\n",
        "        alpha = ''.join(filter(lambda x: x.isalpha() or x.isspace() or x == \"'\", lines))  \n",
        "        char_count = Counter(lines)\n",
        "        word_count = Counter(alpha.split())\n",
        "    print(next_lines, \"\\n\", sum(char_count.values()), \"\\n\", sum(word_count.values()))\n",
        "    with open(f\"{txt_path}\", \"a\") as f:\n",
        "        f.write(f\"\\n\\n#lines: {next_lines}\\n\")\n",
        "        f.write(f\"#chars: {sum(char_count.values())}\\n\")\n",
        "        f.write(f\"#words: {sum(word_count.values())}\\n\")\n",
        "        f.write(f\"char_count: {char_count.most_common()}\\n\")\n",
        "        f.write(f\"word_count: {word_count.most_common()}\")"
      ]
    },
    {
      "cell_type": "markdown",
      "metadata": {
        "id": "imGa3HqXW6tt"
      },
      "source": [
        "### Part 5: Apply your defined function on 'zen_of_python.txt`"
      ]
    },
    {
      "cell_type": "code",
      "execution_count": 20,
      "metadata": {
        "id": "H4Vhq8paW6tt",
        "colab": {
          "base_uri": "https://localhost:8080/"
        },
        "outputId": "df666eb7-047f-44fe-9e5c-951d076e0e5e"
      },
      "outputs": [
        {
          "output_type": "stream",
          "name": "stdout",
          "text": [
            "21 \n",
            " 856 \n",
            " 143\n"
          ]
        }
      ],
      "source": [
        "append_stats(\"data/zen_of_python.txt\")"
      ]
    },
    {
      "cell_type": "markdown",
      "metadata": {
        "id": "SWSs8mtCW6tt"
      },
      "source": [
        "## csv"
      ]
    },
    {
      "cell_type": "markdown",
      "metadata": {
        "id": "1slrzTUFW6tt"
      },
      "source": [
        "### Part 1: number of features and data points"
      ]
    },
    {
      "cell_type": "code",
      "execution_count": 21,
      "metadata": {
        "id": "r-WuzVIRW6tt",
        "colab": {
          "base_uri": "https://localhost:8080/",
          "height": 129
        },
        "outputId": "247a3c03-27a5-4e9d-ac7c-c912394b994f"
      },
      "outputs": [
        {
          "output_type": "stream",
          "name": "stdout",
          "text": [
            "Features: 5\n"
          ]
        },
        {
          "output_type": "execute_result",
          "data": {
            "text/plain": [
              "  publication_number                                           title  \\\n",
              "0   US-2019250858-A1  memory controller and operating method thereof   \n",
              "1       US-1000462-A                                    corn planter   \n",
              "\n",
              "    cpc_code                                   patent_embedding  category  \n",
              "0  G06F3/061  [ 0.00135472  0.01564001 -0.04858465  0.039866...         1  \n",
              "1   A01C9/00  [-4.44490612e-02  2.48770583e-02 -5.62837869e-...         6  "
            ],
            "text/html": [
              "\n",
              "  <div id=\"df-f4d9d0f2-05b0-4d40-b1c5-e119d04ed015\">\n",
              "    <div class=\"colab-df-container\">\n",
              "      <div>\n",
              "<style scoped>\n",
              "    .dataframe tbody tr th:only-of-type {\n",
              "        vertical-align: middle;\n",
              "    }\n",
              "\n",
              "    .dataframe tbody tr th {\n",
              "        vertical-align: top;\n",
              "    }\n",
              "\n",
              "    .dataframe thead th {\n",
              "        text-align: right;\n",
              "    }\n",
              "</style>\n",
              "<table border=\"1\" class=\"dataframe\">\n",
              "  <thead>\n",
              "    <tr style=\"text-align: right;\">\n",
              "      <th></th>\n",
              "      <th>publication_number</th>\n",
              "      <th>title</th>\n",
              "      <th>cpc_code</th>\n",
              "      <th>patent_embedding</th>\n",
              "      <th>category</th>\n",
              "    </tr>\n",
              "  </thead>\n",
              "  <tbody>\n",
              "    <tr>\n",
              "      <th>0</th>\n",
              "      <td>US-2019250858-A1</td>\n",
              "      <td>memory controller and operating method thereof</td>\n",
              "      <td>G06F3/061</td>\n",
              "      <td>[ 0.00135472  0.01564001 -0.04858465  0.039866...</td>\n",
              "      <td>1</td>\n",
              "    </tr>\n",
              "    <tr>\n",
              "      <th>1</th>\n",
              "      <td>US-1000462-A</td>\n",
              "      <td>corn planter</td>\n",
              "      <td>A01C9/00</td>\n",
              "      <td>[-4.44490612e-02  2.48770583e-02 -5.62837869e-...</td>\n",
              "      <td>6</td>\n",
              "    </tr>\n",
              "  </tbody>\n",
              "</table>\n",
              "</div>\n",
              "      <button class=\"colab-df-convert\" onclick=\"convertToInteractive('df-f4d9d0f2-05b0-4d40-b1c5-e119d04ed015')\"\n",
              "              title=\"Convert this dataframe to an interactive table.\"\n",
              "              style=\"display:none;\">\n",
              "        \n",
              "  <svg xmlns=\"http://www.w3.org/2000/svg\" height=\"24px\"viewBox=\"0 0 24 24\"\n",
              "       width=\"24px\">\n",
              "    <path d=\"M0 0h24v24H0V0z\" fill=\"none\"/>\n",
              "    <path d=\"M18.56 5.44l.94 2.06.94-2.06 2.06-.94-2.06-.94-.94-2.06-.94 2.06-2.06.94zm-11 1L8.5 8.5l.94-2.06 2.06-.94-2.06-.94L8.5 2.5l-.94 2.06-2.06.94zm10 10l.94 2.06.94-2.06 2.06-.94-2.06-.94-.94-2.06-.94 2.06-2.06.94z\"/><path d=\"M17.41 7.96l-1.37-1.37c-.4-.4-.92-.59-1.43-.59-.52 0-1.04.2-1.43.59L10.3 9.45l-7.72 7.72c-.78.78-.78 2.05 0 2.83L4 21.41c.39.39.9.59 1.41.59.51 0 1.02-.2 1.41-.59l7.78-7.78 2.81-2.81c.8-.78.8-2.07 0-2.86zM5.41 20L4 18.59l7.72-7.72 1.47 1.35L5.41 20z\"/>\n",
              "  </svg>\n",
              "      </button>\n",
              "      \n",
              "  <style>\n",
              "    .colab-df-container {\n",
              "      display:flex;\n",
              "      flex-wrap:wrap;\n",
              "      gap: 12px;\n",
              "    }\n",
              "\n",
              "    .colab-df-convert {\n",
              "      background-color: #E8F0FE;\n",
              "      border: none;\n",
              "      border-radius: 50%;\n",
              "      cursor: pointer;\n",
              "      display: none;\n",
              "      fill: #1967D2;\n",
              "      height: 32px;\n",
              "      padding: 0 0 0 0;\n",
              "      width: 32px;\n",
              "    }\n",
              "\n",
              "    .colab-df-convert:hover {\n",
              "      background-color: #E2EBFA;\n",
              "      box-shadow: 0px 1px 2px rgba(60, 64, 67, 0.3), 0px 1px 3px 1px rgba(60, 64, 67, 0.15);\n",
              "      fill: #174EA6;\n",
              "    }\n",
              "\n",
              "    [theme=dark] .colab-df-convert {\n",
              "      background-color: #3B4455;\n",
              "      fill: #D2E3FC;\n",
              "    }\n",
              "\n",
              "    [theme=dark] .colab-df-convert:hover {\n",
              "      background-color: #434B5C;\n",
              "      box-shadow: 0px 1px 3px 1px rgba(0, 0, 0, 0.15);\n",
              "      filter: drop-shadow(0px 1px 2px rgba(0, 0, 0, 0.3));\n",
              "      fill: #FFFFFF;\n",
              "    }\n",
              "  </style>\n",
              "\n",
              "      <script>\n",
              "        const buttonEl =\n",
              "          document.querySelector('#df-f4d9d0f2-05b0-4d40-b1c5-e119d04ed015 button.colab-df-convert');\n",
              "        buttonEl.style.display =\n",
              "          google.colab.kernel.accessAllowed ? 'block' : 'none';\n",
              "\n",
              "        async function convertToInteractive(key) {\n",
              "          const element = document.querySelector('#df-f4d9d0f2-05b0-4d40-b1c5-e119d04ed015');\n",
              "          const dataTable =\n",
              "            await google.colab.kernel.invokeFunction('convertToInteractive',\n",
              "                                                     [key], {});\n",
              "          if (!dataTable) return;\n",
              "\n",
              "          const docLinkHtml = 'Like what you see? Visit the ' +\n",
              "            '<a target=\"_blank\" href=https://colab.research.google.com/notebooks/data_table.ipynb>data table notebook</a>'\n",
              "            + ' to learn more about interactive tables.';\n",
              "          element.innerHTML = '';\n",
              "          dataTable['output_type'] = 'display_data';\n",
              "          await google.colab.output.renderOutput(dataTable, element);\n",
              "          const docLink = document.createElement('div');\n",
              "          docLink.innerHTML = docLinkHtml;\n",
              "          element.appendChild(docLink);\n",
              "        }\n",
              "      </script>\n",
              "    </div>\n",
              "  </div>\n",
              "  "
            ]
          },
          "metadata": {},
          "execution_count": 21
        }
      ],
      "source": [
        "import pandas as pd\n",
        "\n",
        "df = pd.read_csv(\"data/patents.csv\")\n",
        "print(f\"Features: {len(df.columns)}\")\n",
        "df.head(2)"
      ]
    },
    {
      "cell_type": "code",
      "execution_count": null,
      "metadata": {
        "id": "cDdPMfhMW6tt",
        "colab": {
          "base_uri": "https://localhost:8080/"
        },
        "outputId": "e2675c5e-e6cc-419c-eaa1-5822b578f192"
      },
      "outputs": [
        {
          "output_type": "stream",
          "name": "stdout",
          "text": [
            "Data Points: 15689\n"
          ]
        }
      ],
      "source": [
        "print(f\"Data Points: {len(df)}\")"
      ]
    },
    {
      "cell_type": "markdown",
      "metadata": {
        "id": "BRmRY1KVW6tt"
      },
      "source": [
        "### Part 2: Name of Features"
      ]
    },
    {
      "cell_type": "code",
      "execution_count": null,
      "metadata": {
        "id": "Cvzq0Bx-W6tu",
        "colab": {
          "base_uri": "https://localhost:8080/"
        },
        "outputId": "4ba0c3ce-7d7d-4cc0-e846-3062a7ff2619"
      },
      "outputs": [
        {
          "output_type": "stream",
          "name": "stdout",
          "text": [
            "Index(['publication_number', 'title', 'cpc_code', 'patent_embedding',\n",
            "       'category'],\n",
            "      dtype='object')\n",
            "publication_number    object\n",
            "title                 object\n",
            "cpc_code              object\n",
            "patent_embedding      object\n",
            "category               int64\n",
            "dtype: object\n"
          ]
        }
      ],
      "source": [
        "print(df.columns)\n",
        "print(df.dtypes)"
      ]
    },
    {
      "cell_type": "markdown",
      "metadata": {
        "id": "OoiFq5e5W6tu"
      },
      "source": [
        "### Part 3: Print Stats of Dataframe"
      ]
    },
    {
      "cell_type": "markdown",
      "source": [
        "<blockquote>\n",
        "\n",
        "Only category is int64, so describe will summarize its statistics."
      ],
      "metadata": {
        "id": "O3kp_L-unkfO"
      }
    },
    {
      "cell_type": "code",
      "execution_count": null,
      "metadata": {
        "id": "dnqW8-snW6tu",
        "colab": {
          "base_uri": "https://localhost:8080/",
          "height": 300
        },
        "outputId": "4b9c3aed-811a-4b5b-895f-fbb08cc60166"
      },
      "outputs": [
        {
          "output_type": "execute_result",
          "data": {
            "text/plain": [
              "           category\n",
              "count  15689.000000\n",
              "mean       3.854229\n",
              "std        2.499307\n",
              "min        0.000000\n",
              "25%        1.000000\n",
              "50%        4.000000\n",
              "75%        6.000000\n",
              "max        7.000000"
            ],
            "text/html": [
              "\n",
              "  <div id=\"df-c1741ea4-2226-4de3-b674-e4c52e994a0f\">\n",
              "    <div class=\"colab-df-container\">\n",
              "      <div>\n",
              "<style scoped>\n",
              "    .dataframe tbody tr th:only-of-type {\n",
              "        vertical-align: middle;\n",
              "    }\n",
              "\n",
              "    .dataframe tbody tr th {\n",
              "        vertical-align: top;\n",
              "    }\n",
              "\n",
              "    .dataframe thead th {\n",
              "        text-align: right;\n",
              "    }\n",
              "</style>\n",
              "<table border=\"1\" class=\"dataframe\">\n",
              "  <thead>\n",
              "    <tr style=\"text-align: right;\">\n",
              "      <th></th>\n",
              "      <th>category</th>\n",
              "    </tr>\n",
              "  </thead>\n",
              "  <tbody>\n",
              "    <tr>\n",
              "      <th>count</th>\n",
              "      <td>15689.000000</td>\n",
              "    </tr>\n",
              "    <tr>\n",
              "      <th>mean</th>\n",
              "      <td>3.854229</td>\n",
              "    </tr>\n",
              "    <tr>\n",
              "      <th>std</th>\n",
              "      <td>2.499307</td>\n",
              "    </tr>\n",
              "    <tr>\n",
              "      <th>min</th>\n",
              "      <td>0.000000</td>\n",
              "    </tr>\n",
              "    <tr>\n",
              "      <th>25%</th>\n",
              "      <td>1.000000</td>\n",
              "    </tr>\n",
              "    <tr>\n",
              "      <th>50%</th>\n",
              "      <td>4.000000</td>\n",
              "    </tr>\n",
              "    <tr>\n",
              "      <th>75%</th>\n",
              "      <td>6.000000</td>\n",
              "    </tr>\n",
              "    <tr>\n",
              "      <th>max</th>\n",
              "      <td>7.000000</td>\n",
              "    </tr>\n",
              "  </tbody>\n",
              "</table>\n",
              "</div>\n",
              "      <button class=\"colab-df-convert\" onclick=\"convertToInteractive('df-c1741ea4-2226-4de3-b674-e4c52e994a0f')\"\n",
              "              title=\"Convert this dataframe to an interactive table.\"\n",
              "              style=\"display:none;\">\n",
              "        \n",
              "  <svg xmlns=\"http://www.w3.org/2000/svg\" height=\"24px\"viewBox=\"0 0 24 24\"\n",
              "       width=\"24px\">\n",
              "    <path d=\"M0 0h24v24H0V0z\" fill=\"none\"/>\n",
              "    <path d=\"M18.56 5.44l.94 2.06.94-2.06 2.06-.94-2.06-.94-.94-2.06-.94 2.06-2.06.94zm-11 1L8.5 8.5l.94-2.06 2.06-.94-2.06-.94L8.5 2.5l-.94 2.06-2.06.94zm10 10l.94 2.06.94-2.06 2.06-.94-2.06-.94-.94-2.06-.94 2.06-2.06.94z\"/><path d=\"M17.41 7.96l-1.37-1.37c-.4-.4-.92-.59-1.43-.59-.52 0-1.04.2-1.43.59L10.3 9.45l-7.72 7.72c-.78.78-.78 2.05 0 2.83L4 21.41c.39.39.9.59 1.41.59.51 0 1.02-.2 1.41-.59l7.78-7.78 2.81-2.81c.8-.78.8-2.07 0-2.86zM5.41 20L4 18.59l7.72-7.72 1.47 1.35L5.41 20z\"/>\n",
              "  </svg>\n",
              "      </button>\n",
              "      \n",
              "  <style>\n",
              "    .colab-df-container {\n",
              "      display:flex;\n",
              "      flex-wrap:wrap;\n",
              "      gap: 12px;\n",
              "    }\n",
              "\n",
              "    .colab-df-convert {\n",
              "      background-color: #E8F0FE;\n",
              "      border: none;\n",
              "      border-radius: 50%;\n",
              "      cursor: pointer;\n",
              "      display: none;\n",
              "      fill: #1967D2;\n",
              "      height: 32px;\n",
              "      padding: 0 0 0 0;\n",
              "      width: 32px;\n",
              "    }\n",
              "\n",
              "    .colab-df-convert:hover {\n",
              "      background-color: #E2EBFA;\n",
              "      box-shadow: 0px 1px 2px rgba(60, 64, 67, 0.3), 0px 1px 3px 1px rgba(60, 64, 67, 0.15);\n",
              "      fill: #174EA6;\n",
              "    }\n",
              "\n",
              "    [theme=dark] .colab-df-convert {\n",
              "      background-color: #3B4455;\n",
              "      fill: #D2E3FC;\n",
              "    }\n",
              "\n",
              "    [theme=dark] .colab-df-convert:hover {\n",
              "      background-color: #434B5C;\n",
              "      box-shadow: 0px 1px 3px 1px rgba(0, 0, 0, 0.15);\n",
              "      filter: drop-shadow(0px 1px 2px rgba(0, 0, 0, 0.3));\n",
              "      fill: #FFFFFF;\n",
              "    }\n",
              "  </style>\n",
              "\n",
              "      <script>\n",
              "        const buttonEl =\n",
              "          document.querySelector('#df-c1741ea4-2226-4de3-b674-e4c52e994a0f button.colab-df-convert');\n",
              "        buttonEl.style.display =\n",
              "          google.colab.kernel.accessAllowed ? 'block' : 'none';\n",
              "\n",
              "        async function convertToInteractive(key) {\n",
              "          const element = document.querySelector('#df-c1741ea4-2226-4de3-b674-e4c52e994a0f');\n",
              "          const dataTable =\n",
              "            await google.colab.kernel.invokeFunction('convertToInteractive',\n",
              "                                                     [key], {});\n",
              "          if (!dataTable) return;\n",
              "\n",
              "          const docLinkHtml = 'Like what you see? Visit the ' +\n",
              "            '<a target=\"_blank\" href=https://colab.research.google.com/notebooks/data_table.ipynb>data table notebook</a>'\n",
              "            + ' to learn more about interactive tables.';\n",
              "          element.innerHTML = '';\n",
              "          dataTable['output_type'] = 'display_data';\n",
              "          await google.colab.output.renderOutput(dataTable, element);\n",
              "          const docLink = document.createElement('div');\n",
              "          docLink.innerHTML = docLinkHtml;\n",
              "          element.appendChild(docLink);\n",
              "        }\n",
              "      </script>\n",
              "    </div>\n",
              "  </div>\n",
              "  "
            ]
          },
          "metadata": {},
          "execution_count": 18
        }
      ],
      "source": [
        "df.describe()"
      ]
    },
    {
      "cell_type": "markdown",
      "metadata": {
        "id": "kPMoiLqjW6tu"
      },
      "source": [
        "### Part 4: print rows."
      ]
    },
    {
      "cell_type": "code",
      "execution_count": null,
      "metadata": {
        "id": "nvYLeNGBW6tu",
        "colab": {
          "base_uri": "https://localhost:8080/",
          "height": 206
        },
        "outputId": "9c104ba9-c8fd-4d1f-afa1-8e61782aaee4"
      },
      "outputs": [
        {
          "output_type": "execute_result",
          "data": {
            "text/plain": [
              "  publication_number                                              title  \\\n",
              "0   US-2019250858-A1     memory controller and operating method thereof   \n",
              "1       US-1000462-A                                       corn planter   \n",
              "2    KR-200146416-Y1                  antitheft vehicle security system   \n",
              "3      KR-0160422-B1  a door opening and shutting apparatus and meth...   \n",
              "4        US-952306-A                                       spray burner   \n",
              "\n",
              "     cpc_code                                   patent_embedding  category  \n",
              "0   G06F3/061  [ 0.00135472  0.01564001 -0.04858465  0.039866...         1  \n",
              "1    A01C9/00  [-4.44490612e-02  2.48770583e-02 -5.62837869e-...         6  \n",
              "2  B60R25/209  [-2.53110677e-02 -2.04547048e-02  8.63679312e-...         0  \n",
              "3   D06F37/42  [ 1.21761542e-02  1.97522007e-02 -6.62921891e-...         1  \n",
              "4  B05B1/3033  [-0.00214472  0.01606156 -0.09518531  0.060160...         0  "
            ],
            "text/html": [
              "\n",
              "  <div id=\"df-12e99ca7-dcf7-4a5b-8955-7fe3428dd98f\">\n",
              "    <div class=\"colab-df-container\">\n",
              "      <div>\n",
              "<style scoped>\n",
              "    .dataframe tbody tr th:only-of-type {\n",
              "        vertical-align: middle;\n",
              "    }\n",
              "\n",
              "    .dataframe tbody tr th {\n",
              "        vertical-align: top;\n",
              "    }\n",
              "\n",
              "    .dataframe thead th {\n",
              "        text-align: right;\n",
              "    }\n",
              "</style>\n",
              "<table border=\"1\" class=\"dataframe\">\n",
              "  <thead>\n",
              "    <tr style=\"text-align: right;\">\n",
              "      <th></th>\n",
              "      <th>publication_number</th>\n",
              "      <th>title</th>\n",
              "      <th>cpc_code</th>\n",
              "      <th>patent_embedding</th>\n",
              "      <th>category</th>\n",
              "    </tr>\n",
              "  </thead>\n",
              "  <tbody>\n",
              "    <tr>\n",
              "      <th>0</th>\n",
              "      <td>US-2019250858-A1</td>\n",
              "      <td>memory controller and operating method thereof</td>\n",
              "      <td>G06F3/061</td>\n",
              "      <td>[ 0.00135472  0.01564001 -0.04858465  0.039866...</td>\n",
              "      <td>1</td>\n",
              "    </tr>\n",
              "    <tr>\n",
              "      <th>1</th>\n",
              "      <td>US-1000462-A</td>\n",
              "      <td>corn planter</td>\n",
              "      <td>A01C9/00</td>\n",
              "      <td>[-4.44490612e-02  2.48770583e-02 -5.62837869e-...</td>\n",
              "      <td>6</td>\n",
              "    </tr>\n",
              "    <tr>\n",
              "      <th>2</th>\n",
              "      <td>KR-200146416-Y1</td>\n",
              "      <td>antitheft vehicle security system</td>\n",
              "      <td>B60R25/209</td>\n",
              "      <td>[-2.53110677e-02 -2.04547048e-02  8.63679312e-...</td>\n",
              "      <td>0</td>\n",
              "    </tr>\n",
              "    <tr>\n",
              "      <th>3</th>\n",
              "      <td>KR-0160422-B1</td>\n",
              "      <td>a door opening and shutting apparatus and meth...</td>\n",
              "      <td>D06F37/42</td>\n",
              "      <td>[ 1.21761542e-02  1.97522007e-02 -6.62921891e-...</td>\n",
              "      <td>1</td>\n",
              "    </tr>\n",
              "    <tr>\n",
              "      <th>4</th>\n",
              "      <td>US-952306-A</td>\n",
              "      <td>spray burner</td>\n",
              "      <td>B05B1/3033</td>\n",
              "      <td>[-0.00214472  0.01606156 -0.09518531  0.060160...</td>\n",
              "      <td>0</td>\n",
              "    </tr>\n",
              "  </tbody>\n",
              "</table>\n",
              "</div>\n",
              "      <button class=\"colab-df-convert\" onclick=\"convertToInteractive('df-12e99ca7-dcf7-4a5b-8955-7fe3428dd98f')\"\n",
              "              title=\"Convert this dataframe to an interactive table.\"\n",
              "              style=\"display:none;\">\n",
              "        \n",
              "  <svg xmlns=\"http://www.w3.org/2000/svg\" height=\"24px\"viewBox=\"0 0 24 24\"\n",
              "       width=\"24px\">\n",
              "    <path d=\"M0 0h24v24H0V0z\" fill=\"none\"/>\n",
              "    <path d=\"M18.56 5.44l.94 2.06.94-2.06 2.06-.94-2.06-.94-.94-2.06-.94 2.06-2.06.94zm-11 1L8.5 8.5l.94-2.06 2.06-.94-2.06-.94L8.5 2.5l-.94 2.06-2.06.94zm10 10l.94 2.06.94-2.06 2.06-.94-2.06-.94-.94-2.06-.94 2.06-2.06.94z\"/><path d=\"M17.41 7.96l-1.37-1.37c-.4-.4-.92-.59-1.43-.59-.52 0-1.04.2-1.43.59L10.3 9.45l-7.72 7.72c-.78.78-.78 2.05 0 2.83L4 21.41c.39.39.9.59 1.41.59.51 0 1.02-.2 1.41-.59l7.78-7.78 2.81-2.81c.8-.78.8-2.07 0-2.86zM5.41 20L4 18.59l7.72-7.72 1.47 1.35L5.41 20z\"/>\n",
              "  </svg>\n",
              "      </button>\n",
              "      \n",
              "  <style>\n",
              "    .colab-df-container {\n",
              "      display:flex;\n",
              "      flex-wrap:wrap;\n",
              "      gap: 12px;\n",
              "    }\n",
              "\n",
              "    .colab-df-convert {\n",
              "      background-color: #E8F0FE;\n",
              "      border: none;\n",
              "      border-radius: 50%;\n",
              "      cursor: pointer;\n",
              "      display: none;\n",
              "      fill: #1967D2;\n",
              "      height: 32px;\n",
              "      padding: 0 0 0 0;\n",
              "      width: 32px;\n",
              "    }\n",
              "\n",
              "    .colab-df-convert:hover {\n",
              "      background-color: #E2EBFA;\n",
              "      box-shadow: 0px 1px 2px rgba(60, 64, 67, 0.3), 0px 1px 3px 1px rgba(60, 64, 67, 0.15);\n",
              "      fill: #174EA6;\n",
              "    }\n",
              "\n",
              "    [theme=dark] .colab-df-convert {\n",
              "      background-color: #3B4455;\n",
              "      fill: #D2E3FC;\n",
              "    }\n",
              "\n",
              "    [theme=dark] .colab-df-convert:hover {\n",
              "      background-color: #434B5C;\n",
              "      box-shadow: 0px 1px 3px 1px rgba(0, 0, 0, 0.15);\n",
              "      filter: drop-shadow(0px 1px 2px rgba(0, 0, 0, 0.3));\n",
              "      fill: #FFFFFF;\n",
              "    }\n",
              "  </style>\n",
              "\n",
              "      <script>\n",
              "        const buttonEl =\n",
              "          document.querySelector('#df-12e99ca7-dcf7-4a5b-8955-7fe3428dd98f button.colab-df-convert');\n",
              "        buttonEl.style.display =\n",
              "          google.colab.kernel.accessAllowed ? 'block' : 'none';\n",
              "\n",
              "        async function convertToInteractive(key) {\n",
              "          const element = document.querySelector('#df-12e99ca7-dcf7-4a5b-8955-7fe3428dd98f');\n",
              "          const dataTable =\n",
              "            await google.colab.kernel.invokeFunction('convertToInteractive',\n",
              "                                                     [key], {});\n",
              "          if (!dataTable) return;\n",
              "\n",
              "          const docLinkHtml = 'Like what you see? Visit the ' +\n",
              "            '<a target=\"_blank\" href=https://colab.research.google.com/notebooks/data_table.ipynb>data table notebook</a>'\n",
              "            + ' to learn more about interactive tables.';\n",
              "          element.innerHTML = '';\n",
              "          dataTable['output_type'] = 'display_data';\n",
              "          await google.colab.output.renderOutput(dataTable, element);\n",
              "          const docLink = document.createElement('div');\n",
              "          docLink.innerHTML = docLinkHtml;\n",
              "          element.appendChild(docLink);\n",
              "        }\n",
              "      </script>\n",
              "    </div>\n",
              "  </div>\n",
              "  "
            ]
          },
          "metadata": {},
          "execution_count": 19
        }
      ],
      "source": [
        "# 5 first rows\n",
        "df.head(5)"
      ]
    },
    {
      "cell_type": "code",
      "execution_count": null,
      "metadata": {
        "id": "gvRI6uGBW6tu",
        "colab": {
          "base_uri": "https://localhost:8080/",
          "height": 206
        },
        "outputId": "50182272-a4a6-4741-8bef-15ac807d8233"
      },
      "outputs": [
        {
          "output_type": "execute_result",
          "data": {
            "text/plain": [
              "      publication_number                                              title  \\\n",
              "15684        AT-415717-T  method and device for produce a low pressure w...   \n",
              "15685        AT-424202-T  substitute _NUMBER_ thio _NUMBER_ _NUMBER_ dic...   \n",
              "15686      CA-2952951-A1                  end tip for a vehicle wiper blade   \n",
              "15687        CH-608317-A  process for the compressive shrinkage of a web...   \n",
              "15688     CN-100513251-C      system and process for open cover vessel hull   \n",
              "\n",
              "          cpc_code                                   patent_embedding  \\\n",
              "15684  H01M8/04104  [ 1.77878514e-02  3.53233777e-02 -3.37363742e-...   \n",
              "15685   C07D417/12  [-0.03664465 -0.01075565 -0.02483719 -0.033502...   \n",
              "15686   B60S1/3894  [-4.39246558e-02  2.96350904e-02 -2.31920835e-...   \n",
              "15687    D06C21/00  [-3.34328553e-03  1.02757774e-02 -2.01825500e-...   \n",
              "15688    B63B71/00  [-1.98921170e-02  3.07969116e-02 -2.46879123e-...   \n",
              "\n",
              "       category  \n",
              "15684         1  \n",
              "15685         5  \n",
              "15686         0  \n",
              "15687         6  \n",
              "15688         6  "
            ],
            "text/html": [
              "\n",
              "  <div id=\"df-4ce1af19-9e36-4222-bd04-7ca9ce8c4c20\">\n",
              "    <div class=\"colab-df-container\">\n",
              "      <div>\n",
              "<style scoped>\n",
              "    .dataframe tbody tr th:only-of-type {\n",
              "        vertical-align: middle;\n",
              "    }\n",
              "\n",
              "    .dataframe tbody tr th {\n",
              "        vertical-align: top;\n",
              "    }\n",
              "\n",
              "    .dataframe thead th {\n",
              "        text-align: right;\n",
              "    }\n",
              "</style>\n",
              "<table border=\"1\" class=\"dataframe\">\n",
              "  <thead>\n",
              "    <tr style=\"text-align: right;\">\n",
              "      <th></th>\n",
              "      <th>publication_number</th>\n",
              "      <th>title</th>\n",
              "      <th>cpc_code</th>\n",
              "      <th>patent_embedding</th>\n",
              "      <th>category</th>\n",
              "    </tr>\n",
              "  </thead>\n",
              "  <tbody>\n",
              "    <tr>\n",
              "      <th>15684</th>\n",
              "      <td>AT-415717-T</td>\n",
              "      <td>method and device for produce a low pressure w...</td>\n",
              "      <td>H01M8/04104</td>\n",
              "      <td>[ 1.77878514e-02  3.53233777e-02 -3.37363742e-...</td>\n",
              "      <td>1</td>\n",
              "    </tr>\n",
              "    <tr>\n",
              "      <th>15685</th>\n",
              "      <td>AT-424202-T</td>\n",
              "      <td>substitute _NUMBER_ thio _NUMBER_ _NUMBER_ dic...</td>\n",
              "      <td>C07D417/12</td>\n",
              "      <td>[-0.03664465 -0.01075565 -0.02483719 -0.033502...</td>\n",
              "      <td>5</td>\n",
              "    </tr>\n",
              "    <tr>\n",
              "      <th>15686</th>\n",
              "      <td>CA-2952951-A1</td>\n",
              "      <td>end tip for a vehicle wiper blade</td>\n",
              "      <td>B60S1/3894</td>\n",
              "      <td>[-4.39246558e-02  2.96350904e-02 -2.31920835e-...</td>\n",
              "      <td>0</td>\n",
              "    </tr>\n",
              "    <tr>\n",
              "      <th>15687</th>\n",
              "      <td>CH-608317-A</td>\n",
              "      <td>process for the compressive shrinkage of a web...</td>\n",
              "      <td>D06C21/00</td>\n",
              "      <td>[-3.34328553e-03  1.02757774e-02 -2.01825500e-...</td>\n",
              "      <td>6</td>\n",
              "    </tr>\n",
              "    <tr>\n",
              "      <th>15688</th>\n",
              "      <td>CN-100513251-C</td>\n",
              "      <td>system and process for open cover vessel hull</td>\n",
              "      <td>B63B71/00</td>\n",
              "      <td>[-1.98921170e-02  3.07969116e-02 -2.46879123e-...</td>\n",
              "      <td>6</td>\n",
              "    </tr>\n",
              "  </tbody>\n",
              "</table>\n",
              "</div>\n",
              "      <button class=\"colab-df-convert\" onclick=\"convertToInteractive('df-4ce1af19-9e36-4222-bd04-7ca9ce8c4c20')\"\n",
              "              title=\"Convert this dataframe to an interactive table.\"\n",
              "              style=\"display:none;\">\n",
              "        \n",
              "  <svg xmlns=\"http://www.w3.org/2000/svg\" height=\"24px\"viewBox=\"0 0 24 24\"\n",
              "       width=\"24px\">\n",
              "    <path d=\"M0 0h24v24H0V0z\" fill=\"none\"/>\n",
              "    <path d=\"M18.56 5.44l.94 2.06.94-2.06 2.06-.94-2.06-.94-.94-2.06-.94 2.06-2.06.94zm-11 1L8.5 8.5l.94-2.06 2.06-.94-2.06-.94L8.5 2.5l-.94 2.06-2.06.94zm10 10l.94 2.06.94-2.06 2.06-.94-2.06-.94-.94-2.06-.94 2.06-2.06.94z\"/><path d=\"M17.41 7.96l-1.37-1.37c-.4-.4-.92-.59-1.43-.59-.52 0-1.04.2-1.43.59L10.3 9.45l-7.72 7.72c-.78.78-.78 2.05 0 2.83L4 21.41c.39.39.9.59 1.41.59.51 0 1.02-.2 1.41-.59l7.78-7.78 2.81-2.81c.8-.78.8-2.07 0-2.86zM5.41 20L4 18.59l7.72-7.72 1.47 1.35L5.41 20z\"/>\n",
              "  </svg>\n",
              "      </button>\n",
              "      \n",
              "  <style>\n",
              "    .colab-df-container {\n",
              "      display:flex;\n",
              "      flex-wrap:wrap;\n",
              "      gap: 12px;\n",
              "    }\n",
              "\n",
              "    .colab-df-convert {\n",
              "      background-color: #E8F0FE;\n",
              "      border: none;\n",
              "      border-radius: 50%;\n",
              "      cursor: pointer;\n",
              "      display: none;\n",
              "      fill: #1967D2;\n",
              "      height: 32px;\n",
              "      padding: 0 0 0 0;\n",
              "      width: 32px;\n",
              "    }\n",
              "\n",
              "    .colab-df-convert:hover {\n",
              "      background-color: #E2EBFA;\n",
              "      box-shadow: 0px 1px 2px rgba(60, 64, 67, 0.3), 0px 1px 3px 1px rgba(60, 64, 67, 0.15);\n",
              "      fill: #174EA6;\n",
              "    }\n",
              "\n",
              "    [theme=dark] .colab-df-convert {\n",
              "      background-color: #3B4455;\n",
              "      fill: #D2E3FC;\n",
              "    }\n",
              "\n",
              "    [theme=dark] .colab-df-convert:hover {\n",
              "      background-color: #434B5C;\n",
              "      box-shadow: 0px 1px 3px 1px rgba(0, 0, 0, 0.15);\n",
              "      filter: drop-shadow(0px 1px 2px rgba(0, 0, 0, 0.3));\n",
              "      fill: #FFFFFF;\n",
              "    }\n",
              "  </style>\n",
              "\n",
              "      <script>\n",
              "        const buttonEl =\n",
              "          document.querySelector('#df-4ce1af19-9e36-4222-bd04-7ca9ce8c4c20 button.colab-df-convert');\n",
              "        buttonEl.style.display =\n",
              "          google.colab.kernel.accessAllowed ? 'block' : 'none';\n",
              "\n",
              "        async function convertToInteractive(key) {\n",
              "          const element = document.querySelector('#df-4ce1af19-9e36-4222-bd04-7ca9ce8c4c20');\n",
              "          const dataTable =\n",
              "            await google.colab.kernel.invokeFunction('convertToInteractive',\n",
              "                                                     [key], {});\n",
              "          if (!dataTable) return;\n",
              "\n",
              "          const docLinkHtml = 'Like what you see? Visit the ' +\n",
              "            '<a target=\"_blank\" href=https://colab.research.google.com/notebooks/data_table.ipynb>data table notebook</a>'\n",
              "            + ' to learn more about interactive tables.';\n",
              "          element.innerHTML = '';\n",
              "          dataTable['output_type'] = 'display_data';\n",
              "          await google.colab.output.renderOutput(dataTable, element);\n",
              "          const docLink = document.createElement('div');\n",
              "          docLink.innerHTML = docLinkHtml;\n",
              "          element.appendChild(docLink);\n",
              "        }\n",
              "      </script>\n",
              "    </div>\n",
              "  </div>\n",
              "  "
            ]
          },
          "metadata": {},
          "execution_count": 20
        }
      ],
      "source": [
        "# 5 last rows\n",
        "df.tail(5)"
      ]
    },
    {
      "cell_type": "code",
      "execution_count": null,
      "metadata": {
        "id": "APb0lrSGW6tu",
        "colab": {
          "base_uri": "https://localhost:8080/",
          "height": 206
        },
        "outputId": "faa2bda7-9b0e-469e-cf5e-6a027562add0"
      },
      "outputs": [
        {
          "output_type": "execute_result",
          "data": {
            "text/plain": [
              "      publication_number                                              title  \\\n",
              "9783        US-4376819-A        biological extract and method for make same   \n",
              "12991   KR-20050006142-A                                      door assembly   \n",
              "664     US-2016270056-A1  mechanism for association request signal betwe...   \n",
              "10880        AT-163147-T           chill tool especially drill or mill tool   \n",
              "15156      US-9970096-B2             intaglio print plate coating apparatus   \n",
              "\n",
              "         cpc_code                                   patent_embedding  category  \n",
              "9783   G01N33/579  [-6.81845332e-03  4.12613228e-02 -5.69647290e-...         6  \n",
              "12991    E06B9/54  [ 0.0101653  -0.0334826  -0.0123644   0.095703...         3  \n",
              "664    H04W72/048  [ 0.0065193   0.02637018  0.00265789  0.051435...         4  \n",
              "10880   B23B51/02  [ 1.43228630e-02 -3.09319381e-04 -4.20781337e-...         1  \n",
              "15156   C23C14/24  [ 1.34186447e-03  7.26594850e-02 -9.27347969e-...         4  "
            ],
            "text/html": [
              "\n",
              "  <div id=\"df-f30cab68-d8a1-4bb4-88c9-5f71684c88bf\">\n",
              "    <div class=\"colab-df-container\">\n",
              "      <div>\n",
              "<style scoped>\n",
              "    .dataframe tbody tr th:only-of-type {\n",
              "        vertical-align: middle;\n",
              "    }\n",
              "\n",
              "    .dataframe tbody tr th {\n",
              "        vertical-align: top;\n",
              "    }\n",
              "\n",
              "    .dataframe thead th {\n",
              "        text-align: right;\n",
              "    }\n",
              "</style>\n",
              "<table border=\"1\" class=\"dataframe\">\n",
              "  <thead>\n",
              "    <tr style=\"text-align: right;\">\n",
              "      <th></th>\n",
              "      <th>publication_number</th>\n",
              "      <th>title</th>\n",
              "      <th>cpc_code</th>\n",
              "      <th>patent_embedding</th>\n",
              "      <th>category</th>\n",
              "    </tr>\n",
              "  </thead>\n",
              "  <tbody>\n",
              "    <tr>\n",
              "      <th>9783</th>\n",
              "      <td>US-4376819-A</td>\n",
              "      <td>biological extract and method for make same</td>\n",
              "      <td>G01N33/579</td>\n",
              "      <td>[-6.81845332e-03  4.12613228e-02 -5.69647290e-...</td>\n",
              "      <td>6</td>\n",
              "    </tr>\n",
              "    <tr>\n",
              "      <th>12991</th>\n",
              "      <td>KR-20050006142-A</td>\n",
              "      <td>door assembly</td>\n",
              "      <td>E06B9/54</td>\n",
              "      <td>[ 0.0101653  -0.0334826  -0.0123644   0.095703...</td>\n",
              "      <td>3</td>\n",
              "    </tr>\n",
              "    <tr>\n",
              "      <th>664</th>\n",
              "      <td>US-2016270056-A1</td>\n",
              "      <td>mechanism for association request signal betwe...</td>\n",
              "      <td>H04W72/048</td>\n",
              "      <td>[ 0.0065193   0.02637018  0.00265789  0.051435...</td>\n",
              "      <td>4</td>\n",
              "    </tr>\n",
              "    <tr>\n",
              "      <th>10880</th>\n",
              "      <td>AT-163147-T</td>\n",
              "      <td>chill tool especially drill or mill tool</td>\n",
              "      <td>B23B51/02</td>\n",
              "      <td>[ 1.43228630e-02 -3.09319381e-04 -4.20781337e-...</td>\n",
              "      <td>1</td>\n",
              "    </tr>\n",
              "    <tr>\n",
              "      <th>15156</th>\n",
              "      <td>US-9970096-B2</td>\n",
              "      <td>intaglio print plate coating apparatus</td>\n",
              "      <td>C23C14/24</td>\n",
              "      <td>[ 1.34186447e-03  7.26594850e-02 -9.27347969e-...</td>\n",
              "      <td>4</td>\n",
              "    </tr>\n",
              "  </tbody>\n",
              "</table>\n",
              "</div>\n",
              "      <button class=\"colab-df-convert\" onclick=\"convertToInteractive('df-f30cab68-d8a1-4bb4-88c9-5f71684c88bf')\"\n",
              "              title=\"Convert this dataframe to an interactive table.\"\n",
              "              style=\"display:none;\">\n",
              "        \n",
              "  <svg xmlns=\"http://www.w3.org/2000/svg\" height=\"24px\"viewBox=\"0 0 24 24\"\n",
              "       width=\"24px\">\n",
              "    <path d=\"M0 0h24v24H0V0z\" fill=\"none\"/>\n",
              "    <path d=\"M18.56 5.44l.94 2.06.94-2.06 2.06-.94-2.06-.94-.94-2.06-.94 2.06-2.06.94zm-11 1L8.5 8.5l.94-2.06 2.06-.94-2.06-.94L8.5 2.5l-.94 2.06-2.06.94zm10 10l.94 2.06.94-2.06 2.06-.94-2.06-.94-.94-2.06-.94 2.06-2.06.94z\"/><path d=\"M17.41 7.96l-1.37-1.37c-.4-.4-.92-.59-1.43-.59-.52 0-1.04.2-1.43.59L10.3 9.45l-7.72 7.72c-.78.78-.78 2.05 0 2.83L4 21.41c.39.39.9.59 1.41.59.51 0 1.02-.2 1.41-.59l7.78-7.78 2.81-2.81c.8-.78.8-2.07 0-2.86zM5.41 20L4 18.59l7.72-7.72 1.47 1.35L5.41 20z\"/>\n",
              "  </svg>\n",
              "      </button>\n",
              "      \n",
              "  <style>\n",
              "    .colab-df-container {\n",
              "      display:flex;\n",
              "      flex-wrap:wrap;\n",
              "      gap: 12px;\n",
              "    }\n",
              "\n",
              "    .colab-df-convert {\n",
              "      background-color: #E8F0FE;\n",
              "      border: none;\n",
              "      border-radius: 50%;\n",
              "      cursor: pointer;\n",
              "      display: none;\n",
              "      fill: #1967D2;\n",
              "      height: 32px;\n",
              "      padding: 0 0 0 0;\n",
              "      width: 32px;\n",
              "    }\n",
              "\n",
              "    .colab-df-convert:hover {\n",
              "      background-color: #E2EBFA;\n",
              "      box-shadow: 0px 1px 2px rgba(60, 64, 67, 0.3), 0px 1px 3px 1px rgba(60, 64, 67, 0.15);\n",
              "      fill: #174EA6;\n",
              "    }\n",
              "\n",
              "    [theme=dark] .colab-df-convert {\n",
              "      background-color: #3B4455;\n",
              "      fill: #D2E3FC;\n",
              "    }\n",
              "\n",
              "    [theme=dark] .colab-df-convert:hover {\n",
              "      background-color: #434B5C;\n",
              "      box-shadow: 0px 1px 3px 1px rgba(0, 0, 0, 0.15);\n",
              "      filter: drop-shadow(0px 1px 2px rgba(0, 0, 0, 0.3));\n",
              "      fill: #FFFFFF;\n",
              "    }\n",
              "  </style>\n",
              "\n",
              "      <script>\n",
              "        const buttonEl =\n",
              "          document.querySelector('#df-f30cab68-d8a1-4bb4-88c9-5f71684c88bf button.colab-df-convert');\n",
              "        buttonEl.style.display =\n",
              "          google.colab.kernel.accessAllowed ? 'block' : 'none';\n",
              "\n",
              "        async function convertToInteractive(key) {\n",
              "          const element = document.querySelector('#df-f30cab68-d8a1-4bb4-88c9-5f71684c88bf');\n",
              "          const dataTable =\n",
              "            await google.colab.kernel.invokeFunction('convertToInteractive',\n",
              "                                                     [key], {});\n",
              "          if (!dataTable) return;\n",
              "\n",
              "          const docLinkHtml = 'Like what you see? Visit the ' +\n",
              "            '<a target=\"_blank\" href=https://colab.research.google.com/notebooks/data_table.ipynb>data table notebook</a>'\n",
              "            + ' to learn more about interactive tables.';\n",
              "          element.innerHTML = '';\n",
              "          dataTable['output_type'] = 'display_data';\n",
              "          await google.colab.output.renderOutput(dataTable, element);\n",
              "          const docLink = document.createElement('div');\n",
              "          docLink.innerHTML = docLinkHtml;\n",
              "          element.appendChild(docLink);\n",
              "        }\n",
              "      </script>\n",
              "    </div>\n",
              "  </div>\n",
              "  "
            ]
          },
          "metadata": {},
          "execution_count": 21
        }
      ],
      "source": [
        "# 5 random row\n",
        "df.sample(5)"
      ]
    },
    {
      "cell_type": "markdown",
      "metadata": {
        "id": "DTRYK2UoW6tu"
      },
      "source": [
        "### Part 5: use iloc and loc to select rows"
      ]
    },
    {
      "cell_type": "markdown",
      "source": [
        "<blockquote>\n",
        "\n",
        "loc selects rows and columns with specific labels. iloc selects rows and columns at specific integer positions.\n",
        "Here that the index was also the ordered number, they became very similar. This difference shows itself more in examples like the course dataframe when the index was changed to the name of countries for instance."
      ],
      "metadata": {
        "id": "ncR0B8VlAcRw"
      }
    },
    {
      "cell_type": "code",
      "execution_count": 22,
      "metadata": {
        "id": "E7ZhjF7oW6tu",
        "colab": {
          "base_uri": "https://localhost:8080/"
        },
        "outputId": "bc6b4def-bbea-4d1b-be6e-fb0a1d4b76e1"
      },
      "outputs": [
        {
          "output_type": "stream",
          "name": "stdout",
          "text": [
            "publication_number    object\n",
            "title                 object\n",
            "cpc_code              object\n",
            "patent_embedding      object\n",
            "category               int64\n",
            "dtype: object\n"
          ]
        },
        {
          "output_type": "execute_result",
          "data": {
            "text/plain": [
              "1024    device for purple coupling of rotatable axle o...\n",
              "1025                                     heat pump system\n",
              "1026    condensation dryer comprise a heat pump and me...\n",
              "1027                     animal _NUMBER_ plead ingredient\n",
              "1028                      electrostatic dust precipitator\n",
              "                              ...                        \n",
              "2044                  crystalline anti htnfalpha antibody\n",
              "2045    method information processing apparatus and co...\n",
              "2046        pork rind bait and method of prepare the same\n",
              "2047    process for the treatment of titanium contain ...\n",
              "2048    air condition system of a motor vehicle and me...\n",
              "Name: title, Length: 1025, dtype: object"
            ]
          },
          "metadata": {},
          "execution_count": 22
        }
      ],
      "source": [
        "# loc\n",
        "print(df.dtypes)\n",
        "df.loc[1024:2048, \"title\"]"
      ]
    },
    {
      "cell_type": "code",
      "execution_count": 23,
      "metadata": {
        "id": "0udECT5XW6tv",
        "colab": {
          "base_uri": "https://localhost:8080/"
        },
        "outputId": "d05ede46-be8a-463e-a928-71a942491837"
      },
      "outputs": [
        {
          "output_type": "execute_result",
          "data": {
            "text/plain": [
              "1024    device for purple coupling of rotatable axle o...\n",
              "1025                                     heat pump system\n",
              "1026    condensation dryer comprise a heat pump and me...\n",
              "1027                     animal _NUMBER_ plead ingredient\n",
              "1028                      electrostatic dust precipitator\n",
              "                              ...                        \n",
              "2044                  crystalline anti htnfalpha antibody\n",
              "2045    method information processing apparatus and co...\n",
              "2046        pork rind bait and method of prepare the same\n",
              "2047    process for the treatment of titanium contain ...\n",
              "2048    air condition system of a motor vehicle and me...\n",
              "Name: title, Length: 1025, dtype: object"
            ]
          },
          "metadata": {},
          "execution_count": 23
        }
      ],
      "source": [
        "# iloc\n",
        "df[\"title\"].iloc[1024:2049]"
      ]
    },
    {
      "cell_type": "markdown",
      "metadata": {
        "id": "xa4ZVwxBW6tv"
      },
      "source": [
        "### Part 5: Check Dataframe for NaN values"
      ]
    },
    {
      "cell_type": "markdown",
      "source": [
        "<blockquote>\n",
        "\n",
        "As seen below, there are no NaN values in any features"
      ],
      "metadata": {
        "id": "ChexF5Zao4Mh"
      }
    },
    {
      "cell_type": "code",
      "execution_count": 24,
      "metadata": {
        "id": "QISbc8kkW6tv",
        "colab": {
          "base_uri": "https://localhost:8080/"
        },
        "outputId": "b0089ffd-8b26-4ce6-cf46-bc39e7e692e8"
      },
      "outputs": [
        {
          "output_type": "execute_result",
          "data": {
            "text/plain": [
              "publication_number    0\n",
              "title                 0\n",
              "cpc_code              0\n",
              "patent_embedding      0\n",
              "category              0\n",
              "dtype: int64"
            ]
          },
          "metadata": {},
          "execution_count": 24
        }
      ],
      "source": [
        "df.isnull().sum()"
      ]
    },
    {
      "cell_type": "markdown",
      "metadata": {
        "id": "Wlfnab6jW6tv"
      },
      "source": [
        "### Part 6: Check Dataframe for duplicates"
      ]
    },
    {
      "cell_type": "markdown",
      "source": [
        "<blockquote>\n",
        "\n",
        "As shown below, this dataset has 9 duplicate rows. (Not necessarily all the same)"
      ],
      "metadata": {
        "id": "dQOMxFGppOOV"
      }
    },
    {
      "cell_type": "code",
      "execution_count": 25,
      "metadata": {
        "id": "JQ7zcaigW6tv",
        "colab": {
          "base_uri": "https://localhost:8080/",
          "height": 349
        },
        "outputId": "898ae6c8-d400-4a8f-fcac-3e8f33329dff"
      },
      "outputs": [
        {
          "output_type": "stream",
          "name": "stdout",
          "text": [
            "9\n"
          ]
        },
        {
          "output_type": "execute_result",
          "data": {
            "text/plain": [
              "      publication_number                                              title  \\\n",
              "1739    AU-2011202417-A1  a wall form in soil the wall include a hollow ...   \n",
              "5696       EP-3096560-A4  method and user equipment for block network ac...   \n",
              "6496    US-2018076003-A1  method and apparatus for a porous electrospray...   \n",
              "6962    US-2018328001-A1                       boom assembly for a trencher   \n",
              "9408       JP-5702147-B2                             electroactive material   \n",
              "9980       JP-6373410-B2  end of life determination and prediction for i...   \n",
              "11142   AU-2012324531-A1  biomarkers useful for detection of type grade ...   \n",
              "13850   US-2018042871-A1                        bicyclic analgesic compound   \n",
              "14823      HK-1225899-A1  apparatus system and method of secure communic...   \n",
              "\n",
              "          cpc_code                                   patent_embedding  \\\n",
              "1739      E02D5/18  [ 3.92072555e-03  3.35453786e-02 -2.88293511e-...   \n",
              "5696     H04W48/06  [-3.0044878e-02 -4.4037402e-05 -2.3655588e-02 ...   \n",
              "6496     H01J37/08  [ 0.02056626  0.04025198 -0.04704187  0.061253...   \n",
              "6962      E02F5/14  [ 1.52878952e-03  3.42151672e-02 -4.17193323e-...   \n",
              "9408   H01L51/0035  [ 0.01078738 -0.01581865 -0.01463019  0.023458...   \n",
              "9980   A61N1/36128  [-3.00560612e-03  5.31513337e-03 -1.25307012e-...   \n",
              "11142   C12Q1/6886  [ 0.01898381  0.01144431 -0.04808485  0.079074...   \n",
              "13850    A61K31/16  [ 4.39326465e-02 -1.77983195e-02 -8.26886818e-...   \n",
              "14823    H04W12/04  [-0.00121724 -0.00263928  0.0009811   0.056798...   \n",
              "\n",
              "       category  \n",
              "1739          1  \n",
              "5696          6  \n",
              "6496          1  \n",
              "6962          1  \n",
              "9408          2  \n",
              "9980          6  \n",
              "11142         1  \n",
              "13850         2  \n",
              "14823         6  "
            ],
            "text/html": [
              "\n",
              "  <div id=\"df-f4632727-ba29-4df2-a680-570b93eee891\">\n",
              "    <div class=\"colab-df-container\">\n",
              "      <div>\n",
              "<style scoped>\n",
              "    .dataframe tbody tr th:only-of-type {\n",
              "        vertical-align: middle;\n",
              "    }\n",
              "\n",
              "    .dataframe tbody tr th {\n",
              "        vertical-align: top;\n",
              "    }\n",
              "\n",
              "    .dataframe thead th {\n",
              "        text-align: right;\n",
              "    }\n",
              "</style>\n",
              "<table border=\"1\" class=\"dataframe\">\n",
              "  <thead>\n",
              "    <tr style=\"text-align: right;\">\n",
              "      <th></th>\n",
              "      <th>publication_number</th>\n",
              "      <th>title</th>\n",
              "      <th>cpc_code</th>\n",
              "      <th>patent_embedding</th>\n",
              "      <th>category</th>\n",
              "    </tr>\n",
              "  </thead>\n",
              "  <tbody>\n",
              "    <tr>\n",
              "      <th>1739</th>\n",
              "      <td>AU-2011202417-A1</td>\n",
              "      <td>a wall form in soil the wall include a hollow ...</td>\n",
              "      <td>E02D5/18</td>\n",
              "      <td>[ 3.92072555e-03  3.35453786e-02 -2.88293511e-...</td>\n",
              "      <td>1</td>\n",
              "    </tr>\n",
              "    <tr>\n",
              "      <th>5696</th>\n",
              "      <td>EP-3096560-A4</td>\n",
              "      <td>method and user equipment for block network ac...</td>\n",
              "      <td>H04W48/06</td>\n",
              "      <td>[-3.0044878e-02 -4.4037402e-05 -2.3655588e-02 ...</td>\n",
              "      <td>6</td>\n",
              "    </tr>\n",
              "    <tr>\n",
              "      <th>6496</th>\n",
              "      <td>US-2018076003-A1</td>\n",
              "      <td>method and apparatus for a porous electrospray...</td>\n",
              "      <td>H01J37/08</td>\n",
              "      <td>[ 0.02056626  0.04025198 -0.04704187  0.061253...</td>\n",
              "      <td>1</td>\n",
              "    </tr>\n",
              "    <tr>\n",
              "      <th>6962</th>\n",
              "      <td>US-2018328001-A1</td>\n",
              "      <td>boom assembly for a trencher</td>\n",
              "      <td>E02F5/14</td>\n",
              "      <td>[ 1.52878952e-03  3.42151672e-02 -4.17193323e-...</td>\n",
              "      <td>1</td>\n",
              "    </tr>\n",
              "    <tr>\n",
              "      <th>9408</th>\n",
              "      <td>JP-5702147-B2</td>\n",
              "      <td>electroactive material</td>\n",
              "      <td>H01L51/0035</td>\n",
              "      <td>[ 0.01078738 -0.01581865 -0.01463019  0.023458...</td>\n",
              "      <td>2</td>\n",
              "    </tr>\n",
              "    <tr>\n",
              "      <th>9980</th>\n",
              "      <td>JP-6373410-B2</td>\n",
              "      <td>end of life determination and prediction for i...</td>\n",
              "      <td>A61N1/36128</td>\n",
              "      <td>[-3.00560612e-03  5.31513337e-03 -1.25307012e-...</td>\n",
              "      <td>6</td>\n",
              "    </tr>\n",
              "    <tr>\n",
              "      <th>11142</th>\n",
              "      <td>AU-2012324531-A1</td>\n",
              "      <td>biomarkers useful for detection of type grade ...</td>\n",
              "      <td>C12Q1/6886</td>\n",
              "      <td>[ 0.01898381  0.01144431 -0.04808485  0.079074...</td>\n",
              "      <td>1</td>\n",
              "    </tr>\n",
              "    <tr>\n",
              "      <th>13850</th>\n",
              "      <td>US-2018042871-A1</td>\n",
              "      <td>bicyclic analgesic compound</td>\n",
              "      <td>A61K31/16</td>\n",
              "      <td>[ 4.39326465e-02 -1.77983195e-02 -8.26886818e-...</td>\n",
              "      <td>2</td>\n",
              "    </tr>\n",
              "    <tr>\n",
              "      <th>14823</th>\n",
              "      <td>HK-1225899-A1</td>\n",
              "      <td>apparatus system and method of secure communic...</td>\n",
              "      <td>H04W12/04</td>\n",
              "      <td>[-0.00121724 -0.00263928  0.0009811   0.056798...</td>\n",
              "      <td>6</td>\n",
              "    </tr>\n",
              "  </tbody>\n",
              "</table>\n",
              "</div>\n",
              "      <button class=\"colab-df-convert\" onclick=\"convertToInteractive('df-f4632727-ba29-4df2-a680-570b93eee891')\"\n",
              "              title=\"Convert this dataframe to an interactive table.\"\n",
              "              style=\"display:none;\">\n",
              "        \n",
              "  <svg xmlns=\"http://www.w3.org/2000/svg\" height=\"24px\"viewBox=\"0 0 24 24\"\n",
              "       width=\"24px\">\n",
              "    <path d=\"M0 0h24v24H0V0z\" fill=\"none\"/>\n",
              "    <path d=\"M18.56 5.44l.94 2.06.94-2.06 2.06-.94-2.06-.94-.94-2.06-.94 2.06-2.06.94zm-11 1L8.5 8.5l.94-2.06 2.06-.94-2.06-.94L8.5 2.5l-.94 2.06-2.06.94zm10 10l.94 2.06.94-2.06 2.06-.94-2.06-.94-.94-2.06-.94 2.06-2.06.94z\"/><path d=\"M17.41 7.96l-1.37-1.37c-.4-.4-.92-.59-1.43-.59-.52 0-1.04.2-1.43.59L10.3 9.45l-7.72 7.72c-.78.78-.78 2.05 0 2.83L4 21.41c.39.39.9.59 1.41.59.51 0 1.02-.2 1.41-.59l7.78-7.78 2.81-2.81c.8-.78.8-2.07 0-2.86zM5.41 20L4 18.59l7.72-7.72 1.47 1.35L5.41 20z\"/>\n",
              "  </svg>\n",
              "      </button>\n",
              "      \n",
              "  <style>\n",
              "    .colab-df-container {\n",
              "      display:flex;\n",
              "      flex-wrap:wrap;\n",
              "      gap: 12px;\n",
              "    }\n",
              "\n",
              "    .colab-df-convert {\n",
              "      background-color: #E8F0FE;\n",
              "      border: none;\n",
              "      border-radius: 50%;\n",
              "      cursor: pointer;\n",
              "      display: none;\n",
              "      fill: #1967D2;\n",
              "      height: 32px;\n",
              "      padding: 0 0 0 0;\n",
              "      width: 32px;\n",
              "    }\n",
              "\n",
              "    .colab-df-convert:hover {\n",
              "      background-color: #E2EBFA;\n",
              "      box-shadow: 0px 1px 2px rgba(60, 64, 67, 0.3), 0px 1px 3px 1px rgba(60, 64, 67, 0.15);\n",
              "      fill: #174EA6;\n",
              "    }\n",
              "\n",
              "    [theme=dark] .colab-df-convert {\n",
              "      background-color: #3B4455;\n",
              "      fill: #D2E3FC;\n",
              "    }\n",
              "\n",
              "    [theme=dark] .colab-df-convert:hover {\n",
              "      background-color: #434B5C;\n",
              "      box-shadow: 0px 1px 3px 1px rgba(0, 0, 0, 0.15);\n",
              "      filter: drop-shadow(0px 1px 2px rgba(0, 0, 0, 0.3));\n",
              "      fill: #FFFFFF;\n",
              "    }\n",
              "  </style>\n",
              "\n",
              "      <script>\n",
              "        const buttonEl =\n",
              "          document.querySelector('#df-f4632727-ba29-4df2-a680-570b93eee891 button.colab-df-convert');\n",
              "        buttonEl.style.display =\n",
              "          google.colab.kernel.accessAllowed ? 'block' : 'none';\n",
              "\n",
              "        async function convertToInteractive(key) {\n",
              "          const element = document.querySelector('#df-f4632727-ba29-4df2-a680-570b93eee891');\n",
              "          const dataTable =\n",
              "            await google.colab.kernel.invokeFunction('convertToInteractive',\n",
              "                                                     [key], {});\n",
              "          if (!dataTable) return;\n",
              "\n",
              "          const docLinkHtml = 'Like what you see? Visit the ' +\n",
              "            '<a target=\"_blank\" href=https://colab.research.google.com/notebooks/data_table.ipynb>data table notebook</a>'\n",
              "            + ' to learn more about interactive tables.';\n",
              "          element.innerHTML = '';\n",
              "          dataTable['output_type'] = 'display_data';\n",
              "          await google.colab.output.renderOutput(dataTable, element);\n",
              "          const docLink = document.createElement('div');\n",
              "          docLink.innerHTML = docLinkHtml;\n",
              "          element.appendChild(docLink);\n",
              "        }\n",
              "      </script>\n",
              "    </div>\n",
              "  </div>\n",
              "  "
            ]
          },
          "metadata": {},
          "execution_count": 25
        }
      ],
      "source": [
        "print(df.duplicated().sum())\n",
        "df[df.duplicated()]"
      ]
    },
    {
      "cell_type": "markdown",
      "metadata": {
        "id": "dXQ_4-SHW6tv"
      },
      "source": [
        "### Part 7: Use `Lambda` Function for calculating word counts"
      ]
    },
    {
      "cell_type": "code",
      "execution_count": 26,
      "metadata": {
        "id": "pc_-sIOaW6tv",
        "colab": {
          "base_uri": "https://localhost:8080/",
          "height": 112
        },
        "outputId": "0ea52b24-e164-44c5-d038-0173e9abfb02"
      },
      "outputs": [
        {
          "output_type": "execute_result",
          "data": {
            "text/plain": [
              "  publication_number                                           title  \\\n",
              "0   US-2019250858-A1  memory controller and operating method thereof   \n",
              "1       US-1000462-A                                    corn planter   \n",
              "\n",
              "    cpc_code                                   patent_embedding  category  \\\n",
              "0  G06F3/061  [ 0.00135472  0.01564001 -0.04858465  0.039866...         1   \n",
              "1   A01C9/00  [-4.44490612e-02  2.48770583e-02 -5.62837869e-...         6   \n",
              "\n",
              "   title_length  \n",
              "0             6  \n",
              "1             2  "
            ],
            "text/html": [
              "\n",
              "  <div id=\"df-f5db387c-2431-49eb-aa6c-f21da8d29696\">\n",
              "    <div class=\"colab-df-container\">\n",
              "      <div>\n",
              "<style scoped>\n",
              "    .dataframe tbody tr th:only-of-type {\n",
              "        vertical-align: middle;\n",
              "    }\n",
              "\n",
              "    .dataframe tbody tr th {\n",
              "        vertical-align: top;\n",
              "    }\n",
              "\n",
              "    .dataframe thead th {\n",
              "        text-align: right;\n",
              "    }\n",
              "</style>\n",
              "<table border=\"1\" class=\"dataframe\">\n",
              "  <thead>\n",
              "    <tr style=\"text-align: right;\">\n",
              "      <th></th>\n",
              "      <th>publication_number</th>\n",
              "      <th>title</th>\n",
              "      <th>cpc_code</th>\n",
              "      <th>patent_embedding</th>\n",
              "      <th>category</th>\n",
              "      <th>title_length</th>\n",
              "    </tr>\n",
              "  </thead>\n",
              "  <tbody>\n",
              "    <tr>\n",
              "      <th>0</th>\n",
              "      <td>US-2019250858-A1</td>\n",
              "      <td>memory controller and operating method thereof</td>\n",
              "      <td>G06F3/061</td>\n",
              "      <td>[ 0.00135472  0.01564001 -0.04858465  0.039866...</td>\n",
              "      <td>1</td>\n",
              "      <td>6</td>\n",
              "    </tr>\n",
              "    <tr>\n",
              "      <th>1</th>\n",
              "      <td>US-1000462-A</td>\n",
              "      <td>corn planter</td>\n",
              "      <td>A01C9/00</td>\n",
              "      <td>[-4.44490612e-02  2.48770583e-02 -5.62837869e-...</td>\n",
              "      <td>6</td>\n",
              "      <td>2</td>\n",
              "    </tr>\n",
              "  </tbody>\n",
              "</table>\n",
              "</div>\n",
              "      <button class=\"colab-df-convert\" onclick=\"convertToInteractive('df-f5db387c-2431-49eb-aa6c-f21da8d29696')\"\n",
              "              title=\"Convert this dataframe to an interactive table.\"\n",
              "              style=\"display:none;\">\n",
              "        \n",
              "  <svg xmlns=\"http://www.w3.org/2000/svg\" height=\"24px\"viewBox=\"0 0 24 24\"\n",
              "       width=\"24px\">\n",
              "    <path d=\"M0 0h24v24H0V0z\" fill=\"none\"/>\n",
              "    <path d=\"M18.56 5.44l.94 2.06.94-2.06 2.06-.94-2.06-.94-.94-2.06-.94 2.06-2.06.94zm-11 1L8.5 8.5l.94-2.06 2.06-.94-2.06-.94L8.5 2.5l-.94 2.06-2.06.94zm10 10l.94 2.06.94-2.06 2.06-.94-2.06-.94-.94-2.06-.94 2.06-2.06.94z\"/><path d=\"M17.41 7.96l-1.37-1.37c-.4-.4-.92-.59-1.43-.59-.52 0-1.04.2-1.43.59L10.3 9.45l-7.72 7.72c-.78.78-.78 2.05 0 2.83L4 21.41c.39.39.9.59 1.41.59.51 0 1.02-.2 1.41-.59l7.78-7.78 2.81-2.81c.8-.78.8-2.07 0-2.86zM5.41 20L4 18.59l7.72-7.72 1.47 1.35L5.41 20z\"/>\n",
              "  </svg>\n",
              "      </button>\n",
              "      \n",
              "  <style>\n",
              "    .colab-df-container {\n",
              "      display:flex;\n",
              "      flex-wrap:wrap;\n",
              "      gap: 12px;\n",
              "    }\n",
              "\n",
              "    .colab-df-convert {\n",
              "      background-color: #E8F0FE;\n",
              "      border: none;\n",
              "      border-radius: 50%;\n",
              "      cursor: pointer;\n",
              "      display: none;\n",
              "      fill: #1967D2;\n",
              "      height: 32px;\n",
              "      padding: 0 0 0 0;\n",
              "      width: 32px;\n",
              "    }\n",
              "\n",
              "    .colab-df-convert:hover {\n",
              "      background-color: #E2EBFA;\n",
              "      box-shadow: 0px 1px 2px rgba(60, 64, 67, 0.3), 0px 1px 3px 1px rgba(60, 64, 67, 0.15);\n",
              "      fill: #174EA6;\n",
              "    }\n",
              "\n",
              "    [theme=dark] .colab-df-convert {\n",
              "      background-color: #3B4455;\n",
              "      fill: #D2E3FC;\n",
              "    }\n",
              "\n",
              "    [theme=dark] .colab-df-convert:hover {\n",
              "      background-color: #434B5C;\n",
              "      box-shadow: 0px 1px 3px 1px rgba(0, 0, 0, 0.15);\n",
              "      filter: drop-shadow(0px 1px 2px rgba(0, 0, 0, 0.3));\n",
              "      fill: #FFFFFF;\n",
              "    }\n",
              "  </style>\n",
              "\n",
              "      <script>\n",
              "        const buttonEl =\n",
              "          document.querySelector('#df-f5db387c-2431-49eb-aa6c-f21da8d29696 button.colab-df-convert');\n",
              "        buttonEl.style.display =\n",
              "          google.colab.kernel.accessAllowed ? 'block' : 'none';\n",
              "\n",
              "        async function convertToInteractive(key) {\n",
              "          const element = document.querySelector('#df-f5db387c-2431-49eb-aa6c-f21da8d29696');\n",
              "          const dataTable =\n",
              "            await google.colab.kernel.invokeFunction('convertToInteractive',\n",
              "                                                     [key], {});\n",
              "          if (!dataTable) return;\n",
              "\n",
              "          const docLinkHtml = 'Like what you see? Visit the ' +\n",
              "            '<a target=\"_blank\" href=https://colab.research.google.com/notebooks/data_table.ipynb>data table notebook</a>'\n",
              "            + ' to learn more about interactive tables.';\n",
              "          element.innerHTML = '';\n",
              "          dataTable['output_type'] = 'display_data';\n",
              "          await google.colab.output.renderOutput(dataTable, element);\n",
              "          const docLink = document.createElement('div');\n",
              "          docLink.innerHTML = docLinkHtml;\n",
              "          element.appendChild(docLink);\n",
              "        }\n",
              "      </script>\n",
              "    </div>\n",
              "  </div>\n",
              "  "
            ]
          },
          "metadata": {},
          "execution_count": 26
        }
      ],
      "source": [
        "df[\"title_length\"] = df[\"title\"].apply(lambda x: len(x.split()))\n",
        "df.head(2)"
      ]
    },
    {
      "cell_type": "markdown",
      "metadata": {
        "id": "rmUCdoFbW6tv"
      },
      "source": [
        "### Part 8: Plot Histogram of Word counts"
      ]
    },
    {
      "cell_type": "code",
      "execution_count": 30,
      "metadata": {
        "id": "NMWEgnRRW6tv",
        "colab": {
          "base_uri": "https://localhost:8080/",
          "height": 299
        },
        "outputId": "beccf5fc-1d61-44e4-de31-70c9b4050c9f"
      },
      "outputs": [
        {
          "output_type": "display_data",
          "data": {
            "text/plain": [
              "<Figure size 432x288 with 1 Axes>"
            ],
            "image/png": "[encoded data removed]"
          },
          "metadata": {}
        }
      ],
      "source": [
        "import matplotlib.pyplot as plt\n",
        "df.hist(\"title_length\")\n",
        "plt.title(\"Title Length Histogram\")\n",
        "plt.xlabel(\"title_length\")\n",
        "plt.ylabel(\"Frequency\")\n",
        "plt.show()"
      ]
    },
    {
      "cell_type": "markdown",
      "metadata": {
        "id": "obRrS2e-W6tv"
      },
      "source": [
        "## Log"
      ]
    },
    {
      "cell_type": "markdown",
      "metadata": {
        "id": "ZXTMwenpW6tv"
      },
      "source": [
        "### Part 1: Number of Total Commits"
      ]
    },
    {
      "cell_type": "code",
      "execution_count": 31,
      "metadata": {
        "id": "ZoZBMdyEW6tv",
        "colab": {
          "base_uri": "https://localhost:8080/",
          "height": 161,
          "referenced_widgets": [
            "8b4e66e845ba41cd98ebac8e655dd8e1",
            "5a094deda79e415ba0a1dcc3b0029f66",
            "0527ea1d65f14fd8a97bc5643eeb9989",
            "842eeceb143a423db3ed644d619cd573",
            "88dd7c61d95e400e955b705deab118eb",
            "2a23585796db4cfc955c56905ff25c04",
            "0c55d29f2a164bc0b86bc9145ebe7b8e",
            "d0c60f2016ff49fab6c8b44c4dee73aa",
            "025591d1a914439fb1725cfddd2c2b49",
            "dad08a1336a04a36bc641ac425663d88",
            "d9244584ce9444e9b5f080e41d6b9afc"
          ]
        },
        "outputId": "d5c6e762-9ecc-4ab7-9c22-7fdcbd0ffabb"
      },
      "outputs": [
        {
          "output_type": "display_data",
          "data": {
            "text/plain": [
              "  0%|          | 0/8257 [00:00<?, ?it/s]"
            ],
            "application/vnd.jupyter.widget-view+json": {
              "version_major": 2,
              "version_minor": 0,
              "model_id": "8b4e66e845ba41cd98ebac8e655dd8e1"
            }
          },
          "metadata": {}
        },
        {
          "output_type": "stream",
          "name": "stdout",
          "text": [
            "#Commits: 536\n"
          ]
        },
        {
          "output_type": "execute_result",
          "data": {
            "text/plain": [
              "                                     commit         author  \\\n",
              "0  4d3d9de655faa813781027d8b1baed819c6a56fe  Markus Harrer   \n",
              "1  b836a492b2d5916397be9880f548121a9b398db1  Markus Harrer   \n",
              "\n",
              "                        date  \\\n",
              "0  2019-03-05 22:32:20+01:00   \n",
              "1  2019-03-05 13:38:07+01:00   \n",
              "\n",
              "                                               files  \\\n",
              "0  [20\\t1\\tjqassistant/business.adoc, 1\\t1\\tsrc/m...   \n",
              "1  [18\\t0\\tsrc/main/java/org/springframework/samp...   \n",
              "\n",
              "                                      message                          email  \n",
              "0              add virtual bounded contexts\\n  feststelltaste@googlemail.com  \n",
              "1      add support for virtual refactorings\\n  feststelltaste@googlemail.com  "
            ],
            "text/html": [
              "\n",
              "  <div id=\"df-1dfa6ae2-9bab-4e88-a054-fc5b56d12398\">\n",
              "    <div class=\"colab-df-container\">\n",
              "      <div>\n",
              "<style scoped>\n",
              "    .dataframe tbody tr th:only-of-type {\n",
              "        vertical-align: middle;\n",
              "    }\n",
              "\n",
              "    .dataframe tbody tr th {\n",
              "        vertical-align: top;\n",
              "    }\n",
              "\n",
              "    .dataframe thead th {\n",
              "        text-align: right;\n",
              "    }\n",
              "</style>\n",
              "<table border=\"1\" class=\"dataframe\">\n",
              "  <thead>\n",
              "    <tr style=\"text-align: right;\">\n",
              "      <th></th>\n",
              "      <th>commit</th>\n",
              "      <th>author</th>\n",
              "      <th>date</th>\n",
              "      <th>files</th>\n",
              "      <th>message</th>\n",
              "      <th>email</th>\n",
              "    </tr>\n",
              "  </thead>\n",
              "  <tbody>\n",
              "    <tr>\n",
              "      <th>0</th>\n",
              "      <td>4d3d9de655faa813781027d8b1baed819c6a56fe</td>\n",
              "      <td>Markus Harrer</td>\n",
              "      <td>2019-03-05 22:32:20+01:00</td>\n",
              "      <td>[20\\t1\\tjqassistant/business.adoc, 1\\t1\\tsrc/m...</td>\n",
              "      <td>add virtual bounded contexts\\n</td>\n",
              "      <td>feststelltaste@googlemail.com</td>\n",
              "    </tr>\n",
              "    <tr>\n",
              "      <th>1</th>\n",
              "      <td>b836a492b2d5916397be9880f548121a9b398db1</td>\n",
              "      <td>Markus Harrer</td>\n",
              "      <td>2019-03-05 13:38:07+01:00</td>\n",
              "      <td>[18\\t0\\tsrc/main/java/org/springframework/samp...</td>\n",
              "      <td>add support for virtual refactorings\\n</td>\n",
              "      <td>feststelltaste@googlemail.com</td>\n",
              "    </tr>\n",
              "  </tbody>\n",
              "</table>\n",
              "</div>\n",
              "      <button class=\"colab-df-convert\" onclick=\"convertToInteractive('df-1dfa6ae2-9bab-4e88-a054-fc5b56d12398')\"\n",
              "              title=\"Convert this dataframe to an interactive table.\"\n",
              "              style=\"display:none;\">\n",
              "        \n",
              "  <svg xmlns=\"http://www.w3.org/2000/svg\" height=\"24px\"viewBox=\"0 0 24 24\"\n",
              "       width=\"24px\">\n",
              "    <path d=\"M0 0h24v24H0V0z\" fill=\"none\"/>\n",
              "    <path d=\"M18.56 5.44l.94 2.06.94-2.06 2.06-.94-2.06-.94-.94-2.06-.94 2.06-2.06.94zm-11 1L8.5 8.5l.94-2.06 2.06-.94-2.06-.94L8.5 2.5l-.94 2.06-2.06.94zm10 10l.94 2.06.94-2.06 2.06-.94-2.06-.94-.94-2.06-.94 2.06-2.06.94z\"/><path d=\"M17.41 7.96l-1.37-1.37c-.4-.4-.92-.59-1.43-.59-.52 0-1.04.2-1.43.59L10.3 9.45l-7.72 7.72c-.78.78-.78 2.05 0 2.83L4 21.41c.39.39.9.59 1.41.59.51 0 1.02-.2 1.41-.59l7.78-7.78 2.81-2.81c.8-.78.8-2.07 0-2.86zM5.41 20L4 18.59l7.72-7.72 1.47 1.35L5.41 20z\"/>\n",
              "  </svg>\n",
              "      </button>\n",
              "      \n",
              "  <style>\n",
              "    .colab-df-container {\n",
              "      display:flex;\n",
              "      flex-wrap:wrap;\n",
              "      gap: 12px;\n",
              "    }\n",
              "\n",
              "    .colab-df-convert {\n",
              "      background-color: #E8F0FE;\n",
              "      border: none;\n",
              "      border-radius: 50%;\n",
              "      cursor: pointer;\n",
              "      display: none;\n",
              "      fill: #1967D2;\n",
              "      height: 32px;\n",
              "      padding: 0 0 0 0;\n",
              "      width: 32px;\n",
              "    }\n",
              "\n",
              "    .colab-df-convert:hover {\n",
              "      background-color: #E2EBFA;\n",
              "      box-shadow: 0px 1px 2px rgba(60, 64, 67, 0.3), 0px 1px 3px 1px rgba(60, 64, 67, 0.15);\n",
              "      fill: #174EA6;\n",
              "    }\n",
              "\n",
              "    [theme=dark] .colab-df-convert {\n",
              "      background-color: #3B4455;\n",
              "      fill: #D2E3FC;\n",
              "    }\n",
              "\n",
              "    [theme=dark] .colab-df-convert:hover {\n",
              "      background-color: #434B5C;\n",
              "      box-shadow: 0px 1px 3px 1px rgba(0, 0, 0, 0.15);\n",
              "      filter: drop-shadow(0px 1px 2px rgba(0, 0, 0, 0.3));\n",
              "      fill: #FFFFFF;\n",
              "    }\n",
              "  </style>\n",
              "\n",
              "      <script>\n",
              "        const buttonEl =\n",
              "          document.querySelector('#df-1dfa6ae2-9bab-4e88-a054-fc5b56d12398 button.colab-df-convert');\n",
              "        buttonEl.style.display =\n",
              "          google.colab.kernel.accessAllowed ? 'block' : 'none';\n",
              "\n",
              "        async function convertToInteractive(key) {\n",
              "          const element = document.querySelector('#df-1dfa6ae2-9bab-4e88-a054-fc5b56d12398');\n",
              "          const dataTable =\n",
              "            await google.colab.kernel.invokeFunction('convertToInteractive',\n",
              "                                                     [key], {});\n",
              "          if (!dataTable) return;\n",
              "\n",
              "          const docLinkHtml = 'Like what you see? Visit the ' +\n",
              "            '<a target=\"_blank\" href=https://colab.research.google.com/notebooks/data_table.ipynb>data table notebook</a>'\n",
              "            + ' to learn more about interactive tables.';\n",
              "          element.innerHTML = '';\n",
              "          dataTable['output_type'] = 'display_data';\n",
              "          await google.colab.output.renderOutput(dataTable, element);\n",
              "          const docLink = document.createElement('div');\n",
              "          docLink.innerHTML = docLinkHtml;\n",
              "          element.appendChild(docLink);\n",
              "        }\n",
              "      </script>\n",
              "    </div>\n",
              "  </div>\n",
              "  "
            ]
          },
          "metadata": {},
          "execution_count": 31
        }
      ],
      "source": [
        "import datetime\n",
        "from tqdm.auto import tqdm\n",
        "\n",
        "def parse_git_log(log_path: str) -> list():\n",
        "    with open(log_path, 'r') as f:\n",
        "        lines = f.readlines()\n",
        "    commits = list()\n",
        "    IN_MESSAGE = False\n",
        "    for line in tqdm(lines):\n",
        "        line = line[:-1]\n",
        "        if line.startswith(\"commit\"):\n",
        "            commit_obj = {\n",
        "                \"commit\": line.split()[-1],\n",
        "                \"author\": None,\n",
        "                \"date\": None,\n",
        "                \"files\": list(), \n",
        "                \"message\": \"\"\n",
        "            }\n",
        "            commits.append(commit_obj)\n",
        "        elif line.startswith(\"Author:\"):\n",
        "            commit_obj[\"author\"] = ' '.join(line.split()[1:-1])\n",
        "            commit_obj[\"email\"] = line.split()[-1][1:-1]\n",
        "        elif line.startswith(\"Date:\"):\n",
        "            commit_obj[\"date\"] = datetime.datetime.strptime(\n",
        "                ' '.join(line.split()[1:]), \n",
        "                '%a %b %d %H:%M:%S %Y %z')\n",
        "        elif line == '' and len(commit_obj[\"files\"]) == 0:\n",
        "            IN_MESSAGE = not IN_MESSAGE\n",
        "        elif IN_MESSAGE:\n",
        "            commit_obj[\"message\"] += f\"{line}\\n\"\n",
        "        elif \"\\t\" in line:\n",
        "            commit_obj[\"files\"].append(line)\n",
        "    return commits\n",
        "        \n",
        "git_logs = parse_git_log(\"data/git_log.log\")\n",
        "print(\"#Commits:\", len(git_logs))\n",
        "git_raw_df = pd.DataFrame(git_logs)\n",
        "git_raw_df.head(2)"
      ]
    },
    {
      "cell_type": "markdown",
      "metadata": {
        "id": "KimWDeB_W6tw"
      },
      "source": [
        "### Part 2: Extract Developer name, Email, Commit Count and last commit date and create a Dataframe"
      ]
    },
    {
      "cell_type": "code",
      "execution_count": 32,
      "metadata": {
        "id": "fEmt-iLxW6tw",
        "colab": {
          "base_uri": "https://localhost:8080/",
          "height": 1000
        },
        "outputId": "2181ad5f-1fad-4a75-bd8c-251b63e063df"
      },
      "outputs": [
        {
          "output_type": "execute_result",
          "data": {
            "text/plain": [
              "              developer           last_commit_date  \\\n",
              "497      Thomas Risberg  2009-12-14 22:13:04+00:00   \n",
              "472        Keith Donald  2010-02-18 22:11:04+00:00   \n",
              "471         Costin Leau  2010-07-19 14:20:39+00:00   \n",
              "470         Chris Beams  2010-09-02 07:51:24+00:00   \n",
              "407   Rossen Stoyanchev  2013-02-10 18:16:18-05:00   \n",
              "377      Gordon Dickens  2013-02-19 11:10:37-05:00   \n",
              "365       Julien Dubois  2013-02-25 22:40:24+01:00   \n",
              "302              TejasM  2013-05-27 14:28:24-04:00   \n",
              "289              boly38  2013-07-12 10:22:38+02:00   \n",
              "284    Cyrille Le Clerc  2013-08-10 19:49:01+02:00   \n",
              "247         Bram Luyten  2014-05-11 18:37:42+02:00   \n",
              "245  Thibault Duchateau  2014-06-01 12:50:08+02:00   \n",
              "242        Craig Dennis  2014-07-07 21:19:40-07:00   \n",
              "240                 Mic  2014-08-26 10:51:01+08:00   \n",
              "219              mklose  2015-04-01 16:39:51+02:00   \n",
              "216      Vlad Selpukhin  2015-04-23 15:43:48+03:00   \n",
              "194            srenkens  2015-06-05 12:37:46+02:00   \n",
              "165         Joe Freeman  2015-09-30 21:20:34-04:00   \n",
              "144         Dirk Mahler  2015-10-28 15:59:16+01:00   \n",
              "132           Colin But  2015-11-20 13:56:44+00:00   \n",
              "124          IHABRITANE  2016-01-25 17:21:19+00:00   \n",
              "118             thinksh  2016-02-03 23:19:46-05:00   \n",
              "115         michaelisvy  2016-02-06 15:02:14+08:00   \n",
              "114         Antoine Rey  2016-02-06 18:55:52+01:00   \n",
              "113     Ameya Pandilwar  2016-02-07 18:31:11-05:00   \n",
              "112      patrickcrocker  2016-02-19 14:49:30-06:00   \n",
              "111      kadinyazilimci  2016-02-25 09:36:20+10:00   \n",
              "110        lukasz-szewc  2016-03-05 18:50:45+01:00   \n",
              "105         XIAO XI LIU  2016-04-05 07:04:33+08:00   \n",
              "104         Tomas Repel  2016-04-05 09:01:37+02:00   \n",
              "100       Faisal Hameed  2016-04-23 23:31:51+05:00   \n",
              "98              Attilio  2016-06-15 22:46:47+02:00   \n",
              "91      Ameya Pandilwar  2016-06-19 02:23:53-04:00   \n",
              "89               Dapeng  2016-06-27 17:06:47+08:00   \n",
              "78        Mike Eltsufin  2016-07-22 11:31:12-04:00   \n",
              "77         AndrejGajdos  2016-07-28 13:50:07+02:00   \n",
              "74          Antoine Rey  2016-08-19 18:54:56+02:00   \n",
              "71    Oliver B. Fischer  2016-09-15 23:27:55+02:00   \n",
              "64              dmahler  2017-02-27 17:48:02+01:00   \n",
              "34          Dirk Mahler  2017-10-24 16:48:23+02:00   \n",
              "20       JavaOnAutobahn  2018-02-09 13:58:15+01:00   \n",
              "13               Markus  2018-03-05 22:25:12+01:00   \n",
              "0         Markus Harrer  2019-03-05 22:32:20+01:00   \n",
              "\n",
              "                                       email  commit_count  \n",
              "497                      trisberg@vmware.com             1  \n",
              "472                       kdonald@vmware.com            35  \n",
              "471                         cleau@vmware.com            28  \n",
              "470                        cbeams@vmware.com             1  \n",
              "407                   rstoyanchev@vmware.com             2  \n",
              "377                 gordon@gordondickens.com             5  \n",
              "365                         jdubois@ippon.fr             2  \n",
              "302                    tejasmehta0@gmail.com             1  \n",
              "289                         boly38@gmail.com             1  \n",
              "284               cyrille@cyrilleleclerc.com             5  \n",
              "247                             bram@mire.be             1  \n",
              "245             thibault.duchateau@gmail.com             5  \n",
              "242                   craigsdennis@gmail.com             1  \n",
              "240                         misvy@vmware.com           206  \n",
              "219            martin.klose@klosebrothers.de             1  \n",
              "216                        slp.vld@gmail.com             1  \n",
              "194                       srenkens@gmail.com             1  \n",
              "165               joe+github@freemansoft.com             3  \n",
              "144                     dirk.mahler@asml.com             4  \n",
              "132        colinbut@users.noreply.github.com             1  \n",
              "124               faycal.ihabritane@atos.net             1  \n",
              "118                   thinkshihang@gmail.com             1  \n",
              "115                      misvy@gopivotal,com            52  \n",
              "114                      antoine.rey@free.fr            41  \n",
              "113                        ameya@ccs.neu.edu             1  \n",
              "112                patrick.crocker@gmail.com             1  \n",
              "111                  armagan.ersoz@gmail.com             1  \n",
              "110    lukasz-szewc@users.noreply.github.com             1  \n",
              "105                         liuxx@cn.ibm.com             1  \n",
              "104                        trepel@redhat.com             5  \n",
              "100             faisal.hameed@devfactory.com             1  \n",
              "98                          attilio@attil.io             1  \n",
              "91                       ameya@pandilwar.com             1  \n",
              "89                      verydapeng@gmail.com             1  \n",
              "78                      meltsufin@google.com             1  \n",
              "77                                   Andrej1             1  \n",
              "74                     antoine.rey@gmail.com            23  \n",
              "71                  o.b.fischer@swe-blog.net             2  \n",
              "64           dirk.mahler@globalfoundries.com             2  \n",
              "34                 dirk.mahler@buschmais.com            55  \n",
              "20   JavaOnAutobahn@users.noreply.github.com             5  \n",
              "13   feststelltaste@users.noreply.github.com             4  \n",
              "0              feststelltaste@googlemail.com            29  "
            ],
            "text/html": [
              "\n",
              "  <div id=\"df-391d4009-3e40-4c62-aeb9-f2822f7cfa1d\">\n",
              "    <div class=\"colab-df-container\">\n",
              "      <div>\n",
              "<style scoped>\n",
              "    .dataframe tbody tr th:only-of-type {\n",
              "        vertical-align: middle;\n",
              "    }\n",
              "\n",
              "    .dataframe tbody tr th {\n",
              "        vertical-align: top;\n",
              "    }\n",
              "\n",
              "    .dataframe thead th {\n",
              "        text-align: right;\n",
              "    }\n",
              "</style>\n",
              "<table border=\"1\" class=\"dataframe\">\n",
              "  <thead>\n",
              "    <tr style=\"text-align: right;\">\n",
              "      <th></th>\n",
              "      <th>developer</th>\n",
              "      <th>last_commit_date</th>\n",
              "      <th>email</th>\n",
              "      <th>commit_count</th>\n",
              "    </tr>\n",
              "  </thead>\n",
              "  <tbody>\n",
              "    <tr>\n",
              "      <th>497</th>\n",
              "      <td>Thomas Risberg</td>\n",
              "      <td>2009-12-14 22:13:04+00:00</td>\n",
              "      <td>trisberg@vmware.com</td>\n",
              "      <td>1</td>\n",
              "    </tr>\n",
              "    <tr>\n",
              "      <th>472</th>\n",
              "      <td>Keith Donald</td>\n",
              "      <td>2010-02-18 22:11:04+00:00</td>\n",
              "      <td>kdonald@vmware.com</td>\n",
              "      <td>35</td>\n",
              "    </tr>\n",
              "    <tr>\n",
              "      <th>471</th>\n",
              "      <td>Costin Leau</td>\n",
              "      <td>2010-07-19 14:20:39+00:00</td>\n",
              "      <td>cleau@vmware.com</td>\n",
              "      <td>28</td>\n",
              "    </tr>\n",
              "    <tr>\n",
              "      <th>470</th>\n",
              "      <td>Chris Beams</td>\n",
              "      <td>2010-09-02 07:51:24+00:00</td>\n",
              "      <td>cbeams@vmware.com</td>\n",
              "      <td>1</td>\n",
              "    </tr>\n",
              "    <tr>\n",
              "      <th>407</th>\n",
              "      <td>Rossen Stoyanchev</td>\n",
              "      <td>2013-02-10 18:16:18-05:00</td>\n",
              "      <td>rstoyanchev@vmware.com</td>\n",
              "      <td>2</td>\n",
              "    </tr>\n",
              "    <tr>\n",
              "      <th>377</th>\n",
              "      <td>Gordon Dickens</td>\n",
              "      <td>2013-02-19 11:10:37-05:00</td>\n",
              "      <td>gordon@gordondickens.com</td>\n",
              "      <td>5</td>\n",
              "    </tr>\n",
              "    <tr>\n",
              "      <th>365</th>\n",
              "      <td>Julien Dubois</td>\n",
              "      <td>2013-02-25 22:40:24+01:00</td>\n",
              "      <td>jdubois@ippon.fr</td>\n",
              "      <td>2</td>\n",
              "    </tr>\n",
              "    <tr>\n",
              "      <th>302</th>\n",
              "      <td>TejasM</td>\n",
              "      <td>2013-05-27 14:28:24-04:00</td>\n",
              "      <td>tejasmehta0@gmail.com</td>\n",
              "      <td>1</td>\n",
              "    </tr>\n",
              "    <tr>\n",
              "      <th>289</th>\n",
              "      <td>boly38</td>\n",
              "      <td>2013-07-12 10:22:38+02:00</td>\n",
              "      <td>boly38@gmail.com</td>\n",
              "      <td>1</td>\n",
              "    </tr>\n",
              "    <tr>\n",
              "      <th>284</th>\n",
              "      <td>Cyrille Le Clerc</td>\n",
              "      <td>2013-08-10 19:49:01+02:00</td>\n",
              "      <td>cyrille@cyrilleleclerc.com</td>\n",
              "      <td>5</td>\n",
              "    </tr>\n",
              "    <tr>\n",
              "      <th>247</th>\n",
              "      <td>Bram Luyten</td>\n",
              "      <td>2014-05-11 18:37:42+02:00</td>\n",
              "      <td>bram@mire.be</td>\n",
              "      <td>1</td>\n",
              "    </tr>\n",
              "    <tr>\n",
              "      <th>245</th>\n",
              "      <td>Thibault Duchateau</td>\n",
              "      <td>2014-06-01 12:50:08+02:00</td>\n",
              "      <td>thibault.duchateau@gmail.com</td>\n",
              "      <td>5</td>\n",
              "    </tr>\n",
              "    <tr>\n",
              "      <th>242</th>\n",
              "      <td>Craig Dennis</td>\n",
              "      <td>2014-07-07 21:19:40-07:00</td>\n",
              "      <td>craigsdennis@gmail.com</td>\n",
              "      <td>1</td>\n",
              "    </tr>\n",
              "    <tr>\n",
              "      <th>240</th>\n",
              "      <td>Mic</td>\n",
              "      <td>2014-08-26 10:51:01+08:00</td>\n",
              "      <td>misvy@vmware.com</td>\n",
              "      <td>206</td>\n",
              "    </tr>\n",
              "    <tr>\n",
              "      <th>219</th>\n",
              "      <td>mklose</td>\n",
              "      <td>2015-04-01 16:39:51+02:00</td>\n",
              "      <td>martin.klose@klosebrothers.de</td>\n",
              "      <td>1</td>\n",
              "    </tr>\n",
              "    <tr>\n",
              "      <th>216</th>\n",
              "      <td>Vlad Selpukhin</td>\n",
              "      <td>2015-04-23 15:43:48+03:00</td>\n",
              "      <td>slp.vld@gmail.com</td>\n",
              "      <td>1</td>\n",
              "    </tr>\n",
              "    <tr>\n",
              "      <th>194</th>\n",
              "      <td>srenkens</td>\n",
              "      <td>2015-06-05 12:37:46+02:00</td>\n",
              "      <td>srenkens@gmail.com</td>\n",
              "      <td>1</td>\n",
              "    </tr>\n",
              "    <tr>\n",
              "      <th>165</th>\n",
              "      <td>Joe Freeman</td>\n",
              "      <td>2015-09-30 21:20:34-04:00</td>\n",
              "      <td>joe+github@freemansoft.com</td>\n",
              "      <td>3</td>\n",
              "    </tr>\n",
              "    <tr>\n",
              "      <th>144</th>\n",
              "      <td>Dirk Mahler</td>\n",
              "      <td>2015-10-28 15:59:16+01:00</td>\n",
              "      <td>dirk.mahler@asml.com</td>\n",
              "      <td>4</td>\n",
              "    </tr>\n",
              "    <tr>\n",
              "      <th>132</th>\n",
              "      <td>Colin But</td>\n",
              "      <td>2015-11-20 13:56:44+00:00</td>\n",
              "      <td>colinbut@users.noreply.github.com</td>\n",
              "      <td>1</td>\n",
              "    </tr>\n",
              "    <tr>\n",
              "      <th>124</th>\n",
              "      <td>IHABRITANE</td>\n",
              "      <td>2016-01-25 17:21:19+00:00</td>\n",
              "      <td>faycal.ihabritane@atos.net</td>\n",
              "      <td>1</td>\n",
              "    </tr>\n",
              "    <tr>\n",
              "      <th>118</th>\n",
              "      <td>thinksh</td>\n",
              "      <td>2016-02-03 23:19:46-05:00</td>\n",
              "      <td>thinkshihang@gmail.com</td>\n",
              "      <td>1</td>\n",
              "    </tr>\n",
              "    <tr>\n",
              "      <th>115</th>\n",
              "      <td>michaelisvy</td>\n",
              "      <td>2016-02-06 15:02:14+08:00</td>\n",
              "      <td>misvy@gopivotal,com</td>\n",
              "      <td>52</td>\n",
              "    </tr>\n",
              "    <tr>\n",
              "      <th>114</th>\n",
              "      <td>Antoine Rey</td>\n",
              "      <td>2016-02-06 18:55:52+01:00</td>\n",
              "      <td>antoine.rey@free.fr</td>\n",
              "      <td>41</td>\n",
              "    </tr>\n",
              "    <tr>\n",
              "      <th>113</th>\n",
              "      <td>Ameya Pandilwar</td>\n",
              "      <td>2016-02-07 18:31:11-05:00</td>\n",
              "      <td>ameya@ccs.neu.edu</td>\n",
              "      <td>1</td>\n",
              "    </tr>\n",
              "    <tr>\n",
              "      <th>112</th>\n",
              "      <td>patrickcrocker</td>\n",
              "      <td>2016-02-19 14:49:30-06:00</td>\n",
              "      <td>patrick.crocker@gmail.com</td>\n",
              "      <td>1</td>\n",
              "    </tr>\n",
              "    <tr>\n",
              "      <th>111</th>\n",
              "      <td>kadinyazilimci</td>\n",
              "      <td>2016-02-25 09:36:20+10:00</td>\n",
              "      <td>armagan.ersoz@gmail.com</td>\n",
              "      <td>1</td>\n",
              "    </tr>\n",
              "    <tr>\n",
              "      <th>110</th>\n",
              "      <td>lukasz-szewc</td>\n",
              "      <td>2016-03-05 18:50:45+01:00</td>\n",
              "      <td>lukasz-szewc@users.noreply.github.com</td>\n",
              "      <td>1</td>\n",
              "    </tr>\n",
              "    <tr>\n",
              "      <th>105</th>\n",
              "      <td>XIAO XI LIU</td>\n",
              "      <td>2016-04-05 07:04:33+08:00</td>\n",
              "      <td>liuxx@cn.ibm.com</td>\n",
              "      <td>1</td>\n",
              "    </tr>\n",
              "    <tr>\n",
              "      <th>104</th>\n",
              "      <td>Tomas Repel</td>\n",
              "      <td>2016-04-05 09:01:37+02:00</td>\n",
              "      <td>trepel@redhat.com</td>\n",
              "      <td>5</td>\n",
              "    </tr>\n",
              "    <tr>\n",
              "      <th>100</th>\n",
              "      <td>Faisal Hameed</td>\n",
              "      <td>2016-04-23 23:31:51+05:00</td>\n",
              "      <td>faisal.hameed@devfactory.com</td>\n",
              "      <td>1</td>\n",
              "    </tr>\n",
              "    <tr>\n",
              "      <th>98</th>\n",
              "      <td>Attilio</td>\n",
              "      <td>2016-06-15 22:46:47+02:00</td>\n",
              "      <td>attilio@attil.io</td>\n",
              "      <td>1</td>\n",
              "    </tr>\n",
              "    <tr>\n",
              "      <th>91</th>\n",
              "      <td>Ameya Pandilwar</td>\n",
              "      <td>2016-06-19 02:23:53-04:00</td>\n",
              "      <td>ameya@pandilwar.com</td>\n",
              "      <td>1</td>\n",
              "    </tr>\n",
              "    <tr>\n",
              "      <th>89</th>\n",
              "      <td>Dapeng</td>\n",
              "      <td>2016-06-27 17:06:47+08:00</td>\n",
              "      <td>verydapeng@gmail.com</td>\n",
              "      <td>1</td>\n",
              "    </tr>\n",
              "    <tr>\n",
              "      <th>78</th>\n",
              "      <td>Mike Eltsufin</td>\n",
              "      <td>2016-07-22 11:31:12-04:00</td>\n",
              "      <td>meltsufin@google.com</td>\n",
              "      <td>1</td>\n",
              "    </tr>\n",
              "    <tr>\n",
              "      <th>77</th>\n",
              "      <td>AndrejGajdos</td>\n",
              "      <td>2016-07-28 13:50:07+02:00</td>\n",
              "      <td>Andrej1</td>\n",
              "      <td>1</td>\n",
              "    </tr>\n",
              "    <tr>\n",
              "      <th>74</th>\n",
              "      <td>Antoine Rey</td>\n",
              "      <td>2016-08-19 18:54:56+02:00</td>\n",
              "      <td>antoine.rey@gmail.com</td>\n",
              "      <td>23</td>\n",
              "    </tr>\n",
              "    <tr>\n",
              "      <th>71</th>\n",
              "      <td>Oliver B. Fischer</td>\n",
              "      <td>2016-09-15 23:27:55+02:00</td>\n",
              "      <td>o.b.fischer@swe-blog.net</td>\n",
              "      <td>2</td>\n",
              "    </tr>\n",
              "    <tr>\n",
              "      <th>64</th>\n",
              "      <td>dmahler</td>\n",
              "      <td>2017-02-27 17:48:02+01:00</td>\n",
              "      <td>dirk.mahler@globalfoundries.com</td>\n",
              "      <td>2</td>\n",
              "    </tr>\n",
              "    <tr>\n",
              "      <th>34</th>\n",
              "      <td>Dirk Mahler</td>\n",
              "      <td>2017-10-24 16:48:23+02:00</td>\n",
              "      <td>dirk.mahler@buschmais.com</td>\n",
              "      <td>55</td>\n",
              "    </tr>\n",
              "    <tr>\n",
              "      <th>20</th>\n",
              "      <td>JavaOnAutobahn</td>\n",
              "      <td>2018-02-09 13:58:15+01:00</td>\n",
              "      <td>JavaOnAutobahn@users.noreply.github.com</td>\n",
              "      <td>5</td>\n",
              "    </tr>\n",
              "    <tr>\n",
              "      <th>13</th>\n",
              "      <td>Markus</td>\n",
              "      <td>2018-03-05 22:25:12+01:00</td>\n",
              "      <td>feststelltaste@users.noreply.github.com</td>\n",
              "      <td>4</td>\n",
              "    </tr>\n",
              "    <tr>\n",
              "      <th>0</th>\n",
              "      <td>Markus Harrer</td>\n",
              "      <td>2019-03-05 22:32:20+01:00</td>\n",
              "      <td>feststelltaste@googlemail.com</td>\n",
              "      <td>29</td>\n",
              "    </tr>\n",
              "  </tbody>\n",
              "</table>\n",
              "</div>\n",
              "      <button class=\"colab-df-convert\" onclick=\"convertToInteractive('df-391d4009-3e40-4c62-aeb9-f2822f7cfa1d')\"\n",
              "              title=\"Convert this dataframe to an interactive table.\"\n",
              "              style=\"display:none;\">\n",
              "        \n",
              "  <svg xmlns=\"http://www.w3.org/2000/svg\" height=\"24px\"viewBox=\"0 0 24 24\"\n",
              "       width=\"24px\">\n",
              "    <path d=\"M0 0h24v24H0V0z\" fill=\"none\"/>\n",
              "    <path d=\"M18.56 5.44l.94 2.06.94-2.06 2.06-.94-2.06-.94-.94-2.06-.94 2.06-2.06.94zm-11 1L8.5 8.5l.94-2.06 2.06-.94-2.06-.94L8.5 2.5l-.94 2.06-2.06.94zm10 10l.94 2.06.94-2.06 2.06-.94-2.06-.94-.94-2.06-.94 2.06-2.06.94z\"/><path d=\"M17.41 7.96l-1.37-1.37c-.4-.4-.92-.59-1.43-.59-.52 0-1.04.2-1.43.59L10.3 9.45l-7.72 7.72c-.78.78-.78 2.05 0 2.83L4 21.41c.39.39.9.59 1.41.59.51 0 1.02-.2 1.41-.59l7.78-7.78 2.81-2.81c.8-.78.8-2.07 0-2.86zM5.41 20L4 18.59l7.72-7.72 1.47 1.35L5.41 20z\"/>\n",
              "  </svg>\n",
              "      </button>\n",
              "      \n",
              "  <style>\n",
              "    .colab-df-container {\n",
              "      display:flex;\n",
              "      flex-wrap:wrap;\n",
              "      gap: 12px;\n",
              "    }\n",
              "\n",
              "    .colab-df-convert {\n",
              "      background-color: #E8F0FE;\n",
              "      border: none;\n",
              "      border-radius: 50%;\n",
              "      cursor: pointer;\n",
              "      display: none;\n",
              "      fill: #1967D2;\n",
              "      height: 32px;\n",
              "      padding: 0 0 0 0;\n",
              "      width: 32px;\n",
              "    }\n",
              "\n",
              "    .colab-df-convert:hover {\n",
              "      background-color: #E2EBFA;\n",
              "      box-shadow: 0px 1px 2px rgba(60, 64, 67, 0.3), 0px 1px 3px 1px rgba(60, 64, 67, 0.15);\n",
              "      fill: #174EA6;\n",
              "    }\n",
              "\n",
              "    [theme=dark] .colab-df-convert {\n",
              "      background-color: #3B4455;\n",
              "      fill: #D2E3FC;\n",
              "    }\n",
              "\n",
              "    [theme=dark] .colab-df-convert:hover {\n",
              "      background-color: #434B5C;\n",
              "      box-shadow: 0px 1px 3px 1px rgba(0, 0, 0, 0.15);\n",
              "      filter: drop-shadow(0px 1px 2px rgba(0, 0, 0, 0.3));\n",
              "      fill: #FFFFFF;\n",
              "    }\n",
              "  </style>\n",
              "\n",
              "      <script>\n",
              "        const buttonEl =\n",
              "          document.querySelector('#df-391d4009-3e40-4c62-aeb9-f2822f7cfa1d button.colab-df-convert');\n",
              "        buttonEl.style.display =\n",
              "          google.colab.kernel.accessAllowed ? 'block' : 'none';\n",
              "\n",
              "        async function convertToInteractive(key) {\n",
              "          const element = document.querySelector('#df-391d4009-3e40-4c62-aeb9-f2822f7cfa1d');\n",
              "          const dataTable =\n",
              "            await google.colab.kernel.invokeFunction('convertToInteractive',\n",
              "                                                     [key], {});\n",
              "          if (!dataTable) return;\n",
              "\n",
              "          const docLinkHtml = 'Like what you see? Visit the ' +\n",
              "            '<a target=\"_blank\" href=https://colab.research.google.com/notebooks/data_table.ipynb>data table notebook</a>'\n",
              "            + ' to learn more about interactive tables.';\n",
              "          element.innerHTML = '';\n",
              "          dataTable['output_type'] = 'display_data';\n",
              "          await google.colab.output.renderOutput(dataTable, element);\n",
              "          const docLink = document.createElement('div');\n",
              "          docLink.innerHTML = docLinkHtml;\n",
              "          element.appendChild(docLink);\n",
              "        }\n",
              "      </script>\n",
              "    </div>\n",
              "  </div>\n",
              "  "
            ]
          },
          "metadata": {},
          "execution_count": 32
        }
      ],
      "source": [
        "git_df = git_raw_df\n",
        "git_df['commit_count'] = git_df.groupby('email')['email'].transform('count')\n",
        "git_df = git_df.drop([\"commit\", \"files\", \"message\"], axis=1)\n",
        "git_df = git_df.sort_values('date').groupby('email').tail(1)\n",
        "git_df = git_df.rename({'date': 'last_commit_date', 'author': 'developer'}, axis=1)\n",
        "git_df"
      ]
    },
    {
      "cell_type": "markdown",
      "metadata": {
        "id": "zsNu7AHdW6tw"
      },
      "source": [
        "### Part 3: Developers with Maximum and Minimum Commit count"
      ]
    },
    {
      "cell_type": "code",
      "execution_count": 33,
      "metadata": {
        "id": "RzKtXI0hW6tw",
        "colab": {
          "base_uri": "https://localhost:8080/",
          "height": 206
        },
        "outputId": "34edb824-a2c8-487f-8385-8e3f51a8f366"
      },
      "outputs": [
        {
          "output_type": "execute_result",
          "data": {
            "text/plain": [
              "           developer           last_commit_date                 email  \\\n",
              "497   Thomas Risberg  2009-12-14 22:13:04+00:00   trisberg@vmware.com   \n",
              "77      AndrejGajdos  2016-07-28 13:50:07+02:00               Andrej1   \n",
              "78     Mike Eltsufin  2016-07-22 11:31:12-04:00  meltsufin@google.com   \n",
              "89            Dapeng  2016-06-27 17:06:47+08:00  verydapeng@gmail.com   \n",
              "91   Ameya Pandilwar  2016-06-19 02:23:53-04:00   ameya@pandilwar.com   \n",
              "\n",
              "     commit_count  \n",
              "497             1  \n",
              "77              1  \n",
              "78              1  \n",
              "89              1  \n",
              "91              1  "
            ],
            "text/html": [
              "\n",
              "  <div id=\"df-349a8af7-29b4-44bd-b304-9476e64699c5\">\n",
              "    <div class=\"colab-df-container\">\n",
              "      <div>\n",
              "<style scoped>\n",
              "    .dataframe tbody tr th:only-of-type {\n",
              "        vertical-align: middle;\n",
              "    }\n",
              "\n",
              "    .dataframe tbody tr th {\n",
              "        vertical-align: top;\n",
              "    }\n",
              "\n",
              "    .dataframe thead th {\n",
              "        text-align: right;\n",
              "    }\n",
              "</style>\n",
              "<table border=\"1\" class=\"dataframe\">\n",
              "  <thead>\n",
              "    <tr style=\"text-align: right;\">\n",
              "      <th></th>\n",
              "      <th>developer</th>\n",
              "      <th>last_commit_date</th>\n",
              "      <th>email</th>\n",
              "      <th>commit_count</th>\n",
              "    </tr>\n",
              "  </thead>\n",
              "  <tbody>\n",
              "    <tr>\n",
              "      <th>497</th>\n",
              "      <td>Thomas Risberg</td>\n",
              "      <td>2009-12-14 22:13:04+00:00</td>\n",
              "      <td>trisberg@vmware.com</td>\n",
              "      <td>1</td>\n",
              "    </tr>\n",
              "    <tr>\n",
              "      <th>77</th>\n",
              "      <td>AndrejGajdos</td>\n",
              "      <td>2016-07-28 13:50:07+02:00</td>\n",
              "      <td>Andrej1</td>\n",
              "      <td>1</td>\n",
              "    </tr>\n",
              "    <tr>\n",
              "      <th>78</th>\n",
              "      <td>Mike Eltsufin</td>\n",
              "      <td>2016-07-22 11:31:12-04:00</td>\n",
              "      <td>meltsufin@google.com</td>\n",
              "      <td>1</td>\n",
              "    </tr>\n",
              "    <tr>\n",
              "      <th>89</th>\n",
              "      <td>Dapeng</td>\n",
              "      <td>2016-06-27 17:06:47+08:00</td>\n",
              "      <td>verydapeng@gmail.com</td>\n",
              "      <td>1</td>\n",
              "    </tr>\n",
              "    <tr>\n",
              "      <th>91</th>\n",
              "      <td>Ameya Pandilwar</td>\n",
              "      <td>2016-06-19 02:23:53-04:00</td>\n",
              "      <td>ameya@pandilwar.com</td>\n",
              "      <td>1</td>\n",
              "    </tr>\n",
              "  </tbody>\n",
              "</table>\n",
              "</div>\n",
              "      <button class=\"colab-df-convert\" onclick=\"convertToInteractive('df-349a8af7-29b4-44bd-b304-9476e64699c5')\"\n",
              "              title=\"Convert this dataframe to an interactive table.\"\n",
              "              style=\"display:none;\">\n",
              "        \n",
              "  <svg xmlns=\"http://www.w3.org/2000/svg\" height=\"24px\"viewBox=\"0 0 24 24\"\n",
              "       width=\"24px\">\n",
              "    <path d=\"M0 0h24v24H0V0z\" fill=\"none\"/>\n",
              "    <path d=\"M18.56 5.44l.94 2.06.94-2.06 2.06-.94-2.06-.94-.94-2.06-.94 2.06-2.06.94zm-11 1L8.5 8.5l.94-2.06 2.06-.94-2.06-.94L8.5 2.5l-.94 2.06-2.06.94zm10 10l.94 2.06.94-2.06 2.06-.94-2.06-.94-.94-2.06-.94 2.06-2.06.94z\"/><path d=\"M17.41 7.96l-1.37-1.37c-.4-.4-.92-.59-1.43-.59-.52 0-1.04.2-1.43.59L10.3 9.45l-7.72 7.72c-.78.78-.78 2.05 0 2.83L4 21.41c.39.39.9.59 1.41.59.51 0 1.02-.2 1.41-.59l7.78-7.78 2.81-2.81c.8-.78.8-2.07 0-2.86zM5.41 20L4 18.59l7.72-7.72 1.47 1.35L5.41 20z\"/>\n",
              "  </svg>\n",
              "      </button>\n",
              "      \n",
              "  <style>\n",
              "    .colab-df-container {\n",
              "      display:flex;\n",
              "      flex-wrap:wrap;\n",
              "      gap: 12px;\n",
              "    }\n",
              "\n",
              "    .colab-df-convert {\n",
              "      background-color: #E8F0FE;\n",
              "      border: none;\n",
              "      border-radius: 50%;\n",
              "      cursor: pointer;\n",
              "      display: none;\n",
              "      fill: #1967D2;\n",
              "      height: 32px;\n",
              "      padding: 0 0 0 0;\n",
              "      width: 32px;\n",
              "    }\n",
              "\n",
              "    .colab-df-convert:hover {\n",
              "      background-color: #E2EBFA;\n",
              "      box-shadow: 0px 1px 2px rgba(60, 64, 67, 0.3), 0px 1px 3px 1px rgba(60, 64, 67, 0.15);\n",
              "      fill: #174EA6;\n",
              "    }\n",
              "\n",
              "    [theme=dark] .colab-df-convert {\n",
              "      background-color: #3B4455;\n",
              "      fill: #D2E3FC;\n",
              "    }\n",
              "\n",
              "    [theme=dark] .colab-df-convert:hover {\n",
              "      background-color: #434B5C;\n",
              "      box-shadow: 0px 1px 3px 1px rgba(0, 0, 0, 0.15);\n",
              "      filter: drop-shadow(0px 1px 2px rgba(0, 0, 0, 0.3));\n",
              "      fill: #FFFFFF;\n",
              "    }\n",
              "  </style>\n",
              "\n",
              "      <script>\n",
              "        const buttonEl =\n",
              "          document.querySelector('#df-349a8af7-29b4-44bd-b304-9476e64699c5 button.colab-df-convert');\n",
              "        buttonEl.style.display =\n",
              "          google.colab.kernel.accessAllowed ? 'block' : 'none';\n",
              "\n",
              "        async function convertToInteractive(key) {\n",
              "          const element = document.querySelector('#df-349a8af7-29b4-44bd-b304-9476e64699c5');\n",
              "          const dataTable =\n",
              "            await google.colab.kernel.invokeFunction('convertToInteractive',\n",
              "                                                     [key], {});\n",
              "          if (!dataTable) return;\n",
              "\n",
              "          const docLinkHtml = 'Like what you see? Visit the ' +\n",
              "            '<a target=\"_blank\" href=https://colab.research.google.com/notebooks/data_table.ipynb>data table notebook</a>'\n",
              "            + ' to learn more about interactive tables.';\n",
              "          element.innerHTML = '';\n",
              "          dataTable['output_type'] = 'display_data';\n",
              "          await google.colab.output.renderOutput(dataTable, element);\n",
              "          const docLink = document.createElement('div');\n",
              "          docLink.innerHTML = docLinkHtml;\n",
              "          element.appendChild(docLink);\n",
              "        }\n",
              "      </script>\n",
              "    </div>\n",
              "  </div>\n",
              "  "
            ]
          },
          "metadata": {},
          "execution_count": 33
        }
      ],
      "source": [
        "git_df.sort_values(\"commit_count\").head(5)"
      ]
    },
    {
      "cell_type": "code",
      "source": [
        "git_df.sort_values(\"commit_count\", ascending=False).head(5)  # We could use tail instead of head and remove ascending=False"
      ],
      "metadata": {
        "colab": {
          "base_uri": "https://localhost:8080/",
          "height": 206
        },
        "id": "gwZLLNPJVmqt",
        "outputId": "bd3ef32f-501d-447d-b3a5-82d0623d2ce4"
      },
      "execution_count": 34,
      "outputs": [
        {
          "output_type": "execute_result",
          "data": {
            "text/plain": [
              "        developer           last_commit_date                      email  \\\n",
              "240           Mic  2014-08-26 10:51:01+08:00           misvy@vmware.com   \n",
              "34    Dirk Mahler  2017-10-24 16:48:23+02:00  dirk.mahler@buschmais.com   \n",
              "115   michaelisvy  2016-02-06 15:02:14+08:00        misvy@gopivotal,com   \n",
              "114   Antoine Rey  2016-02-06 18:55:52+01:00        antoine.rey@free.fr   \n",
              "472  Keith Donald  2010-02-18 22:11:04+00:00         kdonald@vmware.com   \n",
              "\n",
              "     commit_count  \n",
              "240           206  \n",
              "34             55  \n",
              "115            52  \n",
              "114            41  \n",
              "472            35  "
            ],
            "text/html": [
              "\n",
              "  <div id=\"df-6ef637e9-18bd-4a02-874d-469714e34c95\">\n",
              "    <div class=\"colab-df-container\">\n",
              "      <div>\n",
              "<style scoped>\n",
              "    .dataframe tbody tr th:only-of-type {\n",
              "        vertical-align: middle;\n",
              "    }\n",
              "\n",
              "    .dataframe tbody tr th {\n",
              "        vertical-align: top;\n",
              "    }\n",
              "\n",
              "    .dataframe thead th {\n",
              "        text-align: right;\n",
              "    }\n",
              "</style>\n",
              "<table border=\"1\" class=\"dataframe\">\n",
              "  <thead>\n",
              "    <tr style=\"text-align: right;\">\n",
              "      <th></th>\n",
              "      <th>developer</th>\n",
              "      <th>last_commit_date</th>\n",
              "      <th>email</th>\n",
              "      <th>commit_count</th>\n",
              "    </tr>\n",
              "  </thead>\n",
              "  <tbody>\n",
              "    <tr>\n",
              "      <th>240</th>\n",
              "      <td>Mic</td>\n",
              "      <td>2014-08-26 10:51:01+08:00</td>\n",
              "      <td>misvy@vmware.com</td>\n",
              "      <td>206</td>\n",
              "    </tr>\n",
              "    <tr>\n",
              "      <th>34</th>\n",
              "      <td>Dirk Mahler</td>\n",
              "      <td>2017-10-24 16:48:23+02:00</td>\n",
              "      <td>dirk.mahler@buschmais.com</td>\n",
              "      <td>55</td>\n",
              "    </tr>\n",
              "    <tr>\n",
              "      <th>115</th>\n",
              "      <td>michaelisvy</td>\n",
              "      <td>2016-02-06 15:02:14+08:00</td>\n",
              "      <td>misvy@gopivotal,com</td>\n",
              "      <td>52</td>\n",
              "    </tr>\n",
              "    <tr>\n",
              "      <th>114</th>\n",
              "      <td>Antoine Rey</td>\n",
              "      <td>2016-02-06 18:55:52+01:00</td>\n",
              "      <td>antoine.rey@free.fr</td>\n",
              "      <td>41</td>\n",
              "    </tr>\n",
              "    <tr>\n",
              "      <th>472</th>\n",
              "      <td>Keith Donald</td>\n",
              "      <td>2010-02-18 22:11:04+00:00</td>\n",
              "      <td>kdonald@vmware.com</td>\n",
              "      <td>35</td>\n",
              "    </tr>\n",
              "  </tbody>\n",
              "</table>\n",
              "</div>\n",
              "      <button class=\"colab-df-convert\" onclick=\"convertToInteractive('df-6ef637e9-18bd-4a02-874d-469714e34c95')\"\n",
              "              title=\"Convert this dataframe to an interactive table.\"\n",
              "              style=\"display:none;\">\n",
              "        \n",
              "  <svg xmlns=\"http://www.w3.org/2000/svg\" height=\"24px\"viewBox=\"0 0 24 24\"\n",
              "       width=\"24px\">\n",
              "    <path d=\"M0 0h24v24H0V0z\" fill=\"none\"/>\n",
              "    <path d=\"M18.56 5.44l.94 2.06.94-2.06 2.06-.94-2.06-.94-.94-2.06-.94 2.06-2.06.94zm-11 1L8.5 8.5l.94-2.06 2.06-.94-2.06-.94L8.5 2.5l-.94 2.06-2.06.94zm10 10l.94 2.06.94-2.06 2.06-.94-2.06-.94-.94-2.06-.94 2.06-2.06.94z\"/><path d=\"M17.41 7.96l-1.37-1.37c-.4-.4-.92-.59-1.43-.59-.52 0-1.04.2-1.43.59L10.3 9.45l-7.72 7.72c-.78.78-.78 2.05 0 2.83L4 21.41c.39.39.9.59 1.41.59.51 0 1.02-.2 1.41-.59l7.78-7.78 2.81-2.81c.8-.78.8-2.07 0-2.86zM5.41 20L4 18.59l7.72-7.72 1.47 1.35L5.41 20z\"/>\n",
              "  </svg>\n",
              "      </button>\n",
              "      \n",
              "  <style>\n",
              "    .colab-df-container {\n",
              "      display:flex;\n",
              "      flex-wrap:wrap;\n",
              "      gap: 12px;\n",
              "    }\n",
              "\n",
              "    .colab-df-convert {\n",
              "      background-color: #E8F0FE;\n",
              "      border: none;\n",
              "      border-radius: 50%;\n",
              "      cursor: pointer;\n",
              "      display: none;\n",
              "      fill: #1967D2;\n",
              "      height: 32px;\n",
              "      padding: 0 0 0 0;\n",
              "      width: 32px;\n",
              "    }\n",
              "\n",
              "    .colab-df-convert:hover {\n",
              "      background-color: #E2EBFA;\n",
              "      box-shadow: 0px 1px 2px rgba(60, 64, 67, 0.3), 0px 1px 3px 1px rgba(60, 64, 67, 0.15);\n",
              "      fill: #174EA6;\n",
              "    }\n",
              "\n",
              "    [theme=dark] .colab-df-convert {\n",
              "      background-color: #3B4455;\n",
              "      fill: #D2E3FC;\n",
              "    }\n",
              "\n",
              "    [theme=dark] .colab-df-convert:hover {\n",
              "      background-color: #434B5C;\n",
              "      box-shadow: 0px 1px 3px 1px rgba(0, 0, 0, 0.15);\n",
              "      filter: drop-shadow(0px 1px 2px rgba(0, 0, 0, 0.3));\n",
              "      fill: #FFFFFF;\n",
              "    }\n",
              "  </style>\n",
              "\n",
              "      <script>\n",
              "        const buttonEl =\n",
              "          document.querySelector('#df-6ef637e9-18bd-4a02-874d-469714e34c95 button.colab-df-convert');\n",
              "        buttonEl.style.display =\n",
              "          google.colab.kernel.accessAllowed ? 'block' : 'none';\n",
              "\n",
              "        async function convertToInteractive(key) {\n",
              "          const element = document.querySelector('#df-6ef637e9-18bd-4a02-874d-469714e34c95');\n",
              "          const dataTable =\n",
              "            await google.colab.kernel.invokeFunction('convertToInteractive',\n",
              "                                                     [key], {});\n",
              "          if (!dataTable) return;\n",
              "\n",
              "          const docLinkHtml = 'Like what you see? Visit the ' +\n",
              "            '<a target=\"_blank\" href=https://colab.research.google.com/notebooks/data_table.ipynb>data table notebook</a>'\n",
              "            + ' to learn more about interactive tables.';\n",
              "          element.innerHTML = '';\n",
              "          dataTable['output_type'] = 'display_data';\n",
              "          await google.colab.output.renderOutput(dataTable, element);\n",
              "          const docLink = document.createElement('div');\n",
              "          docLink.innerHTML = docLinkHtml;\n",
              "          element.appendChild(docLink);\n",
              "        }\n",
              "      </script>\n",
              "    </div>\n",
              "  </div>\n",
              "  "
            ]
          },
          "metadata": {},
          "execution_count": 34
        }
      ]
    },
    {
      "cell_type": "markdown",
      "metadata": {
        "id": "OSlrJqzMW6tw"
      },
      "source": [
        "## Json"
      ]
    },
    {
      "cell_type": "markdown",
      "metadata": {
        "id": "Xx7izFSaW6tw"
      },
      "source": [
        "### Part 1: Create Dataframe from Json files"
      ]
    },
    {
      "cell_type": "code",
      "execution_count": 35,
      "metadata": {
        "id": "og8bm6rLW6tw",
        "colab": {
          "base_uri": "https://localhost:8080/",
          "height": 847,
          "referenced_widgets": [
            "e84a3a91b917428a8731312cdfa01eb7",
            "c90908383a0048bf964988f48319f603",
            "3683624d8efe47f0a908384fd32ef988",
            "1b060c7a186e4aba86f07d6ca881e1b5",
            "6faaaba0ab3842b3b27ae87e4697feca",
            "ee32692d4e5a424f8d3a836dba51776b",
            "90d3726818674945ae5fb1cb1880ab0a",
            "fc1d8f35c71a4ed0b4d63b37c5885a90",
            "463df61e91b5421ab453fc1c2c371839",
            "56e26fd06526424196df5277433e72e3",
            "9940a5b1f63847a6afa76e81808e6279"
          ]
        },
        "outputId": "b33df688-b43d-47ce-bcd9-f86e20757ea9"
      },
      "outputs": [
        {
          "output_type": "display_data",
          "data": {
            "text/plain": [
              "  0%|          | 0/244 [00:00<?, ?it/s]"
            ],
            "application/vnd.jupyter.widget-view+json": {
              "version_major": 2,
              "version_minor": 0,
              "model_id": "e84a3a91b917428a8731312cdfa01eb7"
            }
          },
          "metadata": {}
        },
        {
          "output_type": "stream",
          "name": "stdout",
          "text": [
            "Title                  object\n",
            "Lang                   object\n",
            "Record_date    datetime64[ns]\n",
            "url                    object\n",
            "Description            object\n",
            "Category               object\n",
            "Tags                   object\n",
            "Speakers               object\n",
            "Duration              float64\n",
            "dtype: object\n"
          ]
        },
        {
          "output_type": "execute_result",
          "data": {
            "text/plain": [
              "                                                 Title Lang Record_date  \\\n",
              "0                  Using Python for Blender Animations  eng  2010-06-10   \n",
              "1                                 Web Apps with Jython  eng  2009-05-15   \n",
              "2                         ROS - Robot Operating System  eng  2011-01-13   \n",
              "3    Create a full stack, reactive website in Djang...  eng  2021-06-03   \n",
              "4    Winning Machine Learning Competitions With Sci...  eng  2015-04-10   \n",
              "..                                                 ...  ...         ...   \n",
              "239                                Terminal whispering  eng  2015-04-12   \n",
              "240                  Introduction to Spark with python  eng  2015-04-12   \n",
              "241                  What Python can learn from Erlang  eng  2015-04-11   \n",
              "242  IPython & Jupyter in depth: high productivity ...  eng  2015-04-09   \n",
              "243                      Delving into the Django Admin  eng  2015-04-10   \n",
              "\n",
              "                                                   url  \\\n",
              "0    https://archive.org/details/pyvideo_575___usin...   \n",
              "1    https://archive.org/details/pyvideo_590___web-...   \n",
              "2    https://archive.org/details/pyvideo_571___ros-...   \n",
              "3          https://www.youtube.com/watch?v=wMiZIK8p6DQ   \n",
              "4          https://www.youtube.com/watch?v=gDbaCIE0mrA   \n",
              "..                                                 ...   \n",
              "239        https://www.youtube.com/watch?v=WAitSilLDUA   \n",
              "240        https://www.youtube.com/watch?v=9xYfNznjClE   \n",
              "241        https://www.youtube.com/watch?v=EmICpC_QmhI   \n",
              "242        https://www.youtube.com/watch?v=05fA_DXgW-Y   \n",
              "243        https://www.youtube.com/watch?v=5ajZMpTcUZU   \n",
              "\n",
              "                                           Description       Category  \\\n",
              "0    A walk through using Blender 2.5's new Python ...          ChiPy   \n",
              "1    Building apps with Jython\\n\\nPresented on May ...          ChiPy   \n",
              "2                                                               ChiPy   \n",
              "3    Django is a great web framework for \"perfectio...           None   \n",
              "4    This tutorial will offer an introduction machi...  PyCon US 2015   \n",
              "..                                                 ...            ...   \n",
              "239  Have you ever wanted to add a status bar to yo...  PyCon US 2015   \n",
              "240  In this tutorial we will cover the basics of w...  PyCon US 2015   \n",
              "241                                                     PyCon US 2015   \n",
              "242  IPython and Jupyter provide tools for interact...  PyCon US 2015   \n",
              "243  The admin interface is widely considered a \"\"k...  PyCon US 2015   \n",
              "\n",
              "                                             Tags  \\\n",
              "0                   [blender, chipy, chriswebber]   \n",
              "1    [chipy, go_pylons, jython, snakefight, wsgi]   \n",
              "2                             [chipy, robot, ros]   \n",
              "3          [Django, DjangoConEU, djangoconeu2021]   \n",
              "4                                              []   \n",
              "..                                            ...   \n",
              "239                                            []   \n",
              "240                                            []   \n",
              "241                                            []   \n",
              "242                                            []   \n",
              "243                                            []   \n",
              "\n",
              "                          Speakers  Duration  \n",
              "0       [Christopher Allan Webber]       NaN  \n",
              "1                               []       NaN  \n",
              "2          [Bill Mania, Brian Ray]       NaN  \n",
              "3                      [Adam Hill]    2542.0  \n",
              "4                     [Ben Hamner]       NaN  \n",
              "..                             ...       ...  \n",
              "239             [Thomas Ballinger]       NaN  \n",
              "240                [Orlando Karam]       NaN  \n",
              "241              [Benoit Chesneau]       NaN  \n",
              "242  [Kyle Kelley, Thomas Kluyver]       NaN  \n",
              "243               [Jacinda Shelly]       NaN  \n",
              "\n",
              "[244 rows x 9 columns]"
            ],
            "text/html": [
              "\n",
              "  <div id=\"df-bbb0fa5f-1d75-47f0-93fa-aecd4c664d16\">\n",
              "    <div class=\"colab-df-container\">\n",
              "      <div>\n",
              "<style scoped>\n",
              "    .dataframe tbody tr th:only-of-type {\n",
              "        vertical-align: middle;\n",
              "    }\n",
              "\n",
              "    .dataframe tbody tr th {\n",
              "        vertical-align: top;\n",
              "    }\n",
              "\n",
              "    .dataframe thead th {\n",
              "        text-align: right;\n",
              "    }\n",
              "</style>\n",
              "<table border=\"1\" class=\"dataframe\">\n",
              "  <thead>\n",
              "    <tr style=\"text-align: right;\">\n",
              "      <th></th>\n",
              "      <th>Title</th>\n",
              "      <th>Lang</th>\n",
              "      <th>Record_date</th>\n",
              "      <th>url</th>\n",
              "      <th>Description</th>\n",
              "      <th>Category</th>\n",
              "      <th>Tags</th>\n",
              "      <th>Speakers</th>\n",
              "      <th>Duration</th>\n",
              "    </tr>\n",
              "  </thead>\n",
              "  <tbody>\n",
              "    <tr>\n",
              "      <th>0</th>\n",
              "      <td>Using Python for Blender Animations</td>\n",
              "      <td>eng</td>\n",
              "      <td>2010-06-10</td>\n",
              "      <td>https://archive.org/details/pyvideo_575___usin...</td>\n",
              "      <td>A walk through using Blender 2.5's new Python ...</td>\n",
              "      <td>ChiPy</td>\n",
              "      <td>[blender, chipy, chriswebber]</td>\n",
              "      <td>[Christopher Allan Webber]</td>\n",
              "      <td>NaN</td>\n",
              "    </tr>\n",
              "    <tr>\n",
              "      <th>1</th>\n",
              "      <td>Web Apps with Jython</td>\n",
              "      <td>eng</td>\n",
              "      <td>2009-05-15</td>\n",
              "      <td>https://archive.org/details/pyvideo_590___web-...</td>\n",
              "      <td>Building apps with Jython\\n\\nPresented on May ...</td>\n",
              "      <td>ChiPy</td>\n",
              "      <td>[chipy, go_pylons, jython, snakefight, wsgi]</td>\n",
              "      <td>[]</td>\n",
              "      <td>NaN</td>\n",
              "    </tr>\n",
              "    <tr>\n",
              "      <th>2</th>\n",
              "      <td>ROS - Robot Operating System</td>\n",
              "      <td>eng</td>\n",
              "      <td>2011-01-13</td>\n",
              "      <td>https://archive.org/details/pyvideo_571___ros-...</td>\n",
              "      <td></td>\n",
              "      <td>ChiPy</td>\n",
              "      <td>[chipy, robot, ros]</td>\n",
              "      <td>[Bill Mania, Brian Ray]</td>\n",
              "      <td>NaN</td>\n",
              "    </tr>\n",
              "    <tr>\n",
              "      <th>3</th>\n",
              "      <td>Create a full stack, reactive website in Djang...</td>\n",
              "      <td>eng</td>\n",
              "      <td>2021-06-03</td>\n",
              "      <td>https://www.youtube.com/watch?v=wMiZIK8p6DQ</td>\n",
              "      <td>Django is a great web framework for \"perfectio...</td>\n",
              "      <td>None</td>\n",
              "      <td>[Django, DjangoConEU, djangoconeu2021]</td>\n",
              "      <td>[Adam Hill]</td>\n",
              "      <td>2542.0</td>\n",
              "    </tr>\n",
              "    <tr>\n",
              "      <th>4</th>\n",
              "      <td>Winning Machine Learning Competitions With Sci...</td>\n",
              "      <td>eng</td>\n",
              "      <td>2015-04-10</td>\n",
              "      <td>https://www.youtube.com/watch?v=gDbaCIE0mrA</td>\n",
              "      <td>This tutorial will offer an introduction machi...</td>\n",
              "      <td>PyCon US 2015</td>\n",
              "      <td>[]</td>\n",
              "      <td>[Ben Hamner]</td>\n",
              "      <td>NaN</td>\n",
              "    </tr>\n",
              "    <tr>\n",
              "      <th>...</th>\n",
              "      <td>...</td>\n",
              "      <td>...</td>\n",
              "      <td>...</td>\n",
              "      <td>...</td>\n",
              "      <td>...</td>\n",
              "      <td>...</td>\n",
              "      <td>...</td>\n",
              "      <td>...</td>\n",
              "      <td>...</td>\n",
              "    </tr>\n",
              "    <tr>\n",
              "      <th>239</th>\n",
              "      <td>Terminal whispering</td>\n",
              "      <td>eng</td>\n",
              "      <td>2015-04-12</td>\n",
              "      <td>https://www.youtube.com/watch?v=WAitSilLDUA</td>\n",
              "      <td>Have you ever wanted to add a status bar to yo...</td>\n",
              "      <td>PyCon US 2015</td>\n",
              "      <td>[]</td>\n",
              "      <td>[Thomas Ballinger]</td>\n",
              "      <td>NaN</td>\n",
              "    </tr>\n",
              "    <tr>\n",
              "      <th>240</th>\n",
              "      <td>Introduction to Spark with python</td>\n",
              "      <td>eng</td>\n",
              "      <td>2015-04-12</td>\n",
              "      <td>https://www.youtube.com/watch?v=9xYfNznjClE</td>\n",
              "      <td>In this tutorial we will cover the basics of w...</td>\n",
              "      <td>PyCon US 2015</td>\n",
              "      <td>[]</td>\n",
              "      <td>[Orlando Karam]</td>\n",
              "      <td>NaN</td>\n",
              "    </tr>\n",
              "    <tr>\n",
              "      <th>241</th>\n",
              "      <td>What Python can learn from Erlang</td>\n",
              "      <td>eng</td>\n",
              "      <td>2015-04-11</td>\n",
              "      <td>https://www.youtube.com/watch?v=EmICpC_QmhI</td>\n",
              "      <td></td>\n",
              "      <td>PyCon US 2015</td>\n",
              "      <td>[]</td>\n",
              "      <td>[Benoit Chesneau]</td>\n",
              "      <td>NaN</td>\n",
              "    </tr>\n",
              "    <tr>\n",
              "      <th>242</th>\n",
              "      <td>IPython &amp; Jupyter in depth: high productivity ...</td>\n",
              "      <td>eng</td>\n",
              "      <td>2015-04-09</td>\n",
              "      <td>https://www.youtube.com/watch?v=05fA_DXgW-Y</td>\n",
              "      <td>IPython and Jupyter provide tools for interact...</td>\n",
              "      <td>PyCon US 2015</td>\n",
              "      <td>[]</td>\n",
              "      <td>[Kyle Kelley, Thomas Kluyver]</td>\n",
              "      <td>NaN</td>\n",
              "    </tr>\n",
              "    <tr>\n",
              "      <th>243</th>\n",
              "      <td>Delving into the Django Admin</td>\n",
              "      <td>eng</td>\n",
              "      <td>2015-04-10</td>\n",
              "      <td>https://www.youtube.com/watch?v=5ajZMpTcUZU</td>\n",
              "      <td>The admin interface is widely considered a \"\"k...</td>\n",
              "      <td>PyCon US 2015</td>\n",
              "      <td>[]</td>\n",
              "      <td>[Jacinda Shelly]</td>\n",
              "      <td>NaN</td>\n",
              "    </tr>\n",
              "  </tbody>\n",
              "</table>\n",
              "<p>244 rows × 9 columns</p>\n",
              "</div>\n",
              "      <button class=\"colab-df-convert\" onclick=\"convertToInteractive('df-bbb0fa5f-1d75-47f0-93fa-aecd4c664d16')\"\n",
              "              title=\"Convert this dataframe to an interactive table.\"\n",
              "              style=\"display:none;\">\n",
              "        \n",
              "  <svg xmlns=\"http://www.w3.org/2000/svg\" height=\"24px\"viewBox=\"0 0 24 24\"\n",
              "       width=\"24px\">\n",
              "    <path d=\"M0 0h24v24H0V0z\" fill=\"none\"/>\n",
              "    <path d=\"M18.56 5.44l.94 2.06.94-2.06 2.06-.94-2.06-.94-.94-2.06-.94 2.06-2.06.94zm-11 1L8.5 8.5l.94-2.06 2.06-.94-2.06-.94L8.5 2.5l-.94 2.06-2.06.94zm10 10l.94 2.06.94-2.06 2.06-.94-2.06-.94-.94-2.06-.94 2.06-2.06.94z\"/><path d=\"M17.41 7.96l-1.37-1.37c-.4-.4-.92-.59-1.43-.59-.52 0-1.04.2-1.43.59L10.3 9.45l-7.72 7.72c-.78.78-.78 2.05 0 2.83L4 21.41c.39.39.9.59 1.41.59.51 0 1.02-.2 1.41-.59l7.78-7.78 2.81-2.81c.8-.78.8-2.07 0-2.86zM5.41 20L4 18.59l7.72-7.72 1.47 1.35L5.41 20z\"/>\n",
              "  </svg>\n",
              "      </button>\n",
              "      \n",
              "  <style>\n",
              "    .colab-df-container {\n",
              "      display:flex;\n",
              "      flex-wrap:wrap;\n",
              "      gap: 12px;\n",
              "    }\n",
              "\n",
              "    .colab-df-convert {\n",
              "      background-color: #E8F0FE;\n",
              "      border: none;\n",
              "      border-radius: 50%;\n",
              "      cursor: pointer;\n",
              "      display: none;\n",
              "      fill: #1967D2;\n",
              "      height: 32px;\n",
              "      padding: 0 0 0 0;\n",
              "      width: 32px;\n",
              "    }\n",
              "\n",
              "    .colab-df-convert:hover {\n",
              "      background-color: #E2EBFA;\n",
              "      box-shadow: 0px 1px 2px rgba(60, 64, 67, 0.3), 0px 1px 3px 1px rgba(60, 64, 67, 0.15);\n",
              "      fill: #174EA6;\n",
              "    }\n",
              "\n",
              "    [theme=dark] .colab-df-convert {\n",
              "      background-color: #3B4455;\n",
              "      fill: #D2E3FC;\n",
              "    }\n",
              "\n",
              "    [theme=dark] .colab-df-convert:hover {\n",
              "      background-color: #434B5C;\n",
              "      box-shadow: 0px 1px 3px 1px rgba(0, 0, 0, 0.15);\n",
              "      filter: drop-shadow(0px 1px 2px rgba(0, 0, 0, 0.3));\n",
              "      fill: #FFFFFF;\n",
              "    }\n",
              "  </style>\n",
              "\n",
              "      <script>\n",
              "        const buttonEl =\n",
              "          document.querySelector('#df-bbb0fa5f-1d75-47f0-93fa-aecd4c664d16 button.colab-df-convert');\n",
              "        buttonEl.style.display =\n",
              "          google.colab.kernel.accessAllowed ? 'block' : 'none';\n",
              "\n",
              "        async function convertToInteractive(key) {\n",
              "          const element = document.querySelector('#df-bbb0fa5f-1d75-47f0-93fa-aecd4c664d16');\n",
              "          const dataTable =\n",
              "            await google.colab.kernel.invokeFunction('convertToInteractive',\n",
              "                                                     [key], {});\n",
              "          if (!dataTable) return;\n",
              "\n",
              "          const docLinkHtml = 'Like what you see? Visit the ' +\n",
              "            '<a target=\"_blank\" href=https://colab.research.google.com/notebooks/data_table.ipynb>data table notebook</a>'\n",
              "            + ' to learn more about interactive tables.';\n",
              "          element.innerHTML = '';\n",
              "          dataTable['output_type'] = 'display_data';\n",
              "          await google.colab.output.renderOutput(dataTable, element);\n",
              "          const docLink = document.createElement('div');\n",
              "          docLink.innerHTML = docLinkHtml;\n",
              "          element.appendChild(docLink);\n",
              "        }\n",
              "      </script>\n",
              "    </div>\n",
              "  </div>\n",
              "  "
            ]
          },
          "metadata": {},
          "execution_count": 35
        }
      ],
      "source": [
        "import json\n",
        "import os\n",
        "from tqdm.auto import tqdm\n",
        "import pandas as pd\n",
        "import datetime\n",
        "\n",
        "df_list = []\n",
        "for file_name in tqdm(os.listdir(\"data/Videos/\")):\n",
        "    with open(f\"data/Videos/{file_name}\", \"r\") as f:\n",
        "        j = json.load(f)\n",
        "        df_list.append(\n",
        "            {\n",
        "                \"Title\": j[\"title\"],\n",
        "                \"Lang\": j[\"language\"],\n",
        "                \"Record_date\": pd.to_datetime(j[\"recorded\"]),\n",
        "                \"url\": j[\"videos\"][0][\"url\"],\n",
        "                \"Description\": j[\"description\"],\n",
        "                \"Category\": j.get(\"category\", None),\n",
        "                \"Tags\": j.get(\"tags\", None),\n",
        "                \"Speakers\": j[\"speakers\"],\n",
        "                \"Duration\": j[\"duration\"]\n",
        "            }\n",
        "        )\n",
        "\n",
        "\n",
        "df = pd.DataFrame(df_list)\n",
        "print(df.dtypes)\n",
        "df"
      ]
    },
    {
      "cell_type": "markdown",
      "metadata": {
        "id": "R33k3-vmW6tw"
      },
      "source": [
        "### Part 2: Handle Missing Values"
      ]
    },
    {
      "cell_type": "markdown",
      "source": [
        "<blockquote>\n",
        "\n",
        "From the NaN values below, we can only fill Duration as it is numerical and we can use interpolation or other methods to generate a value for it. Others like category or tags can be filled with empty values. (We can also use the most frequent category/tags but still can be very misleading and just a guess)\n",
        "\n",
        "Since the data we have has no time series property like the ones investigated in the course, it is not sensible to use bfill or ffill. Therefore, we use mean for NaN values in duration."
      ],
      "metadata": {
        "id": "OgrW0iqeEyma"
      }
    },
    {
      "cell_type": "code",
      "execution_count": 36,
      "metadata": {
        "id": "GaGGYmuWW6tw",
        "colab": {
          "base_uri": "https://localhost:8080/"
        },
        "outputId": "753e13e6-4f6c-4ce2-8587-26ae2b0fe0e2"
      },
      "outputs": [
        {
          "output_type": "stream",
          "name": "stdout",
          "text": [
            "Title            0\n",
            "Lang             0\n",
            "Record_date      0\n",
            "url              0\n",
            "Description      0\n",
            "Category        35\n",
            "Tags             5\n",
            "Speakers         0\n",
            "Duration       176\n",
            "dtype: int64\n",
            "\n",
            "After fillna:\n",
            "Title          0\n",
            "Lang           0\n",
            "Record_date    0\n",
            "url            0\n",
            "Description    0\n",
            "Category       0\n",
            "Tags           0\n",
            "Speakers       0\n",
            "Duration       0\n",
            "dtype: int64\n"
          ]
        }
      ],
      "source": [
        "print(df.isnull().sum())\n",
        "df[\"Category\"] = df[\"Category\"].fillna(\"\")\n",
        "df[\"Tags\"] = df[\"Tags\"].fillna(\"\")\n",
        "df[\"Duration\"] = df[\"Duration\"].fillna(df[\"Duration\"].mean())\n",
        "print(\"\\nAfter fillna:\")\n",
        "print(df.isnull().sum())"
      ]
    },
    {
      "cell_type": "markdown",
      "metadata": {
        "id": "nloDNQT4W6tw"
      },
      "source": [
        "### Part 3: Title of videos published in 2016"
      ]
    },
    {
      "cell_type": "code",
      "execution_count": 37,
      "metadata": {
        "id": "-MZTzHNCW6tw",
        "colab": {
          "base_uri": "https://localhost:8080/"
        },
        "outputId": "8d7ba839-858f-4fbd-da8b-75130f6fe1bc"
      },
      "outputs": [
        {
          "output_type": "execute_result",
          "data": {
            "text/plain": [
              "109         The wonder and the horror of the mock module\n",
              "192    Python-based data science to understand knowle...\n",
              "235                              ChiPy Python Mentorship\n",
              "Name: Title, dtype: object"
            ]
          },
          "metadata": {},
          "execution_count": 37
        }
      ],
      "source": [
        "df[df[\"Record_date\"].dt.year == 2016][\"Title\"]"
      ]
    },
    {
      "cell_type": "markdown",
      "metadata": {
        "id": "8yP4iLUzW6tw"
      },
      "source": [
        "### Part 4: Mean, Min, Max, Median of Duration for each Category"
      ]
    },
    {
      "cell_type": "code",
      "execution_count": 38,
      "metadata": {
        "id": "uXm1u_7qW6tw",
        "colab": {
          "base_uri": "https://localhost:8080/",
          "height": 175
        },
        "outputId": "13ab55df-5298-4d83-bd8a-26dc68f3f609"
      },
      "outputs": [
        {
          "output_type": "execute_result",
          "data": {
            "text/plain": [
              "                      mean          min          max       median  count\n",
              "Category                                                                \n",
              "               2481.771429   300.000000  4328.000000  2535.000000     35\n",
              "ChiPy          1011.751765     4.000000  3600.000000  1479.485294     75\n",
              "PyCon US 2015  1479.485294  1479.485294  1479.485294  1479.485294    134"
            ],
            "text/html": [
              "\n",
              "  <div id=\"df-804164ad-ad43-409a-85e8-20f8123feb4c\">\n",
              "    <div class=\"colab-df-container\">\n",
              "      <div>\n",
              "<style scoped>\n",
              "    .dataframe tbody tr th:only-of-type {\n",
              "        vertical-align: middle;\n",
              "    }\n",
              "\n",
              "    .dataframe tbody tr th {\n",
              "        vertical-align: top;\n",
              "    }\n",
              "\n",
              "    .dataframe thead th {\n",
              "        text-align: right;\n",
              "    }\n",
              "</style>\n",
              "<table border=\"1\" class=\"dataframe\">\n",
              "  <thead>\n",
              "    <tr style=\"text-align: right;\">\n",
              "      <th></th>\n",
              "      <th>mean</th>\n",
              "      <th>min</th>\n",
              "      <th>max</th>\n",
              "      <th>median</th>\n",
              "      <th>count</th>\n",
              "    </tr>\n",
              "    <tr>\n",
              "      <th>Category</th>\n",
              "      <th></th>\n",
              "      <th></th>\n",
              "      <th></th>\n",
              "      <th></th>\n",
              "      <th></th>\n",
              "    </tr>\n",
              "  </thead>\n",
              "  <tbody>\n",
              "    <tr>\n",
              "      <th></th>\n",
              "      <td>2481.771429</td>\n",
              "      <td>300.000000</td>\n",
              "      <td>4328.000000</td>\n",
              "      <td>2535.000000</td>\n",
              "      <td>35</td>\n",
              "    </tr>\n",
              "    <tr>\n",
              "      <th>ChiPy</th>\n",
              "      <td>1011.751765</td>\n",
              "      <td>4.000000</td>\n",
              "      <td>3600.000000</td>\n",
              "      <td>1479.485294</td>\n",
              "      <td>75</td>\n",
              "    </tr>\n",
              "    <tr>\n",
              "      <th>PyCon US 2015</th>\n",
              "      <td>1479.485294</td>\n",
              "      <td>1479.485294</td>\n",
              "      <td>1479.485294</td>\n",
              "      <td>1479.485294</td>\n",
              "      <td>134</td>\n",
              "    </tr>\n",
              "  </tbody>\n",
              "</table>\n",
              "</div>\n",
              "      <button class=\"colab-df-convert\" onclick=\"convertToInteractive('df-804164ad-ad43-409a-85e8-20f8123feb4c')\"\n",
              "              title=\"Convert this dataframe to an interactive table.\"\n",
              "              style=\"display:none;\">\n",
              "        \n",
              "  <svg xmlns=\"http://www.w3.org/2000/svg\" height=\"24px\"viewBox=\"0 0 24 24\"\n",
              "       width=\"24px\">\n",
              "    <path d=\"M0 0h24v24H0V0z\" fill=\"none\"/>\n",
              "    <path d=\"M18.56 5.44l.94 2.06.94-2.06 2.06-.94-2.06-.94-.94-2.06-.94 2.06-2.06.94zm-11 1L8.5 8.5l.94-2.06 2.06-.94-2.06-.94L8.5 2.5l-.94 2.06-2.06.94zm10 10l.94 2.06.94-2.06 2.06-.94-2.06-.94-.94-2.06-.94 2.06-2.06.94z\"/><path d=\"M17.41 7.96l-1.37-1.37c-.4-.4-.92-.59-1.43-.59-.52 0-1.04.2-1.43.59L10.3 9.45l-7.72 7.72c-.78.78-.78 2.05 0 2.83L4 21.41c.39.39.9.59 1.41.59.51 0 1.02-.2 1.41-.59l7.78-7.78 2.81-2.81c.8-.78.8-2.07 0-2.86zM5.41 20L4 18.59l7.72-7.72 1.47 1.35L5.41 20z\"/>\n",
              "  </svg>\n",
              "      </button>\n",
              "      \n",
              "  <style>\n",
              "    .colab-df-container {\n",
              "      display:flex;\n",
              "      flex-wrap:wrap;\n",
              "      gap: 12px;\n",
              "    }\n",
              "\n",
              "    .colab-df-convert {\n",
              "      background-color: #E8F0FE;\n",
              "      border: none;\n",
              "      border-radius: 50%;\n",
              "      cursor: pointer;\n",
              "      display: none;\n",
              "      fill: #1967D2;\n",
              "      height: 32px;\n",
              "      padding: 0 0 0 0;\n",
              "      width: 32px;\n",
              "    }\n",
              "\n",
              "    .colab-df-convert:hover {\n",
              "      background-color: #E2EBFA;\n",
              "      box-shadow: 0px 1px 2px rgba(60, 64, 67, 0.3), 0px 1px 3px 1px rgba(60, 64, 67, 0.15);\n",
              "      fill: #174EA6;\n",
              "    }\n",
              "\n",
              "    [theme=dark] .colab-df-convert {\n",
              "      background-color: #3B4455;\n",
              "      fill: #D2E3FC;\n",
              "    }\n",
              "\n",
              "    [theme=dark] .colab-df-convert:hover {\n",
              "      background-color: #434B5C;\n",
              "      box-shadow: 0px 1px 3px 1px rgba(0, 0, 0, 0.15);\n",
              "      filter: drop-shadow(0px 1px 2px rgba(0, 0, 0, 0.3));\n",
              "      fill: #FFFFFF;\n",
              "    }\n",
              "  </style>\n",
              "\n",
              "      <script>\n",
              "        const buttonEl =\n",
              "          document.querySelector('#df-804164ad-ad43-409a-85e8-20f8123feb4c button.colab-df-convert');\n",
              "        buttonEl.style.display =\n",
              "          google.colab.kernel.accessAllowed ? 'block' : 'none';\n",
              "\n",
              "        async function convertToInteractive(key) {\n",
              "          const element = document.querySelector('#df-804164ad-ad43-409a-85e8-20f8123feb4c');\n",
              "          const dataTable =\n",
              "            await google.colab.kernel.invokeFunction('convertToInteractive',\n",
              "                                                     [key], {});\n",
              "          if (!dataTable) return;\n",
              "\n",
              "          const docLinkHtml = 'Like what you see? Visit the ' +\n",
              "            '<a target=\"_blank\" href=https://colab.research.google.com/notebooks/data_table.ipynb>data table notebook</a>'\n",
              "            + ' to learn more about interactive tables.';\n",
              "          element.innerHTML = '';\n",
              "          dataTable['output_type'] = 'display_data';\n",
              "          await google.colab.output.renderOutput(dataTable, element);\n",
              "          const docLink = document.createElement('div');\n",
              "          docLink.innerHTML = docLinkHtml;\n",
              "          element.appendChild(docLink);\n",
              "        }\n",
              "      </script>\n",
              "    </div>\n",
              "  </div>\n",
              "  "
            ]
          },
          "metadata": {},
          "execution_count": 38
        }
      ],
      "source": [
        "df.groupby(\"Category\")[\"Duration\"].agg(['mean', 'min', 'max', 'median', 'count'])"
      ]
    },
    {
      "cell_type": "markdown",
      "metadata": {
        "id": "0O4UFjVmW6tx"
      },
      "source": [
        "### Part 5: Create `label` Column"
      ]
    },
    {
      "cell_type": "code",
      "execution_count": 40,
      "metadata": {
        "id": "SnLEj2CsW6tx",
        "colab": {
          "base_uri": "https://localhost:8080/",
          "height": 337
        },
        "outputId": "b7b15451-81af-44bf-8b64-282c12139355"
      },
      "outputs": [
        {
          "output_type": "execute_result",
          "data": {
            "text/plain": [
              "                                                 Title Lang Record_date  \\\n",
              "111  Avoiding Burnout, and other essentials of Open...  eng  2015-04-12   \n",
              "53      How Open Source Hardware Will Change the World  eng  2013-11-14   \n",
              "20          Hacking Django Channels for Fun and Profit  eng  2021-06-03   \n",
              "98                         My Python's a little Rust-y  eng  2015-04-11   \n",
              "41       Facts and Myths about Python names and values  eng  2015-04-11   \n",
              "\n",
              "                                                   url  \\\n",
              "111        https://www.youtube.com/watch?v=RbeHBnWfXUc   \n",
              "53   https://archive.org/details/pyvideo_2450___How...   \n",
              "20         https://www.youtube.com/watch?v=DK74vjuhpuM   \n",
              "98         https://www.youtube.com/watch?v=3CwJ0MH-4MA   \n",
              "41         https://www.youtube.com/watch?v=_AEJHKGk9ns   \n",
              "\n",
              "                                           Description       Category  \\\n",
              "111  As technical community managers we are faced w...  PyCon US 2015   \n",
              "53                                                              ChiPy   \n",
              "20   - Intro and Backstory on Django Channels histo...                  \n",
              "98   Rust is a new systems programming language fro...  PyCon US 2015   \n",
              "41   The behavior of names and values in Python can...  PyCon US 2015   \n",
              "\n",
              "                                       Tags                 Speakers  \\\n",
              "111                                      []     [Kathleen Danielson]   \n",
              "53                                       []             [Paul Ebreo]   \n",
              "20   [Django, DjangoConEU, djangoconeu2021]  [Calvin Hendryx-Parker]   \n",
              "98                                       []           [Dan Callahan]   \n",
              "41                                       []         [Ned Batchelder]   \n",
              "\n",
              "        Duration  label  \n",
              "111  1479.485294      2  \n",
              "53      8.000000      1  \n",
              "20   1738.000000      2  \n",
              "98   1479.485294      2  \n",
              "41   1479.485294      2  "
            ],
            "text/html": [
              "\n",
              "  <div id=\"df-6aa90158-1093-4359-8ba5-58b49ee02499\">\n",
              "    <div class=\"colab-df-container\">\n",
              "      <div>\n",
              "<style scoped>\n",
              "    .dataframe tbody tr th:only-of-type {\n",
              "        vertical-align: middle;\n",
              "    }\n",
              "\n",
              "    .dataframe tbody tr th {\n",
              "        vertical-align: top;\n",
              "    }\n",
              "\n",
              "    .dataframe thead th {\n",
              "        text-align: right;\n",
              "    }\n",
              "</style>\n",
              "<table border=\"1\" class=\"dataframe\">\n",
              "  <thead>\n",
              "    <tr style=\"text-align: right;\">\n",
              "      <th></th>\n",
              "      <th>Title</th>\n",
              "      <th>Lang</th>\n",
              "      <th>Record_date</th>\n",
              "      <th>url</th>\n",
              "      <th>Description</th>\n",
              "      <th>Category</th>\n",
              "      <th>Tags</th>\n",
              "      <th>Speakers</th>\n",
              "      <th>Duration</th>\n",
              "      <th>label</th>\n",
              "    </tr>\n",
              "  </thead>\n",
              "  <tbody>\n",
              "    <tr>\n",
              "      <th>111</th>\n",
              "      <td>Avoiding Burnout, and other essentials of Open...</td>\n",
              "      <td>eng</td>\n",
              "      <td>2015-04-12</td>\n",
              "      <td>https://www.youtube.com/watch?v=RbeHBnWfXUc</td>\n",
              "      <td>As technical community managers we are faced w...</td>\n",
              "      <td>PyCon US 2015</td>\n",
              "      <td>[]</td>\n",
              "      <td>[Kathleen Danielson]</td>\n",
              "      <td>1479.485294</td>\n",
              "      <td>2</td>\n",
              "    </tr>\n",
              "    <tr>\n",
              "      <th>53</th>\n",
              "      <td>How Open Source Hardware Will Change the World</td>\n",
              "      <td>eng</td>\n",
              "      <td>2013-11-14</td>\n",
              "      <td>https://archive.org/details/pyvideo_2450___How...</td>\n",
              "      <td></td>\n",
              "      <td>ChiPy</td>\n",
              "      <td>[]</td>\n",
              "      <td>[Paul Ebreo]</td>\n",
              "      <td>8.000000</td>\n",
              "      <td>1</td>\n",
              "    </tr>\n",
              "    <tr>\n",
              "      <th>20</th>\n",
              "      <td>Hacking Django Channels for Fun and Profit</td>\n",
              "      <td>eng</td>\n",
              "      <td>2021-06-03</td>\n",
              "      <td>https://www.youtube.com/watch?v=DK74vjuhpuM</td>\n",
              "      <td>- Intro and Backstory on Django Channels histo...</td>\n",
              "      <td></td>\n",
              "      <td>[Django, DjangoConEU, djangoconeu2021]</td>\n",
              "      <td>[Calvin Hendryx-Parker]</td>\n",
              "      <td>1738.000000</td>\n",
              "      <td>2</td>\n",
              "    </tr>\n",
              "    <tr>\n",
              "      <th>98</th>\n",
              "      <td>My Python's a little Rust-y</td>\n",
              "      <td>eng</td>\n",
              "      <td>2015-04-11</td>\n",
              "      <td>https://www.youtube.com/watch?v=3CwJ0MH-4MA</td>\n",
              "      <td>Rust is a new systems programming language fro...</td>\n",
              "      <td>PyCon US 2015</td>\n",
              "      <td>[]</td>\n",
              "      <td>[Dan Callahan]</td>\n",
              "      <td>1479.485294</td>\n",
              "      <td>2</td>\n",
              "    </tr>\n",
              "    <tr>\n",
              "      <th>41</th>\n",
              "      <td>Facts and Myths about Python names and values</td>\n",
              "      <td>eng</td>\n",
              "      <td>2015-04-11</td>\n",
              "      <td>https://www.youtube.com/watch?v=_AEJHKGk9ns</td>\n",
              "      <td>The behavior of names and values in Python can...</td>\n",
              "      <td>PyCon US 2015</td>\n",
              "      <td>[]</td>\n",
              "      <td>[Ned Batchelder]</td>\n",
              "      <td>1479.485294</td>\n",
              "      <td>2</td>\n",
              "    </tr>\n",
              "  </tbody>\n",
              "</table>\n",
              "</div>\n",
              "      <button class=\"colab-df-convert\" onclick=\"convertToInteractive('df-6aa90158-1093-4359-8ba5-58b49ee02499')\"\n",
              "              title=\"Convert this dataframe to an interactive table.\"\n",
              "              style=\"display:none;\">\n",
              "        \n",
              "  <svg xmlns=\"http://www.w3.org/2000/svg\" height=\"24px\"viewBox=\"0 0 24 24\"\n",
              "       width=\"24px\">\n",
              "    <path d=\"M0 0h24v24H0V0z\" fill=\"none\"/>\n",
              "    <path d=\"M18.56 5.44l.94 2.06.94-2.06 2.06-.94-2.06-.94-.94-2.06-.94 2.06-2.06.94zm-11 1L8.5 8.5l.94-2.06 2.06-.94-2.06-.94L8.5 2.5l-.94 2.06-2.06.94zm10 10l.94 2.06.94-2.06 2.06-.94-2.06-.94-.94-2.06-.94 2.06-2.06.94z\"/><path d=\"M17.41 7.96l-1.37-1.37c-.4-.4-.92-.59-1.43-.59-.52 0-1.04.2-1.43.59L10.3 9.45l-7.72 7.72c-.78.78-.78 2.05 0 2.83L4 21.41c.39.39.9.59 1.41.59.51 0 1.02-.2 1.41-.59l7.78-7.78 2.81-2.81c.8-.78.8-2.07 0-2.86zM5.41 20L4 18.59l7.72-7.72 1.47 1.35L5.41 20z\"/>\n",
              "  </svg>\n",
              "      </button>\n",
              "      \n",
              "  <style>\n",
              "    .colab-df-container {\n",
              "      display:flex;\n",
              "      flex-wrap:wrap;\n",
              "      gap: 12px;\n",
              "    }\n",
              "\n",
              "    .colab-df-convert {\n",
              "      background-color: #E8F0FE;\n",
              "      border: none;\n",
              "      border-radius: 50%;\n",
              "      cursor: pointer;\n",
              "      display: none;\n",
              "      fill: #1967D2;\n",
              "      height: 32px;\n",
              "      padding: 0 0 0 0;\n",
              "      width: 32px;\n",
              "    }\n",
              "\n",
              "    .colab-df-convert:hover {\n",
              "      background-color: #E2EBFA;\n",
              "      box-shadow: 0px 1px 2px rgba(60, 64, 67, 0.3), 0px 1px 3px 1px rgba(60, 64, 67, 0.15);\n",
              "      fill: #174EA6;\n",
              "    }\n",
              "\n",
              "    [theme=dark] .colab-df-convert {\n",
              "      background-color: #3B4455;\n",
              "      fill: #D2E3FC;\n",
              "    }\n",
              "\n",
              "    [theme=dark] .colab-df-convert:hover {\n",
              "      background-color: #434B5C;\n",
              "      box-shadow: 0px 1px 3px 1px rgba(0, 0, 0, 0.15);\n",
              "      filter: drop-shadow(0px 1px 2px rgba(0, 0, 0, 0.3));\n",
              "      fill: #FFFFFF;\n",
              "    }\n",
              "  </style>\n",
              "\n",
              "      <script>\n",
              "        const buttonEl =\n",
              "          document.querySelector('#df-6aa90158-1093-4359-8ba5-58b49ee02499 button.colab-df-convert');\n",
              "        buttonEl.style.display =\n",
              "          google.colab.kernel.accessAllowed ? 'block' : 'none';\n",
              "\n",
              "        async function convertToInteractive(key) {\n",
              "          const element = document.querySelector('#df-6aa90158-1093-4359-8ba5-58b49ee02499');\n",
              "          const dataTable =\n",
              "            await google.colab.kernel.invokeFunction('convertToInteractive',\n",
              "                                                     [key], {});\n",
              "          if (!dataTable) return;\n",
              "\n",
              "          const docLinkHtml = 'Like what you see? Visit the ' +\n",
              "            '<a target=\"_blank\" href=https://colab.research.google.com/notebooks/data_table.ipynb>data table notebook</a>'\n",
              "            + ' to learn more about interactive tables.';\n",
              "          element.innerHTML = '';\n",
              "          dataTable['output_type'] = 'display_data';\n",
              "          await google.colab.output.renderOutput(dataTable, element);\n",
              "          const docLink = document.createElement('div');\n",
              "          docLink.innerHTML = docLinkHtml;\n",
              "          element.appendChild(docLink);\n",
              "        }\n",
              "      </script>\n",
              "    </div>\n",
              "  </div>\n",
              "  "
            ]
          },
          "metadata": {},
          "execution_count": 40
        }
      ],
      "source": [
        "def label_func(x):\n",
        "    if x < 1000:\n",
        "        return 1\n",
        "    if 1000 < x < 2000:\n",
        "        return 2\n",
        "    if x >= 2000:\n",
        "        return 3\n",
        "\n",
        "df[\"label\"] = df[\"Duration\"].apply(label_func)\n",
        "df.sample(5)"
      ]
    },
    {
      "cell_type": "markdown",
      "metadata": {
        "id": "jLgSU7cQW6tx"
      },
      "source": [
        "### Part 6: First and Last video of each label"
      ]
    },
    {
      "cell_type": "code",
      "execution_count": 43,
      "metadata": {
        "id": "FzhzfKxaW6tx",
        "colab": {
          "base_uri": "https://localhost:8080/",
          "height": 206
        },
        "outputId": "edff20e7-4131-41a5-d4af-aaf7622f4261"
      },
      "outputs": [
        {
          "output_type": "execute_result",
          "data": {
            "text/plain": [
              "                                                   Title  \\\n",
              "                                                   first   \n",
              "label                                                      \n",
              "1                                In-project virtualenvs    \n",
              "2      ChiPy: Chicago Python User Group Jan. '08 Meeting   \n",
              "3                                 Pingo means \"pin, go!\"   \n",
              "\n",
              "                                                        Record_date             \n",
              "                                                   last       first       last  \n",
              "label                                                                           \n",
              "1                               ChiPy Python Mentorship  2013-05-09 2016-03-10  \n",
              "2      Load Testing a Django Application using LocustIO  2008-01-01 2021-06-04  \n",
              "3                             Serving Files with Django  2014-07-09 2021-06-04  "
            ],
            "text/html": [
              "\n",
              "  <div id=\"df-12b47ad3-4183-419c-ab71-35a1395c84d4\">\n",
              "    <div class=\"colab-df-container\">\n",
              "      <div>\n",
              "<style scoped>\n",
              "    .dataframe tbody tr th:only-of-type {\n",
              "        vertical-align: middle;\n",
              "    }\n",
              "\n",
              "    .dataframe tbody tr th {\n",
              "        vertical-align: top;\n",
              "    }\n",
              "\n",
              "    .dataframe thead tr th {\n",
              "        text-align: left;\n",
              "    }\n",
              "\n",
              "    .dataframe thead tr:last-of-type th {\n",
              "        text-align: right;\n",
              "    }\n",
              "</style>\n",
              "<table border=\"1\" class=\"dataframe\">\n",
              "  <thead>\n",
              "    <tr>\n",
              "      <th></th>\n",
              "      <th colspan=\"2\" halign=\"left\">Title</th>\n",
              "      <th colspan=\"2\" halign=\"left\">Record_date</th>\n",
              "    </tr>\n",
              "    <tr>\n",
              "      <th></th>\n",
              "      <th>first</th>\n",
              "      <th>last</th>\n",
              "      <th>first</th>\n",
              "      <th>last</th>\n",
              "    </tr>\n",
              "    <tr>\n",
              "      <th>label</th>\n",
              "      <th></th>\n",
              "      <th></th>\n",
              "      <th></th>\n",
              "      <th></th>\n",
              "    </tr>\n",
              "  </thead>\n",
              "  <tbody>\n",
              "    <tr>\n",
              "      <th>1</th>\n",
              "      <td>In-project virtualenvs</td>\n",
              "      <td>ChiPy Python Mentorship</td>\n",
              "      <td>2013-05-09</td>\n",
              "      <td>2016-03-10</td>\n",
              "    </tr>\n",
              "    <tr>\n",
              "      <th>2</th>\n",
              "      <td>ChiPy: Chicago Python User Group Jan. '08 Meeting</td>\n",
              "      <td>Load Testing a Django Application using LocustIO</td>\n",
              "      <td>2008-01-01</td>\n",
              "      <td>2021-06-04</td>\n",
              "    </tr>\n",
              "    <tr>\n",
              "      <th>3</th>\n",
              "      <td>Pingo means \"pin, go!\"</td>\n",
              "      <td>Serving Files with Django</td>\n",
              "      <td>2014-07-09</td>\n",
              "      <td>2021-06-04</td>\n",
              "    </tr>\n",
              "  </tbody>\n",
              "</table>\n",
              "</div>\n",
              "      <button class=\"colab-df-convert\" onclick=\"convertToInteractive('df-12b47ad3-4183-419c-ab71-35a1395c84d4')\"\n",
              "              title=\"Convert this dataframe to an interactive table.\"\n",
              "              style=\"display:none;\">\n",
              "        \n",
              "  <svg xmlns=\"http://www.w3.org/2000/svg\" height=\"24px\"viewBox=\"0 0 24 24\"\n",
              "       width=\"24px\">\n",
              "    <path d=\"M0 0h24v24H0V0z\" fill=\"none\"/>\n",
              "    <path d=\"M18.56 5.44l.94 2.06.94-2.06 2.06-.94-2.06-.94-.94-2.06-.94 2.06-2.06.94zm-11 1L8.5 8.5l.94-2.06 2.06-.94-2.06-.94L8.5 2.5l-.94 2.06-2.06.94zm10 10l.94 2.06.94-2.06 2.06-.94-2.06-.94-.94-2.06-.94 2.06-2.06.94z\"/><path d=\"M17.41 7.96l-1.37-1.37c-.4-.4-.92-.59-1.43-.59-.52 0-1.04.2-1.43.59L10.3 9.45l-7.72 7.72c-.78.78-.78 2.05 0 2.83L4 21.41c.39.39.9.59 1.41.59.51 0 1.02-.2 1.41-.59l7.78-7.78 2.81-2.81c.8-.78.8-2.07 0-2.86zM5.41 20L4 18.59l7.72-7.72 1.47 1.35L5.41 20z\"/>\n",
              "  </svg>\n",
              "      </button>\n",
              "      \n",
              "  <style>\n",
              "    .colab-df-container {\n",
              "      display:flex;\n",
              "      flex-wrap:wrap;\n",
              "      gap: 12px;\n",
              "    }\n",
              "\n",
              "    .colab-df-convert {\n",
              "      background-color: #E8F0FE;\n",
              "      border: none;\n",
              "      border-radius: 50%;\n",
              "      cursor: pointer;\n",
              "      display: none;\n",
              "      fill: #1967D2;\n",
              "      height: 32px;\n",
              "      padding: 0 0 0 0;\n",
              "      width: 32px;\n",
              "    }\n",
              "\n",
              "    .colab-df-convert:hover {\n",
              "      background-color: #E2EBFA;\n",
              "      box-shadow: 0px 1px 2px rgba(60, 64, 67, 0.3), 0px 1px 3px 1px rgba(60, 64, 67, 0.15);\n",
              "      fill: #174EA6;\n",
              "    }\n",
              "\n",
              "    [theme=dark] .colab-df-convert {\n",
              "      background-color: #3B4455;\n",
              "      fill: #D2E3FC;\n",
              "    }\n",
              "\n",
              "    [theme=dark] .colab-df-convert:hover {\n",
              "      background-color: #434B5C;\n",
              "      box-shadow: 0px 1px 3px 1px rgba(0, 0, 0, 0.15);\n",
              "      filter: drop-shadow(0px 1px 2px rgba(0, 0, 0, 0.3));\n",
              "      fill: #FFFFFF;\n",
              "    }\n",
              "  </style>\n",
              "\n",
              "      <script>\n",
              "        const buttonEl =\n",
              "          document.querySelector('#df-12b47ad3-4183-419c-ab71-35a1395c84d4 button.colab-df-convert');\n",
              "        buttonEl.style.display =\n",
              "          google.colab.kernel.accessAllowed ? 'block' : 'none';\n",
              "\n",
              "        async function convertToInteractive(key) {\n",
              "          const element = document.querySelector('#df-12b47ad3-4183-419c-ab71-35a1395c84d4');\n",
              "          const dataTable =\n",
              "            await google.colab.kernel.invokeFunction('convertToInteractive',\n",
              "                                                     [key], {});\n",
              "          if (!dataTable) return;\n",
              "\n",
              "          const docLinkHtml = 'Like what you see? Visit the ' +\n",
              "            '<a target=\"_blank\" href=https://colab.research.google.com/notebooks/data_table.ipynb>data table notebook</a>'\n",
              "            + ' to learn more about interactive tables.';\n",
              "          element.innerHTML = '';\n",
              "          dataTable['output_type'] = 'display_data';\n",
              "          await google.colab.output.renderOutput(dataTable, element);\n",
              "          const docLink = document.createElement('div');\n",
              "          docLink.innerHTML = docLinkHtml;\n",
              "          element.appendChild(docLink);\n",
              "        }\n",
              "      </script>\n",
              "    </div>\n",
              "  </div>\n",
              "  "
            ]
          },
          "metadata": {},
          "execution_count": 43
        }
      ],
      "source": [
        "df.sort_values(\"Record_date\").groupby(\"label\")[[\"Title\", \"Record_date\"]].agg([\"first\", \"last\"])  # Record_date can be removed (just for clarification)"
      ]
    },
    {
      "cell_type": "markdown",
      "metadata": {
        "id": "0bcLUbIcW6tx"
      },
      "source": [
        "### (Bonus) part 7: WordCloud of Discription"
      ]
    },
    {
      "cell_type": "code",
      "execution_count": 44,
      "metadata": {
        "id": "RhiP3X5LW6tx",
        "colab": {
          "base_uri": "https://localhost:8080/",
          "height": 609
        },
        "outputId": "1d6fdb8b-f7bf-471a-aefe-254951352c8a"
      },
      "outputs": [
        {
          "output_type": "stream",
          "name": "stderr",
          "text": [
            "[nltk_data] Downloading package stopwords to /root/nltk_data...\n",
            "[nltk_data]   Unzipping corpora/stopwords.zip.\n"
          ]
        },
        {
          "output_type": "stream",
          "name": "stdout",
          "text": [
            "[('python', 118), ('django', 86), ('talk', 84), ('use', 72), ('using', 53), ('web', 49), ('data', 43), ('code', 40), ('build', 31), ('like', 31), ('learn', 31), ('make', 29), (\"we'll\", 28), ('get', 27), ('new', 26), ('application', 26), ('also', 25), ('tutorial', 24), ('want', 24), ('show', 23), ('software', 23), ('framework', 22), ('cover', 21), ('applications', 20), ('programming', 20), ('know', 20), ('rest', 20), ('way', 20), ('learning', 19), ('used', 19), ('performance', 19), (\"i'll\", 19), ('many', 19), ('language', 18), ('best', 18), ('introduction', 17), ('scientific', 17), ('tools', 16), ('testing', 16), ('development', 16), ('features', 16), ('open', 16), ('help', 15), ('developers', 15), ('good', 15), ('different', 15), ('look', 15), ('common', 14), ('source', 14), ('project', 14)]\n"
          ]
        },
        {
          "output_type": "execute_result",
          "data": {
            "text/plain": [
              "<matplotlib.image.AxesImage at 0x7fee39ab5290>"
            ]
          },
          "metadata": {},
          "execution_count": 44
        },
        {
          "output_type": "display_data",
          "data": {
            "text/plain": [
              "<Figure size 648x648 with 1 Axes>"
            ],
            "image/png": "[encoded data removed]"
          },
          "metadata": {}
        }
      ],
      "source": [
        "from collections import Counter\n",
        "import nltk\n",
        "from nltk.corpus import stopwords\n",
        "from wordcloud import WordCloud\n",
        "import matplotlib.pyplot as plt\n",
        "import numpy as np\n",
        "\n",
        "wordcloud = WordCloud()\n",
        "nltk.download('stopwords')\n",
        "\n",
        "words = (' '.join(df[\"Description\"])).lower().split()\n",
        "filtered_words = [word for word in words if word not in stopwords.words('english') + [\"-\"]]\n",
        "c = Counter(filtered_words).most_common(50)\n",
        "print(c)\n",
        "\n",
        "x, y = np.ogrid[:1000, :1000]\n",
        "mask = (x - 500) ** 2 + (y - 500) ** 2 > 500 ** 2\n",
        "mask = 255 * mask.astype(int)\n",
        "wordcloud = WordCloud(max_words=50, background_color='white', mask=mask).generate_from_frequencies(dict(c))\n",
        "plt.figure(figsize=(9, 9))\n",
        "plt.axis(\"off\")\n",
        "plt.imshow(wordcloud, interpolation='bilInear')"
      ]
    },
    {
      "cell_type": "code",
      "source": [
        "! jupyter nbconvert --to html /content/DA_HW1_MohsenFayyaz.ipynb"
      ],
      "metadata": {
        "colab": {
          "base_uri": "https://localhost:8080/"
        },
        "id": "ondgcZNlbio0",
        "outputId": "989f030e-bf7d-416f-8088-2d221c706e4c"
      },
      "execution_count": null,
      "outputs": [
        {
          "output_type": "stream",
          "name": "stdout",
          "text": [
            "[NbConvertApp] Converting notebook /content/DA_HW1_MohsenFayyaz.ipynb to html\n",
            "[NbConvertApp] Writing 711551 bytes to /content/DA_HW1_MohsenFayyaz.html\n"
          ]
        }
      ]
    },
    {
      "cell_type": "code",
      "source": [],
      "metadata": {
        "id": "FbryHXYTEkk2"
      },
      "execution_count": null,
      "outputs": []
    }
  ],
  "metadata": {
    "kernelspec": {
      "display_name": "Python 3.8.2 64-bit",
      "language": "python",
      "name": "python3"
    },
    "language_info": {
      "codemirror_mode": {
        "name": "ipython",
        "version": 3
      },
      "file_extension": ".py",
      "mimetype": "text/x-python",
      "name": "python",
      "nbconvert_exporter": "python",
      "pygments_lexer": "ipython3",
      "version": "3.8.2"
    },
    "orig_nbformat": 4,
    "vscode": {
      "interpreter": {
        "hash": "5c3183615832a26a6e752fe1c57826911e31ec709aa29e730b8e3637a0be59be"
      }
    },
    "colab": {
      "provenance": [],
      "collapsed_sections": []
    },
    "widgets": {
      "application/vnd.jupyter.widget-state+json": {
        "8b4e66e845ba41cd98ebac8e655dd8e1": {
          "model_module": "@jupyter-widgets/controls",
          "model_name": "HBoxModel",
          "model_module_version": "1.5.0",
          "state": {
            "_dom_classes": [],
            "_model_module": "@jupyter-widgets/controls",
            "_model_module_version": "1.5.0",
            "_model_name": "HBoxModel",
            "_view_count": null,
            "_view_module": "@jupyter-widgets/controls",
            "_view_module_version": "1.5.0",
            "_view_name": "HBoxView",
            "box_style": "",
            "children": [
              "IPY_MODEL_5a094deda79e415ba0a1dcc3b0029f66",
              "IPY_MODEL_0527ea1d65f14fd8a97bc5643eeb9989",
              "IPY_MODEL_842eeceb143a423db3ed644d619cd573"
            ],
            "layout": "IPY_MODEL_88dd7c61d95e400e955b705deab118eb"
          }
        },
        "5a094deda79e415ba0a1dcc3b0029f66": {
          "model_module": "@jupyter-widgets/controls",
          "model_name": "HTMLModel",
          "model_module_version": "1.5.0",
          "state": {
            "_dom_classes": [],
            "_model_module": "@jupyter-widgets/controls",
            "_model_module_version": "1.5.0",
            "_model_name": "HTMLModel",
            "_view_count": null,
            "_view_module": "@jupyter-widgets/controls",
            "_view_module_version": "1.5.0",
            "_view_name": "HTMLView",
            "description": "",
            "description_tooltip": null,
            "layout": "IPY_MODEL_2a23585796db4cfc955c56905ff25c04",
            "placeholder": "​",
            "style": "IPY_MODEL_0c55d29f2a164bc0b86bc9145ebe7b8e",
            "value": "100%"
          }
        },
        "0527ea1d65f14fd8a97bc5643eeb9989": {
          "model_module": "@jupyter-widgets/controls",
          "model_name": "FloatProgressModel",
          "model_module_version": "1.5.0",
          "state": {
            "_dom_classes": [],
            "_model_module": "@jupyter-widgets/controls",
            "_model_module_version": "1.5.0",
            "_model_name": "FloatProgressModel",
            "_view_count": null,
            "_view_module": "@jupyter-widgets/controls",
            "_view_module_version": "1.5.0",
            "_view_name": "ProgressView",
            "bar_style": "success",
            "description": "",
            "description_tooltip": null,
            "layout": "IPY_MODEL_d0c60f2016ff49fab6c8b44c4dee73aa",
            "max": 8257,
            "min": 0,
            "orientation": "horizontal",
            "style": "IPY_MODEL_025591d1a914439fb1725cfddd2c2b49",
            "value": 8257
          }
        },
        "842eeceb143a423db3ed644d619cd573": {
          "model_module": "@jupyter-widgets/controls",
          "model_name": "HTMLModel",
          "model_module_version": "1.5.0",
          "state": {
            "_dom_classes": [],
            "_model_module": "@jupyter-widgets/controls",
            "_model_module_version": "1.5.0",
            "_model_name": "HTMLModel",
            "_view_count": null,
            "_view_module": "@jupyter-widgets/controls",
            "_view_module_version": "1.5.0",
            "_view_name": "HTMLView",
            "description": "",
            "description_tooltip": null,
            "layout": "IPY_MODEL_dad08a1336a04a36bc641ac425663d88",
            "placeholder": "​",
            "style": "IPY_MODEL_d9244584ce9444e9b5f080e41d6b9afc",
            "value": " 8257/8257 [00:00&lt;00:00, 92498.76it/s]"
          }
        },
        "88dd7c61d95e400e955b705deab118eb": {
          "model_module": "@jupyter-widgets/base",
          "model_name": "LayoutModel",
          "model_module_version": "1.2.0",
          "state": {
            "_model_module": "@jupyter-widgets/base",
            "_model_module_version": "1.2.0",
            "_model_name": "LayoutModel",
            "_view_count": null,
            "_view_module": "@jupyter-widgets/base",
            "_view_module_version": "1.2.0",
            "_view_name": "LayoutView",
            "align_content": null,
            "align_items": null,
            "align_self": null,
            "border": null,
            "bottom": null,
            "display": null,
            "flex": null,
            "flex_flow": null,
            "grid_area": null,
            "grid_auto_columns": null,
            "grid_auto_flow": null,
            "grid_auto_rows": null,
            "grid_column": null,
            "grid_gap": null,
            "grid_row": null,
            "grid_template_areas": null,
            "grid_template_columns": null,
            "grid_template_rows": null,
            "height": null,
            "justify_content": null,
            "justify_items": null,
            "left": null,
            "margin": null,
            "max_height": null,
            "max_width": null,
            "min_height": null,
            "min_width": null,
            "object_fit": null,
            "object_position": null,
            "order": null,
            "overflow": null,
            "overflow_x": null,
            "overflow_y": null,
            "padding": null,
            "right": null,
            "top": null,
            "visibility": null,
            "width": null
          }
        },
        "2a23585796db4cfc955c56905ff25c04": {
          "model_module": "@jupyter-widgets/base",
          "model_name": "LayoutModel",
          "model_module_version": "1.2.0",
          "state": {
            "_model_module": "@jupyter-widgets/base",
            "_model_module_version": "1.2.0",
            "_model_name": "LayoutModel",
            "_view_count": null,
            "_view_module": "@jupyter-widgets/base",
            "_view_module_version": "1.2.0",
            "_view_name": "LayoutView",
            "align_content": null,
            "align_items": null,
            "align_self": null,
            "border": null,
            "bottom": null,
            "display": null,
            "flex": null,
            "flex_flow": null,
            "grid_area": null,
            "grid_auto_columns": null,
            "grid_auto_flow": null,
            "grid_auto_rows": null,
            "grid_column": null,
            "grid_gap": null,
            "grid_row": null,
            "grid_template_areas": null,
            "grid_template_columns": null,
            "grid_template_rows": null,
            "height": null,
            "justify_content": null,
            "justify_items": null,
            "left": null,
            "margin": null,
            "max_height": null,
            "max_width": null,
            "min_height": null,
            "min_width": null,
            "object_fit": null,
            "object_position": null,
            "order": null,
            "overflow": null,
            "overflow_x": null,
            "overflow_y": null,
            "padding": null,
            "right": null,
            "top": null,
            "visibility": null,
            "width": null
          }
        },
        "0c55d29f2a164bc0b86bc9145ebe7b8e": {
          "model_module": "@jupyter-widgets/controls",
          "model_name": "DescriptionStyleModel",
          "model_module_version": "1.5.0",
          "state": {
            "_model_module": "@jupyter-widgets/controls",
            "_model_module_version": "1.5.0",
            "_model_name": "DescriptionStyleModel",
            "_view_count": null,
            "_view_module": "@jupyter-widgets/base",
            "_view_module_version": "1.2.0",
            "_view_name": "StyleView",
            "description_width": ""
          }
        },
        "d0c60f2016ff49fab6c8b44c4dee73aa": {
          "model_module": "@jupyter-widgets/base",
          "model_name": "LayoutModel",
          "model_module_version": "1.2.0",
          "state": {
            "_model_module": "@jupyter-widgets/base",
            "_model_module_version": "1.2.0",
            "_model_name": "LayoutModel",
            "_view_count": null,
            "_view_module": "@jupyter-widgets/base",
            "_view_module_version": "1.2.0",
            "_view_name": "LayoutView",
            "align_content": null,
            "align_items": null,
            "align_self": null,
            "border": null,
            "bottom": null,
            "display": null,
            "flex": null,
            "flex_flow": null,
            "grid_area": null,
            "grid_auto_columns": null,
            "grid_auto_flow": null,
            "grid_auto_rows": null,
            "grid_column": null,
            "grid_gap": null,
            "grid_row": null,
            "grid_template_areas": null,
            "grid_template_columns": null,
            "grid_template_rows": null,
            "height": null,
            "justify_content": null,
            "justify_items": null,
            "left": null,
            "margin": null,
            "max_height": null,
            "max_width": null,
            "min_height": null,
            "min_width": null,
            "object_fit": null,
            "object_position": null,
            "order": null,
            "overflow": null,
            "overflow_x": null,
            "overflow_y": null,
            "padding": null,
            "right": null,
            "top": null,
            "visibility": null,
            "width": null
          }
        },
        "025591d1a914439fb1725cfddd2c2b49": {
          "model_module": "@jupyter-widgets/controls",
          "model_name": "ProgressStyleModel",
          "model_module_version": "1.5.0",
          "state": {
            "_model_module": "@jupyter-widgets/controls",
            "_model_module_version": "1.5.0",
            "_model_name": "ProgressStyleModel",
            "_view_count": null,
            "_view_module": "@jupyter-widgets/base",
            "_view_module_version": "1.2.0",
            "_view_name": "StyleView",
            "bar_color": null,
            "description_width": ""
          }
        },
        "dad08a1336a04a36bc641ac425663d88": {
          "model_module": "@jupyter-widgets/base",
          "model_name": "LayoutModel",
          "model_module_version": "1.2.0",
          "state": {
            "_model_module": "@jupyter-widgets/base",
            "_model_module_version": "1.2.0",
            "_model_name": "LayoutModel",
            "_view_count": null,
            "_view_module": "@jupyter-widgets/base",
            "_view_module_version": "1.2.0",
            "_view_name": "LayoutView",
            "align_content": null,
            "align_items": null,
            "align_self": null,
            "border": null,
            "bottom": null,
            "display": null,
            "flex": null,
            "flex_flow": null,
            "grid_area": null,
            "grid_auto_columns": null,
            "grid_auto_flow": null,
            "grid_auto_rows": null,
            "grid_column": null,
            "grid_gap": null,
            "grid_row": null,
            "grid_template_areas": null,
            "grid_template_columns": null,
            "grid_template_rows": null,
            "height": null,
            "justify_content": null,
            "justify_items": null,
            "left": null,
            "margin": null,
            "max_height": null,
            "max_width": null,
            "min_height": null,
            "min_width": null,
            "object_fit": null,
            "object_position": null,
            "order": null,
            "overflow": null,
            "overflow_x": null,
            "overflow_y": null,
            "padding": null,
            "right": null,
            "top": null,
            "visibility": null,
            "width": null
          }
        },
        "d9244584ce9444e9b5f080e41d6b9afc": {
          "model_module": "@jupyter-widgets/controls",
          "model_name": "DescriptionStyleModel",
          "model_module_version": "1.5.0",
          "state": {
            "_model_module": "@jupyter-widgets/controls",
            "_model_module_version": "1.5.0",
            "_model_name": "DescriptionStyleModel",
            "_view_count": null,
            "_view_module": "@jupyter-widgets/base",
            "_view_module_version": "1.2.0",
            "_view_name": "StyleView",
            "description_width": ""
          }
        },
        "e84a3a91b917428a8731312cdfa01eb7": {
          "model_module": "@jupyter-widgets/controls",
          "model_name": "HBoxModel",
          "model_module_version": "1.5.0",
          "state": {
            "_dom_classes": [],
            "_model_module": "@jupyter-widgets/controls",
            "_model_module_version": "1.5.0",
            "_model_name": "HBoxModel",
            "_view_count": null,
            "_view_module": "@jupyter-widgets/controls",
            "_view_module_version": "1.5.0",
            "_view_name": "HBoxView",
            "box_style": "",
            "children": [
              "IPY_MODEL_c90908383a0048bf964988f48319f603",
              "IPY_MODEL_3683624d8efe47f0a908384fd32ef988",
              "IPY_MODEL_1b060c7a186e4aba86f07d6ca881e1b5"
            ],
            "layout": "IPY_MODEL_6faaaba0ab3842b3b27ae87e4697feca"
          }
        },
        "c90908383a0048bf964988f48319f603": {
          "model_module": "@jupyter-widgets/controls",
          "model_name": "HTMLModel",
          "model_module_version": "1.5.0",
          "state": {
            "_dom_classes": [],
            "_model_module": "@jupyter-widgets/controls",
            "_model_module_version": "1.5.0",
            "_model_name": "HTMLModel",
            "_view_count": null,
            "_view_module": "@jupyter-widgets/controls",
            "_view_module_version": "1.5.0",
            "_view_name": "HTMLView",
            "description": "",
            "description_tooltip": null,
            "layout": "IPY_MODEL_ee32692d4e5a424f8d3a836dba51776b",
            "placeholder": "​",
            "style": "IPY_MODEL_90d3726818674945ae5fb1cb1880ab0a",
            "value": "100%"
          }
        },
        "3683624d8efe47f0a908384fd32ef988": {
          "model_module": "@jupyter-widgets/controls",
          "model_name": "FloatProgressModel",
          "model_module_version": "1.5.0",
          "state": {
            "_dom_classes": [],
            "_model_module": "@jupyter-widgets/controls",
            "_model_module_version": "1.5.0",
            "_model_name": "FloatProgressModel",
            "_view_count": null,
            "_view_module": "@jupyter-widgets/controls",
            "_view_module_version": "1.5.0",
            "_view_name": "ProgressView",
            "bar_style": "success",
            "description": "",
            "description_tooltip": null,
            "layout": "IPY_MODEL_fc1d8f35c71a4ed0b4d63b37c5885a90",
            "max": 244,
            "min": 0,
            "orientation": "horizontal",
            "style": "IPY_MODEL_463df61e91b5421ab453fc1c2c371839",
            "value": 244
          }
        },
        "1b060c7a186e4aba86f07d6ca881e1b5": {
          "model_module": "@jupyter-widgets/controls",
          "model_name": "HTMLModel",
          "model_module_version": "1.5.0",
          "state": {
            "_dom_classes": [],
            "_model_module": "@jupyter-widgets/controls",
            "_model_module_version": "1.5.0",
            "_model_name": "HTMLModel",
            "_view_count": null,
            "_view_module": "@jupyter-widgets/controls",
            "_view_module_version": "1.5.0",
            "_view_name": "HTMLView",
            "description": "",
            "description_tooltip": null,
            "layout": "IPY_MODEL_56e26fd06526424196df5277433e72e3",
            "placeholder": "​",
            "style": "IPY_MODEL_9940a5b1f63847a6afa76e81808e6279",
            "value": " 244/244 [00:00&lt;00:00, 1037.21it/s]"
          }
        },
        "6faaaba0ab3842b3b27ae87e4697feca": {
          "model_module": "@jupyter-widgets/base",
          "model_name": "LayoutModel",
          "model_module_version": "1.2.0",
          "state": {
            "_model_module": "@jupyter-widgets/base",
            "_model_module_version": "1.2.0",
            "_model_name": "LayoutModel",
            "_view_count": null,
            "_view_module": "@jupyter-widgets/base",
            "_view_module_version": "1.2.0",
            "_view_name": "LayoutView",
            "align_content": null,
            "align_items": null,
            "align_self": null,
            "border": null,
            "bottom": null,
            "display": null,
            "flex": null,
            "flex_flow": null,
            "grid_area": null,
            "grid_auto_columns": null,
            "grid_auto_flow": null,
            "grid_auto_rows": null,
            "grid_column": null,
            "grid_gap": null,
            "grid_row": null,
            "grid_template_areas": null,
            "grid_template_columns": null,
            "grid_template_rows": null,
            "height": null,
            "justify_content": null,
            "justify_items": null,
            "left": null,
            "margin": null,
            "max_height": null,
            "max_width": null,
            "min_height": null,
            "min_width": null,
            "object_fit": null,
            "object_position": null,
            "order": null,
            "overflow": null,
            "overflow_x": null,
            "overflow_y": null,
            "padding": null,
            "right": null,
            "top": null,
            "visibility": null,
            "width": null
          }
        },
        "ee32692d4e5a424f8d3a836dba51776b": {
          "model_module": "@jupyter-widgets/base",
          "model_name": "LayoutModel",
          "model_module_version": "1.2.0",
          "state": {
            "_model_module": "@jupyter-widgets/base",
            "_model_module_version": "1.2.0",
            "_model_name": "LayoutModel",
            "_view_count": null,
            "_view_module": "@jupyter-widgets/base",
            "_view_module_version": "1.2.0",
            "_view_name": "LayoutView",
            "align_content": null,
            "align_items": null,
            "align_self": null,
            "border": null,
            "bottom": null,
            "display": null,
            "flex": null,
            "flex_flow": null,
            "grid_area": null,
            "grid_auto_columns": null,
            "grid_auto_flow": null,
            "grid_auto_rows": null,
            "grid_column": null,
            "grid_gap": null,
            "grid_row": null,
            "grid_template_areas": null,
            "grid_template_columns": null,
            "grid_template_rows": null,
            "height": null,
            "justify_content": null,
            "justify_items": null,
            "left": null,
            "margin": null,
            "max_height": null,
            "max_width": null,
            "min_height": null,
            "min_width": null,
            "object_fit": null,
            "object_position": null,
            "order": null,
            "overflow": null,
            "overflow_x": null,
            "overflow_y": null,
            "padding": null,
            "right": null,
            "top": null,
            "visibility": null,
            "width": null
          }
        },
        "90d3726818674945ae5fb1cb1880ab0a": {
          "model_module": "@jupyter-widgets/controls",
          "model_name": "DescriptionStyleModel",
          "model_module_version": "1.5.0",
          "state": {
            "_model_module": "@jupyter-widgets/controls",
            "_model_module_version": "1.5.0",
            "_model_name": "DescriptionStyleModel",
            "_view_count": null,
            "_view_module": "@jupyter-widgets/base",
            "_view_module_version": "1.2.0",
            "_view_name": "StyleView",
            "description_width": ""
          }
        },
        "fc1d8f35c71a4ed0b4d63b37c5885a90": {
          "model_module": "@jupyter-widgets/base",
          "model_name": "LayoutModel",
          "model_module_version": "1.2.0",
          "state": {
            "_model_module": "@jupyter-widgets/base",
            "_model_module_version": "1.2.0",
            "_model_name": "LayoutModel",
            "_view_count": null,
            "_view_module": "@jupyter-widgets/base",
            "_view_module_version": "1.2.0",
            "_view_name": "LayoutView",
            "align_content": null,
            "align_items": null,
            "align_self": null,
            "border": null,
            "bottom": null,
            "display": null,
            "flex": null,
            "flex_flow": null,
            "grid_area": null,
            "grid_auto_columns": null,
            "grid_auto_flow": null,
            "grid_auto_rows": null,
            "grid_column": null,
            "grid_gap": null,
            "grid_row": null,
            "grid_template_areas": null,
            "grid_template_columns": null,
            "grid_template_rows": null,
            "height": null,
            "justify_content": null,
            "justify_items": null,
            "left": null,
            "margin": null,
            "max_height": null,
            "max_width": null,
            "min_height": null,
            "min_width": null,
            "object_fit": null,
            "object_position": null,
            "order": null,
            "overflow": null,
            "overflow_x": null,
            "overflow_y": null,
            "padding": null,
            "right": null,
            "top": null,
            "visibility": null,
            "width": null
          }
        },
        "463df61e91b5421ab453fc1c2c371839": {
          "model_module": "@jupyter-widgets/controls",
          "model_name": "ProgressStyleModel",
          "model_module_version": "1.5.0",
          "state": {
            "_model_module": "@jupyter-widgets/controls",
            "_model_module_version": "1.5.0",
            "_model_name": "ProgressStyleModel",
            "_view_count": null,
            "_view_module": "@jupyter-widgets/base",
            "_view_module_version": "1.2.0",
            "_view_name": "StyleView",
            "bar_color": null,
            "description_width": ""
          }
        },
        "56e26fd06526424196df5277433e72e3": {
          "model_module": "@jupyter-widgets/base",
          "model_name": "LayoutModel",
          "model_module_version": "1.2.0",
          "state": {
            "_model_module": "@jupyter-widgets/base",
            "_model_module_version": "1.2.0",
            "_model_name": "LayoutModel",
            "_view_count": null,
            "_view_module": "@jupyter-widgets/base",
            "_view_module_version": "1.2.0",
            "_view_name": "LayoutView",
            "align_content": null,
            "align_items": null,
            "align_self": null,
            "border": null,
            "bottom": null,
            "display": null,
            "flex": null,
            "flex_flow": null,
            "grid_area": null,
            "grid_auto_columns": null,
            "grid_auto_flow": null,
            "grid_auto_rows": null,
            "grid_column": null,
            "grid_gap": null,
            "grid_row": null,
            "grid_template_areas": null,
            "grid_template_columns": null,
            "grid_template_rows": null,
            "height": null,
            "justify_content": null,
            "justify_items": null,
            "left": null,
            "margin": null,
            "max_height": null,
            "max_width": null,
            "min_height": null,
            "min_width": null,
            "object_fit": null,
            "object_position": null,
            "order": null,
            "overflow": null,
            "overflow_x": null,
            "overflow_y": null,
            "padding": null,
            "right": null,
            "top": null,
            "visibility": null,
            "width": null
          }
        },
        "9940a5b1f63847a6afa76e81808e6279": {
          "model_module": "@jupyter-widgets/controls",
          "model_name": "DescriptionStyleModel",
          "model_module_version": "1.5.0",
          "state": {
            "_model_module": "@jupyter-widgets/controls",
            "_model_module_version": "1.5.0",
            "_model_name": "DescriptionStyleModel",
            "_view_count": null,
            "_view_module": "@jupyter-widgets/base",
            "_view_module_version": "1.2.0",
            "_view_name": "StyleView",
            "description_width": ""
          }
        }
      }
    }
  },
  "nbformat": 4,
  "nbformat_minor": 0
}